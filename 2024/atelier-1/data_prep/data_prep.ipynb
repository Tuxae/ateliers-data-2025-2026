{
 "cells": [
  {
   "cell_type": "code",
   "execution_count": 1,
   "id": "dd04ba1f-7094-4e21-9557-2f18db49aefd",
   "metadata": {},
   "outputs": [],
   "source": [
    "import pandas as pd\n",
    "import numpy as np"
   ]
  },
  {
   "cell_type": "code",
   "execution_count": 2,
   "id": "5ef2e95b-18ba-4bfe-948a-88fafc895068",
   "metadata": {},
   "outputs": [],
   "source": [
    "wine_red = pd.read_csv(\"atelier-1/data_prep/winequality-red.csv\", sep=\";\")\n",
    "wine_white = pd.read_csv(\"atelier-1/data_prep/winequality-white.csv\", sep=\";\")\n",
    "\n",
    "wine_red[\"type\"] = \"red\"\n",
    "wine_white[\"type\"] = \"white\""
   ]
  },
  {
   "cell_type": "code",
   "execution_count": 3,
   "id": "8a0a3cd4-70d8-4f1d-8c57-b0fe9b8b26d6",
   "metadata": {},
   "outputs": [],
   "source": [
    "wines = pd.concat([wine_red, wine_white])\n",
    "wines = wines[['type', 'fixed acidity', 'volatile acidity', 'citric acid', 'residual sugar',\n",
    "       'chlorides', 'free sulfur dioxide', 'total sulfur dioxide', 'density',\n",
    "       'pH', 'sulphates', 'alcohol', 'quality']]"
   ]
  },
  {
   "cell_type": "code",
   "execution_count": 4,
   "id": "7518f599-a28e-41a9-8725-ac33e4477e29",
   "metadata": {},
   "outputs": [],
   "source": [
    "quality_mapping = {\n",
    "    3: 'low', 4: 'low', 5: 'low',\n",
    "    6: 'average', 7: 'average',\n",
    "    8: 'high', 9: 'high'\n",
    "}\n",
    "\n",
    "wines['quality'] = wines['quality'].map(quality_mapping)\n",
    "wines = wines.sample(frac=1).reset_index(drop=True)"
   ]
  },
  {
   "cell_type": "code",
   "execution_count": 5,
   "id": "dba63066-e3a9-416d-a1ac-015e762c6853",
   "metadata": {},
   "outputs": [],
   "source": "wines.to_csv(\"atelier-1/wines.csv\", index=False)"
  }
 ],
 "metadata": {
  "kernelspec": {
   "display_name": "Python 3 (ipykernel)",
   "language": "python",
   "name": "python3"
  },
  "language_info": {
   "codemirror_mode": {
    "name": "ipython",
    "version": 3
   },
   "file_extension": ".py",
   "mimetype": "text/x-python",
   "name": "python",
   "nbconvert_exporter": "python",
   "pygments_lexer": "ipython3",
   "version": "3.12.7"
  }
 },
 "nbformat": 4,
 "nbformat_minor": 5
}
