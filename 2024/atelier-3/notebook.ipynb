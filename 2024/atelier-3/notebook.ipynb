{
 "cells": [
  {
   "cell_type": "code",
   "id": "e16e0b5a-7e11-4def-b766-7d66038780cf",
   "metadata": {
    "jupyter": {
     "is_executing": true
    }
   },
   "source": [
    "import pandas as pd\n",
    "import numpy as np\n",
    "\n",
    "pd.options.plotting.backend = \"plotly\""
   ],
   "outputs": [],
   "execution_count": null
  },
  {
   "cell_type": "code",
   "id": "72daabc0-ca6a-45bf-8518-02197b99c166",
   "metadata": {
    "jupyter": {
     "is_executing": true
    }
   },
   "source": [
    "df = pd.read_csv(\"dataset.csv\")\n",
    "len(df), len(df.columns)"
   ],
   "outputs": [],
   "execution_count": null
  },
  {
   "cell_type": "code",
   "id": "72f03c802bd6da7a",
   "metadata": {},
   "source": [
    "df.head()"
   ],
   "outputs": [],
   "execution_count": null
  },
  {
   "cell_type": "code",
   "id": "35668a4775886d49",
   "metadata": {},
   "source": [
    "True + True\n",
    "True + False\n",
    "True + True - False\n",
    "True + True + False - True\n",
    "\n",
    "sum([3, 5, 7]) #15\n",
    "sum([True, True, False, True])"
   ],
   "outputs": [],
   "execution_count": null
  },
  {
   "cell_type": "code",
   "id": "e312a9f3866db437",
   "metadata": {},
   "source": [
    "df.isna()\n",
    "df.isna().sum()\n",
    "df.isna().sum().sort_values()\n",
    "df.isna().sum().sort_values(ascending=False)\n",
    "df.isna().sum().sort_values(ascending=False).head()\n",
    "df.isna().sum().sort_values(ascending=False).head(20)"
   ],
   "outputs": [],
   "execution_count": null
  },
  {
   "cell_type": "code",
   "id": "7fdbef821c4f2af3",
   "metadata": {},
   "source": [
    "df.isna().plot(kind='imshow') #\n",
    "df.isna().plot(kind='imshow', color_continuous_scale='gray_r')"
   ],
   "outputs": [],
   "execution_count": null
  },
  {
   "cell_type": "code",
   "id": "717c32a3d941ce34",
   "metadata": {},
   "source": [
    "df = df.drop(columns=['Alley', 'MasVnrType', 'FireplaceQu', 'PoolQC', 'Fence', 'MiscFeature'])\n",
    "df.isna().plot(kind='imshow', color_continuous_scale='gray_r')"
   ],
   "outputs": [],
   "execution_count": null
  },
  {
   "cell_type": "code",
   "id": "8f0d546d24835124",
   "metadata": {},
   "source": [
    "df = df.dropna()\n",
    "df.isna().plot(kind='imshow', color_continuous_scale='gray_r')"
   ],
   "outputs": [],
   "execution_count": null
  },
  {
   "cell_type": "code",
   "id": "bf6e2fc2657478f4",
   "metadata": {},
   "source": [
    "len(df), len(df.columns)"
   ],
   "outputs": [],
   "execution_count": null
  },
  {
   "cell_type": "code",
   "id": "d8b487d39036c2d1",
   "metadata": {},
   "source": [
    "X = df.drop(columns=['SalePrice'])\n",
    "y = df['SalePrice']"
   ],
   "outputs": [],
   "execution_count": null
  },
  {
   "cell_type": "code",
   "id": "eae77f618215780a",
   "metadata": {},
   "source": [
    "from sklearn.model_selection import train_test_split\n",
    "\n",
    "X_train, X_test, y_train, y_test = train_test_split(X, y, test_size=0.2, random_state=12345)\n",
    "\n",
    "X_num = X.select_dtypes(include='number')\n",
    "X_train_num = X_train.select_dtypes(include='number')\n",
    "X_test_num = X_test.select_dtypes(include='number')"
   ],
   "outputs": [],
   "execution_count": null
  },
  {
   "cell_type": "code",
   "id": "76a09167-a189-44a9-9399-e41b4d9ea889",
   "metadata": {},
   "source": [
    "X_train_num.head()"
   ],
   "outputs": [],
   "execution_count": null
  },
  {
   "cell_type": "code",
   "id": "5996e594-11ff-4430-9901-4c5234e0ad08",
   "metadata": {},
   "source": [
    "from sklearn.neighbors import KNeighborsRegressor\n",
    "\n",
    "knn = KNeighborsRegressor(n_neighbors=5)\n",
    "\n",
    "knn.fit(X_train_num, y_train)"
   ],
   "outputs": [],
   "execution_count": null
  },
  {
   "cell_type": "code",
   "id": "68cbffa9-13bd-4e97-aa5e-8ff89e1dd15d",
   "metadata": {},
   "source": [
    "y_predict = knn.predict(X_test_num)\n",
    "\n",
    "mse = sum((y_predict - y_test)**2)/len(X_test)\n",
    "\n",
    "mse, mse**0.5"
   ],
   "outputs": [],
   "execution_count": null
  },
  {
   "cell_type": "code",
   "id": "0812ce36-bbe3-4049-8a3b-db2b99c90d76",
   "metadata": {},
   "source": [
    "from sklearn.metrics import mean_squared_error, root_mean_squared_error\n",
    "\n",
    "mean_squared_error(y_test, y_predict), root_mean_squared_error(y_test, y_predict)"
   ],
   "outputs": [],
   "execution_count": null
  },
  {
   "cell_type": "code",
   "id": "807bb5d8-1501-4138-bf06-fbe87160be31",
   "metadata": {},
   "source": [
    "scores = pd.DataFrame(data=[i for i in range(2, 300)], columns=['score'], index=range(2, 300))\n",
    "\n",
    "scores['score'] = scores['score'].apply(lambda i: mean_squared_error(y_test, KNeighborsRegressor(n_neighbors=i).fit(X_train_num, y_train).predict(X_test_num)))\n",
    "scores.plot()"
   ],
   "outputs": [],
   "execution_count": null
  },
  {
   "cell_type": "code",
   "id": "b17c066f-e1e5-4939-958e-2fa31d33289e",
   "metadata": {},
   "source": [
    "from sklearn.model_selection import KFold, cross_val_score\n",
    "\n",
    "kf = KFold(n_splits=5, shuffle=True, random_state=42)\n",
    "\n",
    "cv_scores = -cross_val_score(knn, X_num, y, cv=kf, scoring='neg_root_mean_squared_error')\n",
    "\n",
    "print(\"Scores CV:\", cv_scores)\n",
    "print(\"Score CV moyen:\", cv_scores.mean())"
   ],
   "outputs": [],
   "execution_count": null
  },
  {
   "cell_type": "code",
   "id": "c646dfb4-fd62-4039-9cc5-adb03ae8df5c",
   "metadata": {},
   "source": [
    "scores = pd.DataFrame(data=[i for i in range(2, 300)], columns=['score'], index=range(2, 300))\n",
    "\n",
    "scores['score'] = scores['score'].apply(lambda i: -cross_val_score(KNeighborsRegressor(n_neighbors=i), X_num, y, cv=kf, scoring='neg_root_mean_squared_error').mean())\n",
    "scores.plot()"
   ],
   "outputs": [],
   "execution_count": null
  },
  {
   "cell_type": "code",
   "id": "4ead46ae555ac0a1",
   "metadata": {},
   "source": [
    "from sklearn.linear_model import LinearRegression\n",
    "\n",
    "reg = LinearRegression()\n",
    "\n",
    "reg.fit(X_train_num, y_train)"
   ],
   "outputs": [],
   "execution_count": null
  },
  {
   "cell_type": "code",
   "id": "845ade5169ea2cf5",
   "metadata": {},
   "source": [
    "rmse = root_mean_squared_error\n",
    "\n",
    "rmse(y_train, reg.predict(X_train_num))"
   ],
   "outputs": [],
   "execution_count": null
  },
  {
   "cell_type": "code",
   "id": "4996d900-3b53-4de7-b627-e5a818f1a795",
   "metadata": {},
   "source": [
    "rmse(y_test, reg.predict(X_test_num))"
   ],
   "outputs": [],
   "execution_count": null
  },
  {
   "cell_type": "code",
   "id": "44207e0825f34580",
   "metadata": {},
   "source": [
    "from sklearn.feature_selection import mutual_info_regression\n",
    "\n",
    "mi_scores = mutual_info_regression(X_train_num, y_train)\n",
    "mi_scores = pd.Series(mi_scores, name=\"MI Scores\", index=X_train_num.columns)\n",
    "mi_scores = mi_scores.sort_values(ascending=False)\n",
    "\n",
    "mi_scores.plot(kind='bar')"
   ],
   "outputs": [],
   "execution_count": null
  },
  {
   "cell_type": "code",
   "id": "eb8bfc11-c1de-4bf5-8eb1-87fa307c5212",
   "metadata": {},
   "source": [
    "reg.fit(X_train_num[mi_scores[:10].index], y_train)"
   ],
   "outputs": [],
   "execution_count": null
  },
  {
   "cell_type": "code",
   "id": "5c7bb54e-5ab6-4674-9a4e-7b7d719fbca3",
   "metadata": {},
   "source": [
    "rmse(y_train, reg.predict(X_train_num[mi_scores[:10].index]))"
   ],
   "outputs": [],
   "execution_count": null
  },
  {
   "cell_type": "code",
   "id": "438c5986-3e5a-4abe-82c9-cc5afa3098dd",
   "metadata": {},
   "source": [],
   "outputs": [],
   "execution_count": null
  }
 ],
 "metadata": {
  "kernelspec": {
   "display_name": "Python 3 (ipykernel)",
   "language": "python",
   "name": "python3"
  },
  "language_info": {
   "codemirror_mode": {
    "name": "ipython",
    "version": 3
   },
   "file_extension": ".py",
   "mimetype": "text/x-python",
   "name": "python",
   "nbconvert_exporter": "python",
   "pygments_lexer": "ipython3",
   "version": "3.12.9"
  }
 },
 "nbformat": 4,
 "nbformat_minor": 5
}
