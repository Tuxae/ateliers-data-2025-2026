{
 "cells": [
  {
   "cell_type": "code",
   "id": "initial_id",
   "metadata": {
    "collapsed": true,
    "ExecuteTime": {
     "end_time": "2025-09-18T10:33:21.787800Z",
     "start_time": "2025-09-18T10:33:21.451936Z"
    }
   },
   "source": [
    "import pandas as pd\n",
    "\n",
    "pd.options.plotting.backend = \"plotly\""
   ],
   "outputs": [],
   "execution_count": 1
  },
  {
   "metadata": {
    "ExecuteTime": {
     "end_time": "2025-09-18T10:33:21.933737Z",
     "start_time": "2025-09-18T10:33:21.922856Z"
    }
   },
   "cell_type": "code",
   "source": "df = pd.read_csv(\"dataset.csv\")",
   "id": "c30e84354f824dac",
   "outputs": [],
   "execution_count": 2
  },
  {
   "metadata": {
    "ExecuteTime": {
     "end_time": "2025-09-18T10:33:22.535038Z",
     "start_time": "2025-09-18T10:33:22.523445Z"
    }
   },
   "cell_type": "code",
   "source": "df.head()",
   "id": "628f2db39a5c4ec9",
   "outputs": [
    {
     "data": {
      "text/plain": [
       "   fixed acidity  volatile acidity  citric acid  residual sugar  chlorides  \\\n",
       "0            7.0              0.27         0.36            20.7      0.045   \n",
       "1            6.3              0.30         0.34             1.6      0.049   \n",
       "2            8.1              0.28         0.40             6.9      0.050   \n",
       "3            7.2              0.23         0.32             8.5      0.058   \n",
       "4            7.2              0.23         0.32             8.5      0.058   \n",
       "\n",
       "   free sulfur dioxide  total sulfur dioxide  density    pH  sulphates  \\\n",
       "0                 45.0                 170.0   1.0010  3.00       0.45   \n",
       "1                 14.0                 132.0   0.9940  3.30       0.49   \n",
       "2                 30.0                  97.0   0.9951  3.26       0.44   \n",
       "3                 47.0                 186.0   0.9956  3.19       0.40   \n",
       "4                 47.0                 186.0   0.9956  3.19       0.40   \n",
       "\n",
       "   alcohol quality label  \n",
       "0      8.8        normal  \n",
       "1      9.5        normal  \n",
       "2     10.1        normal  \n",
       "3      9.9        normal  \n",
       "4      9.9        normal  "
      ],
      "text/html": [
       "<div>\n",
       "<style scoped>\n",
       "    .dataframe tbody tr th:only-of-type {\n",
       "        vertical-align: middle;\n",
       "    }\n",
       "\n",
       "    .dataframe tbody tr th {\n",
       "        vertical-align: top;\n",
       "    }\n",
       "\n",
       "    .dataframe thead th {\n",
       "        text-align: right;\n",
       "    }\n",
       "</style>\n",
       "<table border=\"1\" class=\"dataframe\">\n",
       "  <thead>\n",
       "    <tr style=\"text-align: right;\">\n",
       "      <th></th>\n",
       "      <th>fixed acidity</th>\n",
       "      <th>volatile acidity</th>\n",
       "      <th>citric acid</th>\n",
       "      <th>residual sugar</th>\n",
       "      <th>chlorides</th>\n",
       "      <th>free sulfur dioxide</th>\n",
       "      <th>total sulfur dioxide</th>\n",
       "      <th>density</th>\n",
       "      <th>pH</th>\n",
       "      <th>sulphates</th>\n",
       "      <th>alcohol</th>\n",
       "      <th>quality label</th>\n",
       "    </tr>\n",
       "  </thead>\n",
       "  <tbody>\n",
       "    <tr>\n",
       "      <th>0</th>\n",
       "      <td>7.0</td>\n",
       "      <td>0.27</td>\n",
       "      <td>0.36</td>\n",
       "      <td>20.7</td>\n",
       "      <td>0.045</td>\n",
       "      <td>45.0</td>\n",
       "      <td>170.0</td>\n",
       "      <td>1.0010</td>\n",
       "      <td>3.00</td>\n",
       "      <td>0.45</td>\n",
       "      <td>8.8</td>\n",
       "      <td>normal</td>\n",
       "    </tr>\n",
       "    <tr>\n",
       "      <th>1</th>\n",
       "      <td>6.3</td>\n",
       "      <td>0.30</td>\n",
       "      <td>0.34</td>\n",
       "      <td>1.6</td>\n",
       "      <td>0.049</td>\n",
       "      <td>14.0</td>\n",
       "      <td>132.0</td>\n",
       "      <td>0.9940</td>\n",
       "      <td>3.30</td>\n",
       "      <td>0.49</td>\n",
       "      <td>9.5</td>\n",
       "      <td>normal</td>\n",
       "    </tr>\n",
       "    <tr>\n",
       "      <th>2</th>\n",
       "      <td>8.1</td>\n",
       "      <td>0.28</td>\n",
       "      <td>0.40</td>\n",
       "      <td>6.9</td>\n",
       "      <td>0.050</td>\n",
       "      <td>30.0</td>\n",
       "      <td>97.0</td>\n",
       "      <td>0.9951</td>\n",
       "      <td>3.26</td>\n",
       "      <td>0.44</td>\n",
       "      <td>10.1</td>\n",
       "      <td>normal</td>\n",
       "    </tr>\n",
       "    <tr>\n",
       "      <th>3</th>\n",
       "      <td>7.2</td>\n",
       "      <td>0.23</td>\n",
       "      <td>0.32</td>\n",
       "      <td>8.5</td>\n",
       "      <td>0.058</td>\n",
       "      <td>47.0</td>\n",
       "      <td>186.0</td>\n",
       "      <td>0.9956</td>\n",
       "      <td>3.19</td>\n",
       "      <td>0.40</td>\n",
       "      <td>9.9</td>\n",
       "      <td>normal</td>\n",
       "    </tr>\n",
       "    <tr>\n",
       "      <th>4</th>\n",
       "      <td>7.2</td>\n",
       "      <td>0.23</td>\n",
       "      <td>0.32</td>\n",
       "      <td>8.5</td>\n",
       "      <td>0.058</td>\n",
       "      <td>47.0</td>\n",
       "      <td>186.0</td>\n",
       "      <td>0.9956</td>\n",
       "      <td>3.19</td>\n",
       "      <td>0.40</td>\n",
       "      <td>9.9</td>\n",
       "      <td>normal</td>\n",
       "    </tr>\n",
       "  </tbody>\n",
       "</table>\n",
       "</div>"
      ]
     },
     "execution_count": 3,
     "metadata": {},
     "output_type": "execute_result"
    }
   ],
   "execution_count": 3
  },
  {
   "metadata": {
    "ExecuteTime": {
     "end_time": "2025-09-18T10:33:36.990814Z",
     "start_time": "2025-09-18T10:33:36.973703Z"
    }
   },
   "cell_type": "code",
   "source": "df.describe()",
   "id": "a05069112049927d",
   "outputs": [
    {
     "data": {
      "text/plain": [
       "       fixed acidity  volatile acidity  citric acid  residual sugar  \\\n",
       "count    4898.000000       4898.000000  4898.000000     4898.000000   \n",
       "mean        6.854788          0.278241     0.334192        6.391415   \n",
       "std         0.843868          0.100795     0.121020        5.072058   \n",
       "min         3.800000          0.080000     0.000000        0.600000   \n",
       "25%         6.300000          0.210000     0.270000        1.700000   \n",
       "50%         6.800000          0.260000     0.320000        5.200000   \n",
       "75%         7.300000          0.320000     0.390000        9.900000   \n",
       "max        14.200000          1.100000     1.660000       65.800000   \n",
       "\n",
       "         chlorides  free sulfur dioxide  total sulfur dioxide      density  \\\n",
       "count  4898.000000          4898.000000           4898.000000  4898.000000   \n",
       "mean      0.045772            35.308085            138.360657     0.994027   \n",
       "std       0.021848            17.007137             42.498065     0.002991   \n",
       "min       0.009000             2.000000              9.000000     0.987110   \n",
       "25%       0.036000            23.000000            108.000000     0.991723   \n",
       "50%       0.043000            34.000000            134.000000     0.993740   \n",
       "75%       0.050000            46.000000            167.000000     0.996100   \n",
       "max       0.346000           289.000000            440.000000     1.038980   \n",
       "\n",
       "                pH    sulphates      alcohol  \n",
       "count  4898.000000  4898.000000  4898.000000  \n",
       "mean      3.188267     0.489847    10.514267  \n",
       "std       0.151001     0.114126     1.230621  \n",
       "min       2.720000     0.220000     8.000000  \n",
       "25%       3.090000     0.410000     9.500000  \n",
       "50%       3.180000     0.470000    10.400000  \n",
       "75%       3.280000     0.550000    11.400000  \n",
       "max       3.820000     1.080000    14.200000  "
      ],
      "text/html": [
       "<div>\n",
       "<style scoped>\n",
       "    .dataframe tbody tr th:only-of-type {\n",
       "        vertical-align: middle;\n",
       "    }\n",
       "\n",
       "    .dataframe tbody tr th {\n",
       "        vertical-align: top;\n",
       "    }\n",
       "\n",
       "    .dataframe thead th {\n",
       "        text-align: right;\n",
       "    }\n",
       "</style>\n",
       "<table border=\"1\" class=\"dataframe\">\n",
       "  <thead>\n",
       "    <tr style=\"text-align: right;\">\n",
       "      <th></th>\n",
       "      <th>fixed acidity</th>\n",
       "      <th>volatile acidity</th>\n",
       "      <th>citric acid</th>\n",
       "      <th>residual sugar</th>\n",
       "      <th>chlorides</th>\n",
       "      <th>free sulfur dioxide</th>\n",
       "      <th>total sulfur dioxide</th>\n",
       "      <th>density</th>\n",
       "      <th>pH</th>\n",
       "      <th>sulphates</th>\n",
       "      <th>alcohol</th>\n",
       "    </tr>\n",
       "  </thead>\n",
       "  <tbody>\n",
       "    <tr>\n",
       "      <th>count</th>\n",
       "      <td>4898.000000</td>\n",
       "      <td>4898.000000</td>\n",
       "      <td>4898.000000</td>\n",
       "      <td>4898.000000</td>\n",
       "      <td>4898.000000</td>\n",
       "      <td>4898.000000</td>\n",
       "      <td>4898.000000</td>\n",
       "      <td>4898.000000</td>\n",
       "      <td>4898.000000</td>\n",
       "      <td>4898.000000</td>\n",
       "      <td>4898.000000</td>\n",
       "    </tr>\n",
       "    <tr>\n",
       "      <th>mean</th>\n",
       "      <td>6.854788</td>\n",
       "      <td>0.278241</td>\n",
       "      <td>0.334192</td>\n",
       "      <td>6.391415</td>\n",
       "      <td>0.045772</td>\n",
       "      <td>35.308085</td>\n",
       "      <td>138.360657</td>\n",
       "      <td>0.994027</td>\n",
       "      <td>3.188267</td>\n",
       "      <td>0.489847</td>\n",
       "      <td>10.514267</td>\n",
       "    </tr>\n",
       "    <tr>\n",
       "      <th>std</th>\n",
       "      <td>0.843868</td>\n",
       "      <td>0.100795</td>\n",
       "      <td>0.121020</td>\n",
       "      <td>5.072058</td>\n",
       "      <td>0.021848</td>\n",
       "      <td>17.007137</td>\n",
       "      <td>42.498065</td>\n",
       "      <td>0.002991</td>\n",
       "      <td>0.151001</td>\n",
       "      <td>0.114126</td>\n",
       "      <td>1.230621</td>\n",
       "    </tr>\n",
       "    <tr>\n",
       "      <th>min</th>\n",
       "      <td>3.800000</td>\n",
       "      <td>0.080000</td>\n",
       "      <td>0.000000</td>\n",
       "      <td>0.600000</td>\n",
       "      <td>0.009000</td>\n",
       "      <td>2.000000</td>\n",
       "      <td>9.000000</td>\n",
       "      <td>0.987110</td>\n",
       "      <td>2.720000</td>\n",
       "      <td>0.220000</td>\n",
       "      <td>8.000000</td>\n",
       "    </tr>\n",
       "    <tr>\n",
       "      <th>25%</th>\n",
       "      <td>6.300000</td>\n",
       "      <td>0.210000</td>\n",
       "      <td>0.270000</td>\n",
       "      <td>1.700000</td>\n",
       "      <td>0.036000</td>\n",
       "      <td>23.000000</td>\n",
       "      <td>108.000000</td>\n",
       "      <td>0.991723</td>\n",
       "      <td>3.090000</td>\n",
       "      <td>0.410000</td>\n",
       "      <td>9.500000</td>\n",
       "    </tr>\n",
       "    <tr>\n",
       "      <th>50%</th>\n",
       "      <td>6.800000</td>\n",
       "      <td>0.260000</td>\n",
       "      <td>0.320000</td>\n",
       "      <td>5.200000</td>\n",
       "      <td>0.043000</td>\n",
       "      <td>34.000000</td>\n",
       "      <td>134.000000</td>\n",
       "      <td>0.993740</td>\n",
       "      <td>3.180000</td>\n",
       "      <td>0.470000</td>\n",
       "      <td>10.400000</td>\n",
       "    </tr>\n",
       "    <tr>\n",
       "      <th>75%</th>\n",
       "      <td>7.300000</td>\n",
       "      <td>0.320000</td>\n",
       "      <td>0.390000</td>\n",
       "      <td>9.900000</td>\n",
       "      <td>0.050000</td>\n",
       "      <td>46.000000</td>\n",
       "      <td>167.000000</td>\n",
       "      <td>0.996100</td>\n",
       "      <td>3.280000</td>\n",
       "      <td>0.550000</td>\n",
       "      <td>11.400000</td>\n",
       "    </tr>\n",
       "    <tr>\n",
       "      <th>max</th>\n",
       "      <td>14.200000</td>\n",
       "      <td>1.100000</td>\n",
       "      <td>1.660000</td>\n",
       "      <td>65.800000</td>\n",
       "      <td>0.346000</td>\n",
       "      <td>289.000000</td>\n",
       "      <td>440.000000</td>\n",
       "      <td>1.038980</td>\n",
       "      <td>3.820000</td>\n",
       "      <td>1.080000</td>\n",
       "      <td>14.200000</td>\n",
       "    </tr>\n",
       "  </tbody>\n",
       "</table>\n",
       "</div>"
      ]
     },
     "execution_count": 5,
     "metadata": {},
     "output_type": "execute_result"
    }
   ],
   "execution_count": 5
  },
  {
   "metadata": {
    "ExecuteTime": {
     "end_time": "2025-09-18T10:33:48.174910Z",
     "start_time": "2025-09-18T10:33:48.170571Z"
    }
   },
   "cell_type": "code",
   "source": "df.isna().sum()",
   "id": "abc68e0e4f058a26",
   "outputs": [
    {
     "data": {
      "text/plain": [
       "fixed acidity           0\n",
       "volatile acidity        0\n",
       "citric acid             0\n",
       "residual sugar          0\n",
       "chlorides               0\n",
       "free sulfur dioxide     0\n",
       "total sulfur dioxide    0\n",
       "density                 0\n",
       "pH                      0\n",
       "sulphates               0\n",
       "alcohol                 0\n",
       "quality label           0\n",
       "dtype: int64"
      ]
     },
     "execution_count": 7,
     "metadata": {},
     "output_type": "execute_result"
    }
   ],
   "execution_count": 7
  },
  {
   "metadata": {
    "ExecuteTime": {
     "end_time": "2025-09-18T10:33:54.426766Z",
     "start_time": "2025-09-18T10:33:52.170351Z"
    }
   },
   "cell_type": "code",
   "source": "df.plot(kind='hist', x='volatile acidity')",
   "id": "5c57491cb44bea07",
   "outputs": [
    {
     "data": {
      "application/vnd.plotly.v1+json": {
       "data": [
        {
         "bingroup": "x",
         "hovertemplate": "volatile acidity=%{x}<br>count=%{y}<extra></extra>",
         "legendgroup": "",
         "marker": {
          "color": "#636efa",
          "pattern": {
           "shape": ""
          }
         },
         "name": "",
         "orientation": "v",
         "showlegend": false,
         "x": {
          "dtype": "f8",
          "bdata": "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"
         },
         "xaxis": "x",
         "yaxis": "y",
         "type": "histogram"
        }
       ],
       "layout": {
        "template": {
         "data": {
          "histogram2dcontour": [
           {
            "type": "histogram2dcontour",
            "colorbar": {
             "outlinewidth": 0,
             "ticks": ""
            },
            "colorscale": [
             [
              0.0,
              "#0d0887"
             ],
             [
              0.1111111111111111,
              "#46039f"
             ],
             [
              0.2222222222222222,
              "#7201a8"
             ],
             [
              0.3333333333333333,
              "#9c179e"
             ],
             [
              0.4444444444444444,
              "#bd3786"
             ],
             [
              0.5555555555555556,
              "#d8576b"
             ],
             [
              0.6666666666666666,
              "#ed7953"
             ],
             [
              0.7777777777777778,
              "#fb9f3a"
             ],
             [
              0.8888888888888888,
              "#fdca26"
             ],
             [
              1.0,
              "#f0f921"
             ]
            ]
           }
          ],
          "choropleth": [
           {
            "type": "choropleth",
            "colorbar": {
             "outlinewidth": 0,
             "ticks": ""
            }
           }
          ],
          "histogram2d": [
           {
            "type": "histogram2d",
            "colorbar": {
             "outlinewidth": 0,
             "ticks": ""
            },
            "colorscale": [
             [
              0.0,
              "#0d0887"
             ],
             [
              0.1111111111111111,
              "#46039f"
             ],
             [
              0.2222222222222222,
              "#7201a8"
             ],
             [
              0.3333333333333333,
              "#9c179e"
             ],
             [
              0.4444444444444444,
              "#bd3786"
             ],
             [
              0.5555555555555556,
              "#d8576b"
             ],
             [
              0.6666666666666666,
              "#ed7953"
             ],
             [
              0.7777777777777778,
              "#fb9f3a"
             ],
             [
              0.8888888888888888,
              "#fdca26"
             ],
             [
              1.0,
              "#f0f921"
             ]
            ]
           }
          ],
          "heatmap": [
           {
            "type": "heatmap",
            "colorbar": {
             "outlinewidth": 0,
             "ticks": ""
            },
            "colorscale": [
             [
              0.0,
              "#0d0887"
             ],
             [
              0.1111111111111111,
              "#46039f"
             ],
             [
              0.2222222222222222,
              "#7201a8"
             ],
             [
              0.3333333333333333,
              "#9c179e"
             ],
             [
              0.4444444444444444,
              "#bd3786"
             ],
             [
              0.5555555555555556,
              "#d8576b"
             ],
             [
              0.6666666666666666,
              "#ed7953"
             ],
             [
              0.7777777777777778,
              "#fb9f3a"
             ],
             [
              0.8888888888888888,
              "#fdca26"
             ],
             [
              1.0,
              "#f0f921"
             ]
            ]
           }
          ],
          "contourcarpet": [
           {
            "type": "contourcarpet",
            "colorbar": {
             "outlinewidth": 0,
             "ticks": ""
            }
           }
          ],
          "contour": [
           {
            "type": "contour",
            "colorbar": {
             "outlinewidth": 0,
             "ticks": ""
            },
            "colorscale": [
             [
              0.0,
              "#0d0887"
             ],
             [
              0.1111111111111111,
              "#46039f"
             ],
             [
              0.2222222222222222,
              "#7201a8"
             ],
             [
              0.3333333333333333,
              "#9c179e"
             ],
             [
              0.4444444444444444,
              "#bd3786"
             ],
             [
              0.5555555555555556,
              "#d8576b"
             ],
             [
              0.6666666666666666,
              "#ed7953"
             ],
             [
              0.7777777777777778,
              "#fb9f3a"
             ],
             [
              0.8888888888888888,
              "#fdca26"
             ],
             [
              1.0,
              "#f0f921"
             ]
            ]
           }
          ],
          "surface": [
           {
            "type": "surface",
            "colorbar": {
             "outlinewidth": 0,
             "ticks": ""
            },
            "colorscale": [
             [
              0.0,
              "#0d0887"
             ],
             [
              0.1111111111111111,
              "#46039f"
             ],
             [
              0.2222222222222222,
              "#7201a8"
             ],
             [
              0.3333333333333333,
              "#9c179e"
             ],
             [
              0.4444444444444444,
              "#bd3786"
             ],
             [
              0.5555555555555556,
              "#d8576b"
             ],
             [
              0.6666666666666666,
              "#ed7953"
             ],
             [
              0.7777777777777778,
              "#fb9f3a"
             ],
             [
              0.8888888888888888,
              "#fdca26"
             ],
             [
              1.0,
              "#f0f921"
             ]
            ]
           }
          ],
          "mesh3d": [
           {
            "type": "mesh3d",
            "colorbar": {
             "outlinewidth": 0,
             "ticks": ""
            }
           }
          ],
          "scatter": [
           {
            "fillpattern": {
             "fillmode": "overlay",
             "size": 10,
             "solidity": 0.2
            },
            "type": "scatter"
           }
          ],
          "parcoords": [
           {
            "type": "parcoords",
            "line": {
             "colorbar": {
              "outlinewidth": 0,
              "ticks": ""
             }
            }
           }
          ],
          "scatterpolargl": [
           {
            "type": "scatterpolargl",
            "marker": {
             "colorbar": {
              "outlinewidth": 0,
              "ticks": ""
             }
            }
           }
          ],
          "bar": [
           {
            "error_x": {
             "color": "#2a3f5f"
            },
            "error_y": {
             "color": "#2a3f5f"
            },
            "marker": {
             "line": {
              "color": "#E5ECF6",
              "width": 0.5
             },
             "pattern": {
              "fillmode": "overlay",
              "size": 10,
              "solidity": 0.2
             }
            },
            "type": "bar"
           }
          ],
          "scattergeo": [
           {
            "type": "scattergeo",
            "marker": {
             "colorbar": {
              "outlinewidth": 0,
              "ticks": ""
             }
            }
           }
          ],
          "scatterpolar": [
           {
            "type": "scatterpolar",
            "marker": {
             "colorbar": {
              "outlinewidth": 0,
              "ticks": ""
             }
            }
           }
          ],
          "histogram": [
           {
            "marker": {
             "pattern": {
              "fillmode": "overlay",
              "size": 10,
              "solidity": 0.2
             }
            },
            "type": "histogram"
           }
          ],
          "scattergl": [
           {
            "type": "scattergl",
            "marker": {
             "colorbar": {
              "outlinewidth": 0,
              "ticks": ""
             }
            }
           }
          ],
          "scatter3d": [
           {
            "type": "scatter3d",
            "line": {
             "colorbar": {
              "outlinewidth": 0,
              "ticks": ""
             }
            },
            "marker": {
             "colorbar": {
              "outlinewidth": 0,
              "ticks": ""
             }
            }
           }
          ],
          "scattermap": [
           {
            "type": "scattermap",
            "marker": {
             "colorbar": {
              "outlinewidth": 0,
              "ticks": ""
             }
            }
           }
          ],
          "scattermapbox": [
           {
            "type": "scattermapbox",
            "marker": {
             "colorbar": {
              "outlinewidth": 0,
              "ticks": ""
             }
            }
           }
          ],
          "scatterternary": [
           {
            "type": "scatterternary",
            "marker": {
             "colorbar": {
              "outlinewidth": 0,
              "ticks": ""
             }
            }
           }
          ],
          "scattercarpet": [
           {
            "type": "scattercarpet",
            "marker": {
             "colorbar": {
              "outlinewidth": 0,
              "ticks": ""
             }
            }
           }
          ],
          "carpet": [
           {
            "aaxis": {
             "endlinecolor": "#2a3f5f",
             "gridcolor": "white",
             "linecolor": "white",
             "minorgridcolor": "white",
             "startlinecolor": "#2a3f5f"
            },
            "baxis": {
             "endlinecolor": "#2a3f5f",
             "gridcolor": "white",
             "linecolor": "white",
             "minorgridcolor": "white",
             "startlinecolor": "#2a3f5f"
            },
            "type": "carpet"
           }
          ],
          "table": [
           {
            "cells": {
             "fill": {
              "color": "#EBF0F8"
             },
             "line": {
              "color": "white"
             }
            },
            "header": {
             "fill": {
              "color": "#C8D4E3"
             },
             "line": {
              "color": "white"
             }
            },
            "type": "table"
           }
          ],
          "barpolar": [
           {
            "marker": {
             "line": {
              "color": "#E5ECF6",
              "width": 0.5
             },
             "pattern": {
              "fillmode": "overlay",
              "size": 10,
              "solidity": 0.2
             }
            },
            "type": "barpolar"
           }
          ],
          "pie": [
           {
            "automargin": true,
            "type": "pie"
           }
          ]
         },
         "layout": {
          "autotypenumbers": "strict",
          "colorway": [
           "#636efa",
           "#EF553B",
           "#00cc96",
           "#ab63fa",
           "#FFA15A",
           "#19d3f3",
           "#FF6692",
           "#B6E880",
           "#FF97FF",
           "#FECB52"
          ],
          "font": {
           "color": "#2a3f5f"
          },
          "hovermode": "closest",
          "hoverlabel": {
           "align": "left"
          },
          "paper_bgcolor": "white",
          "plot_bgcolor": "#E5ECF6",
          "polar": {
           "bgcolor": "#E5ECF6",
           "angularaxis": {
            "gridcolor": "white",
            "linecolor": "white",
            "ticks": ""
           },
           "radialaxis": {
            "gridcolor": "white",
            "linecolor": "white",
            "ticks": ""
           }
          },
          "ternary": {
           "bgcolor": "#E5ECF6",
           "aaxis": {
            "gridcolor": "white",
            "linecolor": "white",
            "ticks": ""
           },
           "baxis": {
            "gridcolor": "white",
            "linecolor": "white",
            "ticks": ""
           },
           "caxis": {
            "gridcolor": "white",
            "linecolor": "white",
            "ticks": ""
           }
          },
          "coloraxis": {
           "colorbar": {
            "outlinewidth": 0,
            "ticks": ""
           }
          },
          "colorscale": {
           "sequential": [
            [
             0.0,
             "#0d0887"
            ],
            [
             0.1111111111111111,
             "#46039f"
            ],
            [
             0.2222222222222222,
             "#7201a8"
            ],
            [
             0.3333333333333333,
             "#9c179e"
            ],
            [
             0.4444444444444444,
             "#bd3786"
            ],
            [
             0.5555555555555556,
             "#d8576b"
            ],
            [
             0.6666666666666666,
             "#ed7953"
            ],
            [
             0.7777777777777778,
             "#fb9f3a"
            ],
            [
             0.8888888888888888,
             "#fdca26"
            ],
            [
             1.0,
             "#f0f921"
            ]
           ],
           "sequentialminus": [
            [
             0.0,
             "#0d0887"
            ],
            [
             0.1111111111111111,
             "#46039f"
            ],
            [
             0.2222222222222222,
             "#7201a8"
            ],
            [
             0.3333333333333333,
             "#9c179e"
            ],
            [
             0.4444444444444444,
             "#bd3786"
            ],
            [
             0.5555555555555556,
             "#d8576b"
            ],
            [
             0.6666666666666666,
             "#ed7953"
            ],
            [
             0.7777777777777778,
             "#fb9f3a"
            ],
            [
             0.8888888888888888,
             "#fdca26"
            ],
            [
             1.0,
             "#f0f921"
            ]
           ],
           "diverging": [
            [
             0,
             "#8e0152"
            ],
            [
             0.1,
             "#c51b7d"
            ],
            [
             0.2,
             "#de77ae"
            ],
            [
             0.3,
             "#f1b6da"
            ],
            [
             0.4,
             "#fde0ef"
            ],
            [
             0.5,
             "#f7f7f7"
            ],
            [
             0.6,
             "#e6f5d0"
            ],
            [
             0.7,
             "#b8e186"
            ],
            [
             0.8,
             "#7fbc41"
            ],
            [
             0.9,
             "#4d9221"
            ],
            [
             1,
             "#276419"
            ]
           ]
          },
          "xaxis": {
           "gridcolor": "white",
           "linecolor": "white",
           "ticks": "",
           "title": {
            "standoff": 15
           },
           "zerolinecolor": "white",
           "automargin": true,
           "zerolinewidth": 2
          },
          "yaxis": {
           "gridcolor": "white",
           "linecolor": "white",
           "ticks": "",
           "title": {
            "standoff": 15
           },
           "zerolinecolor": "white",
           "automargin": true,
           "zerolinewidth": 2
          },
          "scene": {
           "xaxis": {
            "backgroundcolor": "#E5ECF6",
            "gridcolor": "white",
            "linecolor": "white",
            "showbackground": true,
            "ticks": "",
            "zerolinecolor": "white",
            "gridwidth": 2
           },
           "yaxis": {
            "backgroundcolor": "#E5ECF6",
            "gridcolor": "white",
            "linecolor": "white",
            "showbackground": true,
            "ticks": "",
            "zerolinecolor": "white",
            "gridwidth": 2
           },
           "zaxis": {
            "backgroundcolor": "#E5ECF6",
            "gridcolor": "white",
            "linecolor": "white",
            "showbackground": true,
            "ticks": "",
            "zerolinecolor": "white",
            "gridwidth": 2
           }
          },
          "shapedefaults": {
           "line": {
            "color": "#2a3f5f"
           }
          },
          "annotationdefaults": {
           "arrowcolor": "#2a3f5f",
           "arrowhead": 0,
           "arrowwidth": 1
          },
          "geo": {
           "bgcolor": "white",
           "landcolor": "#E5ECF6",
           "subunitcolor": "white",
           "showland": true,
           "showlakes": true,
           "lakecolor": "white"
          },
          "title": {
           "x": 0.05
          },
          "mapbox": {
           "style": "light"
          }
         }
        },
        "xaxis": {
         "anchor": "y",
         "domain": [
          0.0,
          1.0
         ],
         "title": {
          "text": "volatile acidity"
         }
        },
        "yaxis": {
         "anchor": "x",
         "domain": [
          0.0,
          1.0
         ],
         "title": {
          "text": "count"
         }
        },
        "legend": {
         "tracegroupgap": 0
        },
        "margin": {
         "t": 60
        },
        "barmode": "relative"
       },
       "config": {
        "plotlyServerURL": "https://plot.ly"
       }
      }
     },
     "metadata": {},
     "output_type": "display_data",
     "jetTransient": {
      "display_id": null
     }
    }
   ],
   "execution_count": 8
  },
  {
   "metadata": {
    "ExecuteTime": {
     "end_time": "2025-09-18T10:34:06.903635Z",
     "start_time": "2025-09-18T10:34:06.842667Z"
    }
   },
   "cell_type": "code",
   "source": "df.plot(kind='hist', x='volatile acidity', color='quality label')",
   "id": "2a851df7d0655755",
   "outputs": [
    {
     "data": {
      "application/vnd.plotly.v1+json": {
       "data": [
        {
         "bingroup": "x",
         "hovertemplate": "quality label=normal<br>volatile acidity=%{x}<br>count=%{y}<extra></extra>",
         "legendgroup": "normal",
         "marker": {
          "color": "#636efa",
          "pattern": {
           "shape": ""
          }
         },
         "name": "normal",
         "orientation": "v",
         "showlegend": true,
         "x": {
          "dtype": "f8",
          "bdata": "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"
         },
         "xaxis": "x",
         "yaxis": "y",
         "type": "histogram"
        },
        {
         "bingroup": "x",
         "hovertemplate": "quality label=excellent<br>volatile acidity=%{x}<br>count=%{y}<extra></extra>",
         "legendgroup": "excellent",
         "marker": {
          "color": "#EF553B",
          "pattern": {
           "shape": ""
          }
         },
         "name": "excellent",
         "orientation": "v",
         "showlegend": true,
         "x": {
          "dtype": "f8",
          "bdata": "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"
         },
         "xaxis": "x",
         "yaxis": "y",
         "type": "histogram"
        },
        {
         "bingroup": "x",
         "hovertemplate": "quality label=poor<br>volatile acidity=%{x}<br>count=%{y}<extra></extra>",
         "legendgroup": "poor",
         "marker": {
          "color": "#00cc96",
          "pattern": {
           "shape": ""
          }
         },
         "name": "poor",
         "orientation": "v",
         "showlegend": true,
         "x": {
          "dtype": "f8",
          "bdata": "zczMzMzM3D8K16NwPQrXPwrXo3A9Ct8/CtejcD0K4z+4HoXrUbjeP3sUrkfhetQ/cT0K16Nw5T/sUbgehevRP+xRuB6F69E/KVyPwvUo3D97FK5H4XrkP+F6FK5H4co/pHA9Ctej0D+4HoXrUbjOPwrXo3A9Ctc/exSuR+F61D8pXI/C9SjcP+F6FK5H4eI/mpmZmZmZ4T97FK5H4XrUP5qZmZmZmdk/mpmZmZmZ2T/Xo3A9CtfTP9ejcD0K19M/7FG4HoXr4T/sUbgehevRPx+F61G4HtU/j8L1KFyP0j89CtejcD3iP3E9CtejcOU/mpmZmZmZyT9SuB6F61HYP/YoXI/C9dg/SOF6FK5H2T/D9Shcj8LFP8P1KFyPwsU/UrgehetRyD9I4XoUrkfRP3E9CtejcM0/exSuR+F61D+PwvUoXI/mP6RwPQrXo9A/uB6F61G4zj+amZmZmZnhPzMzMzMzM+M/exSuR+F65D/D9Shcj8LlP1yPwvUoXN8/j8L1KFyP0j8zMzMzMzPTPylcj8L1KMw/pHA9Ctej4D8zMzMzMzPjP3sUrkfhesQ/H4XrUbge1T8fhetRuB7VPx+F61G4HuU/9ihcj8L12D89CtejcD3aP2ZmZmZmZtY/exSuR+F61D/2KFyPwvXYP5qZmZmZmeE/7FG4HoXr0T8AAAAAAADQP/YoXI/C9dg/AAAAAAAA0D8AAAAAAADQP3sUrkfhetQ/9ihcj8L14D+F61G4HoXbP2ZmZmZmZtY/w/UoXI/CxT97FK5H4XrkP9ejcD0K19M/pHA9Ctej0D+PwvUoXI/SP+xRuB6F69E/AAAAAAAA0D+F61G4HoXbP0jhehSuR9E/hetRuB6F4z+amZmZmZnJP4/C9Shcj9I/exSuR+F61D8AAAAAAADgPx+F61G4Hu0/pHA9Ctej0D9cj8L1KFzfPxSuR+F6FPA/hetRuB6F2z9xPQrXo3DNP83MzMzMzNw/mpmZmZmZyT97FK5H4XrEP8P1KFyPwu0/7FG4HoXr0T+4HoXrUbjOP3E9CtejcM0/w/UoXI/C1T/D9Shcj8LVP4/C9Shcj9I/pHA9Ctej0D/sUbgehevRP+xRuB6F69E/H4XrUbge1T+4HoXrUbjeP0jhehSuR9E/SOF6FK5H0T8zMzMzMzPTPzMzMzMzM9M/4XoUrkfhyj9SuB6F61HIP3sUrkfhesQ/4XoUrkfhyj9SuB6F61HYP+F6FK5H4co/UrgehetR2D9mZmZmZmbWP9ejcD0K19M/16NwPQrX0z/D9Shcj8LVP8P1KFyPwtU/SOF6FK5H4T9I4XoUrkfhP65H4XoUruM/cT0K16NwzT8pXI/C9Si8Pylcj8L1KMw/7FG4HoXr0T9I4XoUrkfRP0jhehSuR9E/UrgehetR0D/sUbgehevRP5qZmZmZmck/MzMzMzMz0z+amZmZmZnJPzMzMzMzM9M/j8L1KFyP0j+F61G4HoXLP7gehetRuN4/uB6F61G4zj9xPQrXo3DNP3sUrkfheuQ/AAAAAAAA6D/D9Shcj8LVP/YoXI/C9eQ/KVyPwvUozD9SuB6F61HIPzMzMzMzM+M/CtejcD0Kxz97FK5H4XrUP0jhehSuR9E/pHA9Ctej0D8K16NwPQrXP1yPwvUoXOc/zczMzMzM5D/Xo3A9CtfTP1K4HoXrUdg/SOF6FK5H0T9I4XoUrkfRP65H4XoUrtc/mpmZmZmZ8T9mZmZmZmbWP9ejcD0K19M/UrgehetR2D9SuB6F61HYP1K4HoXrUdg/hetRuB6F2z8UrkfhehTePwrXo3A9Csc/7FG4HoXr0T/sUbgehevRP6RwPQrXo9A/rkfhehSu4z8pXI/C9SjkPylcj8L1KOQ/pHA9Ctej0D+4HoXrUbjOP+F6FK5H4eI/ZmZmZmZm1j/sUbgehevZP/YoXI/C9eA/"
         },
         "xaxis": "x",
         "yaxis": "y",
         "type": "histogram"
        }
       ],
       "layout": {
        "template": {
         "data": {
          "histogram2dcontour": [
           {
            "type": "histogram2dcontour",
            "colorbar": {
             "outlinewidth": 0,
             "ticks": ""
            },
            "colorscale": [
             [
              0.0,
              "#0d0887"
             ],
             [
              0.1111111111111111,
              "#46039f"
             ],
             [
              0.2222222222222222,
              "#7201a8"
             ],
             [
              0.3333333333333333,
              "#9c179e"
             ],
             [
              0.4444444444444444,
              "#bd3786"
             ],
             [
              0.5555555555555556,
              "#d8576b"
             ],
             [
              0.6666666666666666,
              "#ed7953"
             ],
             [
              0.7777777777777778,
              "#fb9f3a"
             ],
             [
              0.8888888888888888,
              "#fdca26"
             ],
             [
              1.0,
              "#f0f921"
             ]
            ]
           }
          ],
          "choropleth": [
           {
            "type": "choropleth",
            "colorbar": {
             "outlinewidth": 0,
             "ticks": ""
            }
           }
          ],
          "histogram2d": [
           {
            "type": "histogram2d",
            "colorbar": {
             "outlinewidth": 0,
             "ticks": ""
            },
            "colorscale": [
             [
              0.0,
              "#0d0887"
             ],
             [
              0.1111111111111111,
              "#46039f"
             ],
             [
              0.2222222222222222,
              "#7201a8"
             ],
             [
              0.3333333333333333,
              "#9c179e"
             ],
             [
              0.4444444444444444,
              "#bd3786"
             ],
             [
              0.5555555555555556,
              "#d8576b"
             ],
             [
              0.6666666666666666,
              "#ed7953"
             ],
             [
              0.7777777777777778,
              "#fb9f3a"
             ],
             [
              0.8888888888888888,
              "#fdca26"
             ],
             [
              1.0,
              "#f0f921"
             ]
            ]
           }
          ],
          "heatmap": [
           {
            "type": "heatmap",
            "colorbar": {
             "outlinewidth": 0,
             "ticks": ""
            },
            "colorscale": [
             [
              0.0,
              "#0d0887"
             ],
             [
              0.1111111111111111,
              "#46039f"
             ],
             [
              0.2222222222222222,
              "#7201a8"
             ],
             [
              0.3333333333333333,
              "#9c179e"
             ],
             [
              0.4444444444444444,
              "#bd3786"
             ],
             [
              0.5555555555555556,
              "#d8576b"
             ],
             [
              0.6666666666666666,
              "#ed7953"
             ],
             [
              0.7777777777777778,
              "#fb9f3a"
             ],
             [
              0.8888888888888888,
              "#fdca26"
             ],
             [
              1.0,
              "#f0f921"
             ]
            ]
           }
          ],
          "contourcarpet": [
           {
            "type": "contourcarpet",
            "colorbar": {
             "outlinewidth": 0,
             "ticks": ""
            }
           }
          ],
          "contour": [
           {
            "type": "contour",
            "colorbar": {
             "outlinewidth": 0,
             "ticks": ""
            },
            "colorscale": [
             [
              0.0,
              "#0d0887"
             ],
             [
              0.1111111111111111,
              "#46039f"
             ],
             [
              0.2222222222222222,
              "#7201a8"
             ],
             [
              0.3333333333333333,
              "#9c179e"
             ],
             [
              0.4444444444444444,
              "#bd3786"
             ],
             [
              0.5555555555555556,
              "#d8576b"
             ],
             [
              0.6666666666666666,
              "#ed7953"
             ],
             [
              0.7777777777777778,
              "#fb9f3a"
             ],
             [
              0.8888888888888888,
              "#fdca26"
             ],
             [
              1.0,
              "#f0f921"
             ]
            ]
           }
          ],
          "surface": [
           {
            "type": "surface",
            "colorbar": {
             "outlinewidth": 0,
             "ticks": ""
            },
            "colorscale": [
             [
              0.0,
              "#0d0887"
             ],
             [
              0.1111111111111111,
              "#46039f"
             ],
             [
              0.2222222222222222,
              "#7201a8"
             ],
             [
              0.3333333333333333,
              "#9c179e"
             ],
             [
              0.4444444444444444,
              "#bd3786"
             ],
             [
              0.5555555555555556,
              "#d8576b"
             ],
             [
              0.6666666666666666,
              "#ed7953"
             ],
             [
              0.7777777777777778,
              "#fb9f3a"
             ],
             [
              0.8888888888888888,
              "#fdca26"
             ],
             [
              1.0,
              "#f0f921"
             ]
            ]
           }
          ],
          "mesh3d": [
           {
            "type": "mesh3d",
            "colorbar": {
             "outlinewidth": 0,
             "ticks": ""
            }
           }
          ],
          "scatter": [
           {
            "fillpattern": {
             "fillmode": "overlay",
             "size": 10,
             "solidity": 0.2
            },
            "type": "scatter"
           }
          ],
          "parcoords": [
           {
            "type": "parcoords",
            "line": {
             "colorbar": {
              "outlinewidth": 0,
              "ticks": ""
             }
            }
           }
          ],
          "scatterpolargl": [
           {
            "type": "scatterpolargl",
            "marker": {
             "colorbar": {
              "outlinewidth": 0,
              "ticks": ""
             }
            }
           }
          ],
          "bar": [
           {
            "error_x": {
             "color": "#2a3f5f"
            },
            "error_y": {
             "color": "#2a3f5f"
            },
            "marker": {
             "line": {
              "color": "#E5ECF6",
              "width": 0.5
             },
             "pattern": {
              "fillmode": "overlay",
              "size": 10,
              "solidity": 0.2
             }
            },
            "type": "bar"
           }
          ],
          "scattergeo": [
           {
            "type": "scattergeo",
            "marker": {
             "colorbar": {
              "outlinewidth": 0,
              "ticks": ""
             }
            }
           }
          ],
          "scatterpolar": [
           {
            "type": "scatterpolar",
            "marker": {
             "colorbar": {
              "outlinewidth": 0,
              "ticks": ""
             }
            }
           }
          ],
          "histogram": [
           {
            "marker": {
             "pattern": {
              "fillmode": "overlay",
              "size": 10,
              "solidity": 0.2
             }
            },
            "type": "histogram"
           }
          ],
          "scattergl": [
           {
            "type": "scattergl",
            "marker": {
             "colorbar": {
              "outlinewidth": 0,
              "ticks": ""
             }
            }
           }
          ],
          "scatter3d": [
           {
            "type": "scatter3d",
            "line": {
             "colorbar": {
              "outlinewidth": 0,
              "ticks": ""
             }
            },
            "marker": {
             "colorbar": {
              "outlinewidth": 0,
              "ticks": ""
             }
            }
           }
          ],
          "scattermap": [
           {
            "type": "scattermap",
            "marker": {
             "colorbar": {
              "outlinewidth": 0,
              "ticks": ""
             }
            }
           }
          ],
          "scattermapbox": [
           {
            "type": "scattermapbox",
            "marker": {
             "colorbar": {
              "outlinewidth": 0,
              "ticks": ""
             }
            }
           }
          ],
          "scatterternary": [
           {
            "type": "scatterternary",
            "marker": {
             "colorbar": {
              "outlinewidth": 0,
              "ticks": ""
             }
            }
           }
          ],
          "scattercarpet": [
           {
            "type": "scattercarpet",
            "marker": {
             "colorbar": {
              "outlinewidth": 0,
              "ticks": ""
             }
            }
           }
          ],
          "carpet": [
           {
            "aaxis": {
             "endlinecolor": "#2a3f5f",
             "gridcolor": "white",
             "linecolor": "white",
             "minorgridcolor": "white",
             "startlinecolor": "#2a3f5f"
            },
            "baxis": {
             "endlinecolor": "#2a3f5f",
             "gridcolor": "white",
             "linecolor": "white",
             "minorgridcolor": "white",
             "startlinecolor": "#2a3f5f"
            },
            "type": "carpet"
           }
          ],
          "table": [
           {
            "cells": {
             "fill": {
              "color": "#EBF0F8"
             },
             "line": {
              "color": "white"
             }
            },
            "header": {
             "fill": {
              "color": "#C8D4E3"
             },
             "line": {
              "color": "white"
             }
            },
            "type": "table"
           }
          ],
          "barpolar": [
           {
            "marker": {
             "line": {
              "color": "#E5ECF6",
              "width": 0.5
             },
             "pattern": {
              "fillmode": "overlay",
              "size": 10,
              "solidity": 0.2
             }
            },
            "type": "barpolar"
           }
          ],
          "pie": [
           {
            "automargin": true,
            "type": "pie"
           }
          ]
         },
         "layout": {
          "autotypenumbers": "strict",
          "colorway": [
           "#636efa",
           "#EF553B",
           "#00cc96",
           "#ab63fa",
           "#FFA15A",
           "#19d3f3",
           "#FF6692",
           "#B6E880",
           "#FF97FF",
           "#FECB52"
          ],
          "font": {
           "color": "#2a3f5f"
          },
          "hovermode": "closest",
          "hoverlabel": {
           "align": "left"
          },
          "paper_bgcolor": "white",
          "plot_bgcolor": "#E5ECF6",
          "polar": {
           "bgcolor": "#E5ECF6",
           "angularaxis": {
            "gridcolor": "white",
            "linecolor": "white",
            "ticks": ""
           },
           "radialaxis": {
            "gridcolor": "white",
            "linecolor": "white",
            "ticks": ""
           }
          },
          "ternary": {
           "bgcolor": "#E5ECF6",
           "aaxis": {
            "gridcolor": "white",
            "linecolor": "white",
            "ticks": ""
           },
           "baxis": {
            "gridcolor": "white",
            "linecolor": "white",
            "ticks": ""
           },
           "caxis": {
            "gridcolor": "white",
            "linecolor": "white",
            "ticks": ""
           }
          },
          "coloraxis": {
           "colorbar": {
            "outlinewidth": 0,
            "ticks": ""
           }
          },
          "colorscale": {
           "sequential": [
            [
             0.0,
             "#0d0887"
            ],
            [
             0.1111111111111111,
             "#46039f"
            ],
            [
             0.2222222222222222,
             "#7201a8"
            ],
            [
             0.3333333333333333,
             "#9c179e"
            ],
            [
             0.4444444444444444,
             "#bd3786"
            ],
            [
             0.5555555555555556,
             "#d8576b"
            ],
            [
             0.6666666666666666,
             "#ed7953"
            ],
            [
             0.7777777777777778,
             "#fb9f3a"
            ],
            [
             0.8888888888888888,
             "#fdca26"
            ],
            [
             1.0,
             "#f0f921"
            ]
           ],
           "sequentialminus": [
            [
             0.0,
             "#0d0887"
            ],
            [
             0.1111111111111111,
             "#46039f"
            ],
            [
             0.2222222222222222,
             "#7201a8"
            ],
            [
             0.3333333333333333,
             "#9c179e"
            ],
            [
             0.4444444444444444,
             "#bd3786"
            ],
            [
             0.5555555555555556,
             "#d8576b"
            ],
            [
             0.6666666666666666,
             "#ed7953"
            ],
            [
             0.7777777777777778,
             "#fb9f3a"
            ],
            [
             0.8888888888888888,
             "#fdca26"
            ],
            [
             1.0,
             "#f0f921"
            ]
           ],
           "diverging": [
            [
             0,
             "#8e0152"
            ],
            [
             0.1,
             "#c51b7d"
            ],
            [
             0.2,
             "#de77ae"
            ],
            [
             0.3,
             "#f1b6da"
            ],
            [
             0.4,
             "#fde0ef"
            ],
            [
             0.5,
             "#f7f7f7"
            ],
            [
             0.6,
             "#e6f5d0"
            ],
            [
             0.7,
             "#b8e186"
            ],
            [
             0.8,
             "#7fbc41"
            ],
            [
             0.9,
             "#4d9221"
            ],
            [
             1,
             "#276419"
            ]
           ]
          },
          "xaxis": {
           "gridcolor": "white",
           "linecolor": "white",
           "ticks": "",
           "title": {
            "standoff": 15
           },
           "zerolinecolor": "white",
           "automargin": true,
           "zerolinewidth": 2
          },
          "yaxis": {
           "gridcolor": "white",
           "linecolor": "white",
           "ticks": "",
           "title": {
            "standoff": 15
           },
           "zerolinecolor": "white",
           "automargin": true,
           "zerolinewidth": 2
          },
          "scene": {
           "xaxis": {
            "backgroundcolor": "#E5ECF6",
            "gridcolor": "white",
            "linecolor": "white",
            "showbackground": true,
            "ticks": "",
            "zerolinecolor": "white",
            "gridwidth": 2
           },
           "yaxis": {
            "backgroundcolor": "#E5ECF6",
            "gridcolor": "white",
            "linecolor": "white",
            "showbackground": true,
            "ticks": "",
            "zerolinecolor": "white",
            "gridwidth": 2
           },
           "zaxis": {
            "backgroundcolor": "#E5ECF6",
            "gridcolor": "white",
            "linecolor": "white",
            "showbackground": true,
            "ticks": "",
            "zerolinecolor": "white",
            "gridwidth": 2
           }
          },
          "shapedefaults": {
           "line": {
            "color": "#2a3f5f"
           }
          },
          "annotationdefaults": {
           "arrowcolor": "#2a3f5f",
           "arrowhead": 0,
           "arrowwidth": 1
          },
          "geo": {
           "bgcolor": "white",
           "landcolor": "#E5ECF6",
           "subunitcolor": "white",
           "showland": true,
           "showlakes": true,
           "lakecolor": "white"
          },
          "title": {
           "x": 0.05
          },
          "mapbox": {
           "style": "light"
          }
         }
        },
        "xaxis": {
         "anchor": "y",
         "domain": [
          0.0,
          1.0
         ],
         "title": {
          "text": "volatile acidity"
         }
        },
        "yaxis": {
         "anchor": "x",
         "domain": [
          0.0,
          1.0
         ],
         "title": {
          "text": "count"
         }
        },
        "legend": {
         "title": {
          "text": "quality label"
         },
         "tracegroupgap": 0
        },
        "margin": {
         "t": 60
        },
        "barmode": "relative"
       },
       "config": {
        "plotlyServerURL": "https://plot.ly"
       }
      }
     },
     "metadata": {},
     "output_type": "display_data",
     "jetTransient": {
      "display_id": null
     }
    }
   ],
   "execution_count": 10
  },
  {
   "metadata": {
    "ExecuteTime": {
     "end_time": "2025-09-18T10:36:00.138589Z",
     "start_time": "2025-09-18T10:36:00.105594Z"
    }
   },
   "cell_type": "code",
   "source": "df.plot(kind='hist', x='volatile acidity', color='quality label', barmode='overlay')",
   "id": "55eff18888fa4c64",
   "outputs": [
    {
     "data": {
      "application/vnd.plotly.v1+json": {
       "data": [
        {
         "bingroup": "x",
         "hovertemplate": "quality label=normal<br>volatile acidity=%{x}<br>count=%{y}<extra></extra>",
         "legendgroup": "normal",
         "marker": {
          "color": "#636efa",
          "opacity": 0.5,
          "pattern": {
           "shape": ""
          }
         },
         "name": "normal",
         "orientation": "v",
         "showlegend": true,
         "x": {
          "dtype": "f8",
          "bdata": "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"
         },
         "xaxis": "x",
         "yaxis": "y",
         "type": "histogram"
        },
        {
         "bingroup": "x",
         "hovertemplate": "quality label=excellent<br>volatile acidity=%{x}<br>count=%{y}<extra></extra>",
         "legendgroup": "excellent",
         "marker": {
          "color": "#EF553B",
          "opacity": 0.5,
          "pattern": {
           "shape": ""
          }
         },
         "name": "excellent",
         "orientation": "v",
         "showlegend": true,
         "x": {
          "dtype": "f8",
          "bdata": "exSuR+F6xD/D9Shcj8LFPx+F61G4HuU/H4XrUbge5T/Xo3A9CtfTP6RwPQrXo9A/exSuR+F61D8K16NwPQrHPwAAAAAAANA/exSuR+F6xD+kcD0K16PQP3E9CtejcM0/cT0K16NwzT8K16NwPQrHP3sUrkfhetQ/uB6F61G4zj/hehSuR+HKP8P1KFyPwsU/9ihcj8L10D+4HoXrUbjOPzMzMzMzM9M/uB6F61G4zj9SuB6F61HIP8P1KFyPwtU/KVyPwvUozD97FK5H4XrUPylcj8L1KNw/KVyPwvUo3D97FK5H4XrUP3E9CtejcN0/KVyPwvUozD/2KFyPwvXgPwrXo3A9Csc/AAAAAAAA0D8AAAAAAADQP6RwPQrXo9A/4XoUrkfhyj/hehSuR+HKP5qZmZmZmck/UrgehetRyD+kcD0K16PQP2ZmZmZmZtY/ZmZmZmZm1j8zMzMzMzPTP7gehetRuM4/16NwPQrX0z9xPQrXo3DNP3E9CtejcM0/cT0K16NwzT9xPQrXo3DNP+xRuB6F69E/UrgehetRyD8fhetRuB7VPwrXo3A9Ctc/mpmZmZmZ4T8zMzMzMzPTP5qZmZmZmbk/exSuR+F61D8K16NwPQrHP5qZmZmZmck/w/UoXI/C1T+4HoXrUbi+Px+F61G4HtU/H4XrUbge1T97FK5H4XrEP6RwPQrXo9A/H4XrUbge1T8fhetRuB7VP9ejcD0K19M/mpmZmZmZyT/Xo3A9CtfTP5qZmZmZmck/CtejcD0K1z8fhetRuB7VP8P1KFyPwsU/MzMzMzMz0z8zMzMzMzPTP+xRuB6F69E/KVyPwvUozD9xPQrXo3DNP9ejcD0K18M/cT0K16NwzT+amZmZmZnJP3sUrkfhesQ/16NwPQrXwz8pXI/C9SjMPwAAAAAAANA/7FG4HoXr0T9xPQrXo3DdP0jhehSuR9E/7FG4HoXr0T9xPQrXo3DNP8P1KFyPwsU/7FG4HoXr0T9xPQrXo3DNP7gehetRuM4/uB6F61G4zj/sUbgehevRPwrXo3A9Csc/MzMzMzMz0z8AAAAAAADQP+xRuB6F69E/MzMzMzMz0z/sUbgehevRPwAAAAAAANA/4XoUrkfhyj8zMzMzMzPTP+xRuB6F69E/mpmZmZmZyT+amZmZmZnJPylcj8L1KMw/7FG4HoXr0T9SuB6F61HYPwAAAAAAANA/exSuR+F61D/sUbgehevRP0jhehSuR9E/SOF6FK5H0T9SuB6F61HIPwrXo3A9Ctc/exSuR+F61D+4HoXrUbjOP8P1KFyPwsU/FK5H4XoUzj+kcD0K16PQP6RwPQrXo9A/pHA9Ctej0D+kcD0K16PQP+F6FK5H4co/AAAAAAAA0D97FK5H4XrUP3sUrkfhetQ/exSuR+F61D97FK5H4XrUPylcj8L1KMw/w/UoXI/CxT/D9Shcj8LVP+F6FK5H4co/4XoUrkfhyj+PwvUoXI/SPx+F61G4HtU/MzMzMzMz0z+4HoXrUbjOP+xRuB6F69E/4XoUrkfhyj/sUbgehevRP+xRuB6F68E/pHA9CtejwD8pXI/C9Si8Pylcj8L1KLw/uB6F61G4vj97FK5H4XrEP+F6FK5H4co/SOF6FK5H0T8pXI/C9SjMP8P1KFyPwsU/KVyPwvUozD/D9Shcj8LFP8P1KFyPwtU/uB6F61G4zj+4HoXrUbjOPwrXo3A9Csc/4XoUrkfhyj9mZmZmZmbWPwrXo3A9Ctc/uB6F61G4zj97FK5H4XrEP3sUrkfhesQ/MzMzMzMz0z/hehSuR+HaPwAAAAAAANA/AAAAAAAA0D8AAAAAAADQP8P1KFyPwtU/H4XrUbge1T9xPQrXo3DNP3E9CtejcM0/UrgehetRyD/hehSuR+HKP+F6FK5H4co/cT0K16NwzT9SuB6F61HIPwrXo3A9Csc/CtejcD0Kxz+amZmZmZnJPylcj8L1KMw/SOF6FK5H0T8AAAAAAADQPwrXo3A9Csc/CtejcD0Kxz/sUbgehevRP+F6FK5H4co/CtejcD0K1z+4HoXrUbi+P+F6FK5H4co/w/UoXI/C1T8zMzMzMzPTPzMzMzMzM9M/pHA9Ctej0D/Xo3A9CtfTP6RwPQrXo9A/mpmZmZmZyT/hehSuR+HKPwAAAAAAANA/pHA9CtejwD8K16NwPQrHPylcj8L1KLw/7FG4HoXr0T8AAAAAAADQP8P1KFyPwsU/uB6F61G4zj+PwvUoXI/aP7gehetRuN4/CtejcD0Kxz8zMzMzMzPDP3E9CtejcM0/mpmZmZmZyT/hehSuR+HaP3sUrkfherQ/4XoUrkfh2j/hehSuR+HaP0jhehSuR9E/exSuR+F6tD/sUbgehevRP+xRuB6F69E/7FG4HoXr0T/hehSuR+HKP1K4HoXrUcg/uB6F61G4zj8pXI/C9SjMP3sUrkfhesQ/mpmZmZmZyT+amZmZmZnJP1K4HoXrUcg/uB6F61G4zj8zMzMzMzPDP+F6FK5H4co/pHA9Ctej0D9SuB6F61HIPx+F61G4HtU/rkfhehSu1z+PwvUoXI/SP5qZmZmZmdk/MzMzMzMzwz9xPQrXo3DNP7gehetRuM4/uB6F61G4zj/D9Shcj8LFP8P1KFyPwsU/uB6F61G4zj9xPQrXo3DNP4/C9Shcj9I/exSuR+F61D+4HoXrUbjOP65H4XoUrtc/j8L1KFyP0j+uR+F6FK7XPzMzMzMzM8M/AAAAAAAA0D9xPQrXo3C9PwAAAAAAAMA/AAAAAAAA0D+kcD0K16PQP9ejcD0K19M/AAAAAAAA0D97FK5H4XrUP3E9CtejcN0/4XoUrkfhyj8AAAAAAADQPylcj8L1KMw/AAAAAAAA0D8pXI/C9SjMPwAAAAAAANA/w/UoXI/CxT+uR+F6FK7XP6RwPQrXo9A/rkfhehSu1z+amZmZmZnZP3E9CtejcM0/cT0K16NwzT89CtejcD3aPylcj8L1KNw/KVyPwvUo3D8K16NwPQrHP4XrUbgehds/KVyPwvUo3D+amZmZmZnJPwrXo3A9Csc/pHA9Ctej0D8AAAAAAADQP9ejcD0K19M/7FG4HoXr0T8pXI/C9SjMPylcj8L1KMw/KVyPwvUozD9I4XoUrkfRP83MzMzMzNw/SOF6FK5H0T97FK5H4XrEP+F6FK5H4co/exSuR+F61D/hehSuR+HaP+xRuB6F68E/uB6F61G4zj97FK5H4XrUP3sUrkfhesQ/4XoUrkfhyj+PwvUoXI/SP3E9CtejcM0/9ihcj8L12D9xPQrXo3DdP2ZmZmZmZtY/j8L1KFyP0j89CtejcD3iP65H4XoUrtc/ZmZmZmZm1j9SuB6F61HIP6RwPQrXo8A/AAAAAAAA0D+kcD0K16PAP6RwPQrXo9A/cT0K16NwzT8zMzMzMzPTP+xRuB6F69E/UrgehetR2D+F61G4HoXbP1yPwvUoXN8/CtejcD0Kxz9cj8L1KFzfP1K4HoXrUcg/CtejcD0Kxz8AAAAAAADQPwAAAAAAANA/AAAAAAAA0D+amZmZmZnZP6RwPQrXo9A/KVyPwvUozD8AAAAAAADQPzMzMzMzM9M/7FG4HoXrwT8K16NwPQrHPwrXo3A9Ctc/CtejcD0Kxz+kcD0K16PgPylcj8L1KNw/AAAAAAAA0D+kcD0K16PgP8P1KFyPwtU/ZmZmZmZm1j+PwvUoXI/SP0jhehSuR9E/UrgehetRyD8K16NwPQrXP8P1KFyPwsU/CtejcD0Kxz8pXI/C9SjMP1K4HoXrUcg/MzMzMzMz0z9xPQrXo3DNP+F6FK5H4co/MzMzMzMz0z/hehSuR+HaP7gehetRuM4/w/UoXI/C1T+4HoXrUbjOPz0K16NwPdo/pHA9Ctej0D9SuB6F61HIP5qZmZmZmck/pHA9Ctej0D/sUbgehevBPylcj8L1KMw/pHA9Ctej0D/D9Shcj8LFP+xRuB6F69E/UrgehetRyD9SuB6F61HIPzMzMzMzM9M/UrgehetRyD+4HoXrUbjOP+F6FK5H4co/16NwPQrX0z/hehSuR+HKP6RwPQrXo8A/CtejcD0Kxz9mZmZmZmbWP2ZmZmZmZtY/AAAAAAAA0D8AAAAAAADQP6RwPQrXo9A/AAAAAAAA0D+kcD0K16PQPwAAAAAAANA/CtejcD0Kxz+amZmZmZnJPzMzMzMzM8M/CtejcD0Kxz97FK5H4XrEP3E9CtejcM0/w/UoXI/CxT+F61G4HoXbPzMzMzMzM8M/MzMzMzMzwz+4HoXrUbjOPx+F61G4HtU/pHA9Ctej0D+amZmZmZnJPwAAAAAAANA/4XoUrkfh2j9I4XoUrkfRP+F6FK5H4do/KVyPwvUo3D8pXI/C9SjcP1yPwvUoXN8/KVyPwvUo3D9cj8L1KFzfP7gehetRuM4/uB6F61G4zj8AAAAAAADQPwrXo3A9Csc/uB6F61G4zj+kcD0K16PAP+F6FK5H4co/CtejcD0Kxz8pXI/C9SjcP65H4XoUrtc/CtejcD0K1z8K16NwPQrXP6RwPQrXo9A/pHA9CtejwD9SuB6F61HIP9ejcD0K19M/cT0K16NwzT89CtejcD3aPz0K16NwPdo/mpmZmZmZyT+amZmZmZnJP5qZmZmZmck/mpmZmZmZyT+amZmZmZnJPx+F61G4HtU/mpmZmZmZyT+amZmZmZnZPz0K16NwPdo/mpmZmZmZyT/sUbgehevRP9ejcD0K19M/H4XrUbge1T/2KFyPwvXYP/YoXI/C9dg/7FG4HoXrwT+uR+F6FK7XP1K4HoXrUcg/UrgehetRyD9SuB6F61HIP1K4HoXrUcg/UrgehetRyD9SuB6F61HIP1K4HoXrUcg/w/UoXI/C1T8K16NwPQrHP3E9CtejcM0/uB6F61G4zj+4HoXrUbjOP83MzMzMzNw/zczMzMzM3D+amZmZmZnJP5qZmZmZmck/16NwPQrX0z8K16NwPQrHP1K4HoXrUcg/UrgehetRyD+amZmZmZnZPwrXo3A9Csc/mpmZmZmZ2T97FK5H4XrUP+xRuB6F69E/PQrXo3A92j97FK5H4XrUPzMzMzMzM9M/CtejcD0K1z8pXI/C9SjMP3sUrkfhetQ/mpmZmZmZyT+amZmZmZnZP65H4XoUrtc/mpmZmZmZ2T8K16NwPQrHP7gehetRuN4/mpmZmZmZuT8zMzMzMzPDPzMzMzMzM8M/cT0K16Nw3T/sUbgehevRP8P1KFyPwsU/mpmZmZmZ2T9SuB6F61HIP6RwPQrXo9A/ZmZmZmZm1j9I4XoUrkfRP0jhehSuR9E/w/UoXI/C1T/D9Shcj8LVP7gehetRuL4/uB6F61G4vj8K16NwPQrHP8P1KFyPwsU/w/UoXI/CxT8K16NwPQrHP3E9CtejcM0/pHA9CtejwD8zMzMzMzPDP6RwPQrXo8A/MzMzMzMzwz+kcD0K16PAP+F6FK5H4co/MzMzMzMz0z8K16NwPQrHPwrXo3A9Csc/CtejcD0Kxz8K16NwPQrHPwrXo3A9Csc/CtejcD0Kxz8K16NwPQrHP8P1KFyPwtU/AAAAAAAA4D8pXI/C9Si8PzMzMzMzM9M/MzMzMzMz0z8zMzMzMzPTPwrXo3A9Csc/CtejcD0Kxz8K16NwPQrHP6RwPQrXo9A/pHA9Ctej0D8K16NwPQrHP7gehetRuM4/w/UoXI/CxT/sUbgehevRP7gehetRuL4/CtejcD0Kxz8pXI/C9SjMP+xRuB6F68E/MzMzMzMzwz+kcD0K16PAP+F6FK5H4co/w/UoXI/C1T+4HoXrUbi+P8P1KFyPwtU/MzMzMzMz0z8zMzMzMzPDP2ZmZmZmZtY/exSuR+F61D97FK5H4XrEP3E9CtejcN0/pHA9Ctej0D+amZmZmZnZP4/C9Shcj9I/j8L1KFyP0j+amZmZmZnJP3sUrkfhetQ/KVyPwvUo3D/D9Shcj8LFP8P1KFyPwsU/KVyPwvUo1D8pXI/C9SjcP4/C9Shcj9I/9ihcj8L12D8K16NwPQrXPwrXo3A9Ctc/CtejcD0K1z/2KFyPwvXYP65H4XoUrtc/KVyPwvUozD+uR+F6FK7XP9ejcD0K19M/exSuR+F6xD8zMzMzMzPDPylcj8L1KMw/exSuR+F61D+kcD0K16PQP3sUrkfhetQ/UrgehetRyD9SuB6F61HIP+xRuB6F68E/7FG4HoXrwT8pXI/C9SjcPzMzMzMzM8M/KVyPwvUozD8pXI/C9SjMPzMzMzMzM8M/H4XrUbge1T8K16NwPQrHP4/C9Shcj9I/H4XrUbge1T8K16NwPQrHP7gehetRuN4/uB6F61G43j/D9Shcj8LFP+F6FK5H4co/cT0K16NwzT/hehSuR+HKP2ZmZmZmZt4/7FG4HoXr0T89CtejcD3SP3sUrkfhesQ/AAAAAAAAwD8pXI/C9SjMPwAAAAAAANA/KVyPwvUozD8K16NwPQrXPylcj8L1KNw/16NwPQrXwz/Xo3A9CtfTP9ejcD0K19M/4XoUrkfhyj/Xo3A9CtfDP7gehetRuL4/uB6F61G4vj+4HoXrUbi+Px+F61G4HtU/j8L1KFyP0j+amZmZmZnZPylcj8L1KLw/UrgehetR2D/D9Shcj8LVPwrXo3A9Ctc/UrgehetR2D9xPQrXo3DNPwrXo3A9Csc/CtejcD0Kxz8K16NwPQrHP1K4HoXrUcg/SOF6FK5H0T+uR+F6FK7XP5qZmZmZmck/CtejcD0Kxz8K16NwPQrHP2ZmZmZmZtY/exSuR+F61D8K16NwPQrHPwrXo3A9Csc/mpmZmZmZyT+uR+F6FK7XP1K4HoXrUcg/SOF6FK5H0T8zMzMzMzPTPylcj8L1KMw/KVyPwvUozD8UrkfhehTePxSuR+F6FN4/uB6F61G4zj+amZmZmZnJP+xRuB6F69E/9ihcj8L14D/sUbgehevRPwrXo3A9Ctc/MzMzMzMzwz/Xo3A9CtfTP9ejcD0K19M/CtejcD0K1z8AAAAAAADQP6RwPQrXo8A/H4XrUbge1T/D9Shcj8LVP+xRuB6F68E/AAAAAAAA0D9xPQrXo3DNP+F6FK5H4co/cT0K16NwzT/sUbgehevRP8P1KFyPwsU/H4XrUbge1T/2KFyPwvXYP/YoXI/C9dg/CtejcD0K1z/2KFyPwvXYPwrXo3A9Ctc/7FG4HoXr0T8fhetRuB7VPx+F61G4HtU/CtejcD0K1z+amZmZmZm5PwrXo3A9Csc/w/UoXI/CxT/sUbgehevRPylcj8L1KMw/KVyPwvUozD/hehSuR+HKP9ejcD0K19M/4XoUrkfh2j8pXI/C9SjMP83MzMzMzNw/j8L1KFyP0j9mZmZmZmbWPx+F61G4HtU/mpmZmZmZyT9xPQrXo3DNP8P1KFyPwtU/MzMzMzMz0z/D9Shcj8LVP+F6FK5H4co/AAAAAAAA0D9xPQrXo3DNP6RwPQrXo9A/MzMzMzMz0z9SuB6F61HIP6RwPQrXo9A/exSuR+F61D8pXI/C9SjMP3E9CtejcM0/cT0K16NwzT97FK5H4XrEP7gehetRuL4/4XoUrkfhyj9xPQrXo3DNP+F6FK5H4co/uB6F61G4vj/D9Shcj8LFP3sUrkfhetQ/uB6F61G4vj8pXI/C9SjMP3sUrkfhetQ/UrgehetRyD97FK5H4XrUP3E9CtejcN0/MzMzMzMz0z9SuB6F61HIP7gehetRuM4/j8L1KFyPwj8K16NwPQrHP3sUrkfhesQ/pHA9Ctej0D8AAAAAAADQP8P1KFyPwsU/KVyPwvUozD8K16NwPQrXP5qZmZmZmck/KVyPwvUozD8K16NwPQrHP5qZmZmZmck/KVyPwvUozD/sUbgehevRP+xRuB6F69E/7FG4HoXr0T9SuB6F61HIP+xRuB6F69E/7FG4HoXr0T+4HoXrUbjOP+xRuB6F69E/MzMzMzMz0z8zMzMzMzPTPzMzMzMzM9M/MzMzMzMz0z+PwvUoXI/SP+xRuB6F69E/UrgehetR0D9I4XoUrkfRPzMzMzMzM8M/FK5H4XoU3j8zMzMzMzPDP+F6FK5H4co/4XoUrkfhyj/hehSuR+G6P3sUrkfhetQ/uB6F61G4zj8zMzMzMzPTP3sUrkfhesQ/uB6F61G4zj8zMzMzMzPTP65H4XoUrtc/16NwPQrX0z97FK5H4XrUPzMzMzMzM9M/zczMzMzM3D8K16NwPQrXP65H4XoUrtc/4XoUrkfhyj/sUbgehevRP9ejcD0K19M/7FG4HoXr0T/sUbgehevRPylcj8L1KMw/uB6F61G4zj8fhetRuB7VP+xRuB6F69E/H4XrUbge1T97FK5H4XrEP5qZmZmZmck/CtejcD0K1z9SuB6F61HIP1K4HoXrUcg/H4XrUbge1T+PwvUoXI/SPx+F61G4HtU/cT0K16NwzT9mZmZmZmbWP+xRuB6F69E/4XoUrkfhyj8zMzMzMzPDPwrXo3A9Csc/cT0K16NwzT8AAAAAAADQP6RwPQrXo9A/AAAAAAAA0D+4HoXrUbjOP+xRuB6F69E/UrgehetRyD/sUbgehevRP+xRuB6F69E/UrgehetRyD97FK5H4XrEP8P1KFyPwsU/mpmZmZmZyT/hehSuR+HSP3sUrkfhetQ/SOF6FK5H0T+amZmZmZnJP0jhehSuR9E/CtejcD0K1z/Xo3A9CtfTP6RwPQrXo9A/MzMzMzMz0z+PwvUoXI/SP7gehetRuM4/H4XrUbge1T+PwvUoXI/SP6RwPQrXo+A/7FG4HoXr0T8zMzMzMzPDP5qZmZmZmdE/9ihcj8L14D97FK5H4XrUP4/C9Shcj9I/9ihcj8L14D/hehSuR+HKP3sUrkfhetQ/rkfhehSu1z8zMzMzMzPTPz0K16NwPdo/MzMzMzMz0z8zMzMzMzPTP5qZmZmZmck/KVyPwvUozD97FK5H4XrEP9ejcD0K19M/KVyPwvUozD/hehSuR+HKP5qZmZmZmck/16NwPQrX0z97FK5H4XrEP8P1KFyPwtU/9ihcj8L10D/D9Shcj8LFP/YoXI/C9dA/mpmZmZmZyT8zMzMzMzPDPzMzMzMzM8M/MzMzMzMzwz8zMzMzMzPDPzMzMzMzM8M/MzMzMzMzwz8zMzMzMzPDPzMzMzMzM8M/cT0K16Nw3T/D9Shcj8LFP3E9CtejcN0/MzMzMzMzwz97FK5H4XrUP1K4HoXrUcg/hetRuB6F2z+4HoXrUbjOPylcj8L1KNw/pHA9Ctej0D/D9Shcj8LVP8P1KFyPwsU/exSuR+F61D/2KFyPwvXYPylcj8L1KMw/cT0K16NwzT8fhetRuB7dPx+F61G4HtU/H4XrUbge1T/Xo3A9CtfTP/YoXI/C9dg/9ihcj8L12D8fhetRuB7VP/YoXI/C9dg/H4XrUbge3T9mZmZmZmbWP9ejcD0K19M/KVyPwvUozD8zMzMzMzPTPylcj8L1KMw/j8L1KFyP4j/D9Shcj8LVPwrXo3A9Csc/uB6F61G4zj97FK5H4XrUP4/C9Shcj9I/KVyPwvUozD+4HoXrUbjOP3sUrkfhetQ/UrgehetRyD/sUbgehevRP+xRuB6F69E/7FG4HoXr0T+kcD0K16PQP1K4HoXrUdg/pHA9Ctej0D97FK5H4XrEP3sUrkfhesQ/exSuR+F6xD97FK5H4XrEP8P1KFyPwsU/exSuR+F6xD97FK5H4XrEP8P1KFyPwsU/AAAAAAAA4D97FK5H4XrEPx+F61G4HtU/AAAAAAAA0D/Xo3A9CtfTP83MzMzMzNw/MzMzMzMz0z+F61G4HoXbP5qZmZmZmdk/pHA9CtejwD/D9Shcj8LVPwrXo3A9Csc/pHA9CtejwD8K16NwPQrHP7gehetRuM4/exSuR+F6xD97FK5H4XrEP3sUrkfhesQ/exSuR+F6xD97FK5H4XrEP3sUrkfhesQ/KVyPwvUozD9xPQrXo3DNP8P1KFyPwsU/4XoUrkfhyj97FK5H4XrEP2ZmZmZmZtY/UrgehetRyD8zMzMzMzPTPx+F61G4HtU/zczMzMzM3D8AAAAAAADQPylcj8L1KMw/UrgehetR0D+amZmZmZnJP+xRuB6F69E/KVyPwvUozD/Xo3A9CtfTP9ejcD0K19M/j8L1KFyP0j/Xo3A9CtfTPylcj8L1KMw/PQrXo3A92j89CtejcD3aP8P1KFyPwtU/PQrXo3A92j89CtejcD3aP3sUrkfhesQ/UrgehetRyD9SuB6F61HIP1K4HoXrUcg/UrgehetRyD9SuB6F61HIP1K4HoXrUcg/UrgehetRyD+4HoXrUbjOP1K4HoXrUcg/cT0K16NwzT+PwvUoXI/SP4/C9Shcj9I/MzMzMzMz0z9I4XoUrkfRPzMzMzMzM9M/SOF6FK5H0T9mZmZmZmbWP4XrUbgeheM/KVyPwvUozD8K16NwPQrHP6RwPQrXo9A/cT0K16NwzT8pXI/C9SjMPylcj8L1KMw/mpmZmZmZyT9mZmZmZmbWP6RwPQrXo8A/exSuR+F6xD8K16NwPQrXPylcj8L1KNw/AAAAAAAA4D8pXI/C9SjcP4XrUbgehdM/AAAAAAAA4D+4HoXrUbjOPwAAAAAAANA/4XoUrkfhyj+4HoXrUbjOP7gehetRuM4/CtejcD0Kxz+kcD0K16PQP/YoXI/C9dg/CtejcD0K1z+PwvUoXI/SP4/C9Shcj9I/j8L1KFyP0j+PwvUoXI/SP8P1KFyPwsU/exSuR+F6xD97FK5H4XrEP8P1KFyPwsU/7FG4HoXr0T9mZmZmZmbWP+xRuB6F69E/UrgehetRyD9SuB6F61HIP2ZmZmZmZtY/ZmZmZmZm1j+4HoXrUbi+Pylcj8L1KMw/H4XrUbge1T8pXI/C9SjMP7gehetRuM4/AAAAAAAA0D9SuB6F61HYP1K4HoXrUdg/uB6F61G43j+amZmZmZnZPzMzMzMzM9M/exSuR+F61D9SuB6F61HIP+F6FK5H4co/AAAAAAAA0D97FK5H4XrUP83MzMzMzMw/4XoUrkfhuj/hehSuR+G6P5qZmZmZmck/4XoUrkfhuj/sUbgehevRP9ejcD0K19M/pHA9Ctej0D9SuB6F61HoP+xRuB6F69E/exSuR+F61D+uR+F6FK7XP8P1KFyPwtU/SOF6FK5H4T8K16NwPQrXP3sUrkfhetQ/UrgehetR2D/hehSuR+HKPz0K16NwPdo/j8L1KFyP0j8="
         },
         "xaxis": "x",
         "yaxis": "y",
         "type": "histogram"
        },
        {
         "bingroup": "x",
         "hovertemplate": "quality label=poor<br>volatile acidity=%{x}<br>count=%{y}<extra></extra>",
         "legendgroup": "poor",
         "marker": {
          "color": "#00cc96",
          "opacity": 0.5,
          "pattern": {
           "shape": ""
          }
         },
         "name": "poor",
         "orientation": "v",
         "showlegend": true,
         "x": {
          "dtype": "f8",
          "bdata": "zczMzMzM3D8K16NwPQrXPwrXo3A9Ct8/CtejcD0K4z+4HoXrUbjeP3sUrkfhetQ/cT0K16Nw5T/sUbgehevRP+xRuB6F69E/KVyPwvUo3D97FK5H4XrkP+F6FK5H4co/pHA9Ctej0D+4HoXrUbjOPwrXo3A9Ctc/exSuR+F61D8pXI/C9SjcP+F6FK5H4eI/mpmZmZmZ4T97FK5H4XrUP5qZmZmZmdk/mpmZmZmZ2T/Xo3A9CtfTP9ejcD0K19M/7FG4HoXr4T/sUbgehevRPx+F61G4HtU/j8L1KFyP0j89CtejcD3iP3E9CtejcOU/mpmZmZmZyT9SuB6F61HYP/YoXI/C9dg/SOF6FK5H2T/D9Shcj8LFP8P1KFyPwsU/UrgehetRyD9I4XoUrkfRP3E9CtejcM0/exSuR+F61D+PwvUoXI/mP6RwPQrXo9A/uB6F61G4zj+amZmZmZnhPzMzMzMzM+M/exSuR+F65D/D9Shcj8LlP1yPwvUoXN8/j8L1KFyP0j8zMzMzMzPTPylcj8L1KMw/pHA9Ctej4D8zMzMzMzPjP3sUrkfhesQ/H4XrUbge1T8fhetRuB7VPx+F61G4HuU/9ihcj8L12D89CtejcD3aP2ZmZmZmZtY/exSuR+F61D/2KFyPwvXYP5qZmZmZmeE/7FG4HoXr0T8AAAAAAADQP/YoXI/C9dg/AAAAAAAA0D8AAAAAAADQP3sUrkfhetQ/9ihcj8L14D+F61G4HoXbP2ZmZmZmZtY/w/UoXI/CxT97FK5H4XrkP9ejcD0K19M/pHA9Ctej0D+PwvUoXI/SP+xRuB6F69E/AAAAAAAA0D+F61G4HoXbP0jhehSuR9E/hetRuB6F4z+amZmZmZnJP4/C9Shcj9I/exSuR+F61D8AAAAAAADgPx+F61G4Hu0/pHA9Ctej0D9cj8L1KFzfPxSuR+F6FPA/hetRuB6F2z9xPQrXo3DNP83MzMzMzNw/mpmZmZmZyT97FK5H4XrEP8P1KFyPwu0/7FG4HoXr0T+4HoXrUbjOP3E9CtejcM0/w/UoXI/C1T/D9Shcj8LVP4/C9Shcj9I/pHA9Ctej0D/sUbgehevRP+xRuB6F69E/H4XrUbge1T+4HoXrUbjeP0jhehSuR9E/SOF6FK5H0T8zMzMzMzPTPzMzMzMzM9M/4XoUrkfhyj9SuB6F61HIP3sUrkfhesQ/4XoUrkfhyj9SuB6F61HYP+F6FK5H4co/UrgehetR2D9mZmZmZmbWP9ejcD0K19M/16NwPQrX0z/D9Shcj8LVP8P1KFyPwtU/SOF6FK5H4T9I4XoUrkfhP65H4XoUruM/cT0K16NwzT8pXI/C9Si8Pylcj8L1KMw/7FG4HoXr0T9I4XoUrkfRP0jhehSuR9E/UrgehetR0D/sUbgehevRP5qZmZmZmck/MzMzMzMz0z+amZmZmZnJPzMzMzMzM9M/j8L1KFyP0j+F61G4HoXLP7gehetRuN4/uB6F61G4zj9xPQrXo3DNP3sUrkfheuQ/AAAAAAAA6D/D9Shcj8LVP/YoXI/C9eQ/KVyPwvUozD9SuB6F61HIPzMzMzMzM+M/CtejcD0Kxz97FK5H4XrUP0jhehSuR9E/pHA9Ctej0D8K16NwPQrXP1yPwvUoXOc/zczMzMzM5D/Xo3A9CtfTP1K4HoXrUdg/SOF6FK5H0T9I4XoUrkfRP65H4XoUrtc/mpmZmZmZ8T9mZmZmZmbWP9ejcD0K19M/UrgehetR2D9SuB6F61HYP1K4HoXrUdg/hetRuB6F2z8UrkfhehTePwrXo3A9Csc/7FG4HoXr0T/sUbgehevRP6RwPQrXo9A/rkfhehSu4z8pXI/C9SjkPylcj8L1KOQ/pHA9Ctej0D+4HoXrUbjOP+F6FK5H4eI/ZmZmZmZm1j/sUbgehevZP/YoXI/C9eA/"
         },
         "xaxis": "x",
         "yaxis": "y",
         "type": "histogram"
        }
       ],
       "layout": {
        "template": {
         "data": {
          "histogram2dcontour": [
           {
            "type": "histogram2dcontour",
            "colorbar": {
             "outlinewidth": 0,
             "ticks": ""
            },
            "colorscale": [
             [
              0.0,
              "#0d0887"
             ],
             [
              0.1111111111111111,
              "#46039f"
             ],
             [
              0.2222222222222222,
              "#7201a8"
             ],
             [
              0.3333333333333333,
              "#9c179e"
             ],
             [
              0.4444444444444444,
              "#bd3786"
             ],
             [
              0.5555555555555556,
              "#d8576b"
             ],
             [
              0.6666666666666666,
              "#ed7953"
             ],
             [
              0.7777777777777778,
              "#fb9f3a"
             ],
             [
              0.8888888888888888,
              "#fdca26"
             ],
             [
              1.0,
              "#f0f921"
             ]
            ]
           }
          ],
          "choropleth": [
           {
            "type": "choropleth",
            "colorbar": {
             "outlinewidth": 0,
             "ticks": ""
            }
           }
          ],
          "histogram2d": [
           {
            "type": "histogram2d",
            "colorbar": {
             "outlinewidth": 0,
             "ticks": ""
            },
            "colorscale": [
             [
              0.0,
              "#0d0887"
             ],
             [
              0.1111111111111111,
              "#46039f"
             ],
             [
              0.2222222222222222,
              "#7201a8"
             ],
             [
              0.3333333333333333,
              "#9c179e"
             ],
             [
              0.4444444444444444,
              "#bd3786"
             ],
             [
              0.5555555555555556,
              "#d8576b"
             ],
             [
              0.6666666666666666,
              "#ed7953"
             ],
             [
              0.7777777777777778,
              "#fb9f3a"
             ],
             [
              0.8888888888888888,
              "#fdca26"
             ],
             [
              1.0,
              "#f0f921"
             ]
            ]
           }
          ],
          "heatmap": [
           {
            "type": "heatmap",
            "colorbar": {
             "outlinewidth": 0,
             "ticks": ""
            },
            "colorscale": [
             [
              0.0,
              "#0d0887"
             ],
             [
              0.1111111111111111,
              "#46039f"
             ],
             [
              0.2222222222222222,
              "#7201a8"
             ],
             [
              0.3333333333333333,
              "#9c179e"
             ],
             [
              0.4444444444444444,
              "#bd3786"
             ],
             [
              0.5555555555555556,
              "#d8576b"
             ],
             [
              0.6666666666666666,
              "#ed7953"
             ],
             [
              0.7777777777777778,
              "#fb9f3a"
             ],
             [
              0.8888888888888888,
              "#fdca26"
             ],
             [
              1.0,
              "#f0f921"
             ]
            ]
           }
          ],
          "contourcarpet": [
           {
            "type": "contourcarpet",
            "colorbar": {
             "outlinewidth": 0,
             "ticks": ""
            }
           }
          ],
          "contour": [
           {
            "type": "contour",
            "colorbar": {
             "outlinewidth": 0,
             "ticks": ""
            },
            "colorscale": [
             [
              0.0,
              "#0d0887"
             ],
             [
              0.1111111111111111,
              "#46039f"
             ],
             [
              0.2222222222222222,
              "#7201a8"
             ],
             [
              0.3333333333333333,
              "#9c179e"
             ],
             [
              0.4444444444444444,
              "#bd3786"
             ],
             [
              0.5555555555555556,
              "#d8576b"
             ],
             [
              0.6666666666666666,
              "#ed7953"
             ],
             [
              0.7777777777777778,
              "#fb9f3a"
             ],
             [
              0.8888888888888888,
              "#fdca26"
             ],
             [
              1.0,
              "#f0f921"
             ]
            ]
           }
          ],
          "surface": [
           {
            "type": "surface",
            "colorbar": {
             "outlinewidth": 0,
             "ticks": ""
            },
            "colorscale": [
             [
              0.0,
              "#0d0887"
             ],
             [
              0.1111111111111111,
              "#46039f"
             ],
             [
              0.2222222222222222,
              "#7201a8"
             ],
             [
              0.3333333333333333,
              "#9c179e"
             ],
             [
              0.4444444444444444,
              "#bd3786"
             ],
             [
              0.5555555555555556,
              "#d8576b"
             ],
             [
              0.6666666666666666,
              "#ed7953"
             ],
             [
              0.7777777777777778,
              "#fb9f3a"
             ],
             [
              0.8888888888888888,
              "#fdca26"
             ],
             [
              1.0,
              "#f0f921"
             ]
            ]
           }
          ],
          "mesh3d": [
           {
            "type": "mesh3d",
            "colorbar": {
             "outlinewidth": 0,
             "ticks": ""
            }
           }
          ],
          "scatter": [
           {
            "fillpattern": {
             "fillmode": "overlay",
             "size": 10,
             "solidity": 0.2
            },
            "type": "scatter"
           }
          ],
          "parcoords": [
           {
            "type": "parcoords",
            "line": {
             "colorbar": {
              "outlinewidth": 0,
              "ticks": ""
             }
            }
           }
          ],
          "scatterpolargl": [
           {
            "type": "scatterpolargl",
            "marker": {
             "colorbar": {
              "outlinewidth": 0,
              "ticks": ""
             }
            }
           }
          ],
          "bar": [
           {
            "error_x": {
             "color": "#2a3f5f"
            },
            "error_y": {
             "color": "#2a3f5f"
            },
            "marker": {
             "line": {
              "color": "#E5ECF6",
              "width": 0.5
             },
             "pattern": {
              "fillmode": "overlay",
              "size": 10,
              "solidity": 0.2
             }
            },
            "type": "bar"
           }
          ],
          "scattergeo": [
           {
            "type": "scattergeo",
            "marker": {
             "colorbar": {
              "outlinewidth": 0,
              "ticks": ""
             }
            }
           }
          ],
          "scatterpolar": [
           {
            "type": "scatterpolar",
            "marker": {
             "colorbar": {
              "outlinewidth": 0,
              "ticks": ""
             }
            }
           }
          ],
          "histogram": [
           {
            "marker": {
             "pattern": {
              "fillmode": "overlay",
              "size": 10,
              "solidity": 0.2
             }
            },
            "type": "histogram"
           }
          ],
          "scattergl": [
           {
            "type": "scattergl",
            "marker": {
             "colorbar": {
              "outlinewidth": 0,
              "ticks": ""
             }
            }
           }
          ],
          "scatter3d": [
           {
            "type": "scatter3d",
            "line": {
             "colorbar": {
              "outlinewidth": 0,
              "ticks": ""
             }
            },
            "marker": {
             "colorbar": {
              "outlinewidth": 0,
              "ticks": ""
             }
            }
           }
          ],
          "scattermap": [
           {
            "type": "scattermap",
            "marker": {
             "colorbar": {
              "outlinewidth": 0,
              "ticks": ""
             }
            }
           }
          ],
          "scattermapbox": [
           {
            "type": "scattermapbox",
            "marker": {
             "colorbar": {
              "outlinewidth": 0,
              "ticks": ""
             }
            }
           }
          ],
          "scatterternary": [
           {
            "type": "scatterternary",
            "marker": {
             "colorbar": {
              "outlinewidth": 0,
              "ticks": ""
             }
            }
           }
          ],
          "scattercarpet": [
           {
            "type": "scattercarpet",
            "marker": {
             "colorbar": {
              "outlinewidth": 0,
              "ticks": ""
             }
            }
           }
          ],
          "carpet": [
           {
            "aaxis": {
             "endlinecolor": "#2a3f5f",
             "gridcolor": "white",
             "linecolor": "white",
             "minorgridcolor": "white",
             "startlinecolor": "#2a3f5f"
            },
            "baxis": {
             "endlinecolor": "#2a3f5f",
             "gridcolor": "white",
             "linecolor": "white",
             "minorgridcolor": "white",
             "startlinecolor": "#2a3f5f"
            },
            "type": "carpet"
           }
          ],
          "table": [
           {
            "cells": {
             "fill": {
              "color": "#EBF0F8"
             },
             "line": {
              "color": "white"
             }
            },
            "header": {
             "fill": {
              "color": "#C8D4E3"
             },
             "line": {
              "color": "white"
             }
            },
            "type": "table"
           }
          ],
          "barpolar": [
           {
            "marker": {
             "line": {
              "color": "#E5ECF6",
              "width": 0.5
             },
             "pattern": {
              "fillmode": "overlay",
              "size": 10,
              "solidity": 0.2
             }
            },
            "type": "barpolar"
           }
          ],
          "pie": [
           {
            "automargin": true,
            "type": "pie"
           }
          ]
         },
         "layout": {
          "autotypenumbers": "strict",
          "colorway": [
           "#636efa",
           "#EF553B",
           "#00cc96",
           "#ab63fa",
           "#FFA15A",
           "#19d3f3",
           "#FF6692",
           "#B6E880",
           "#FF97FF",
           "#FECB52"
          ],
          "font": {
           "color": "#2a3f5f"
          },
          "hovermode": "closest",
          "hoverlabel": {
           "align": "left"
          },
          "paper_bgcolor": "white",
          "plot_bgcolor": "#E5ECF6",
          "polar": {
           "bgcolor": "#E5ECF6",
           "angularaxis": {
            "gridcolor": "white",
            "linecolor": "white",
            "ticks": ""
           },
           "radialaxis": {
            "gridcolor": "white",
            "linecolor": "white",
            "ticks": ""
           }
          },
          "ternary": {
           "bgcolor": "#E5ECF6",
           "aaxis": {
            "gridcolor": "white",
            "linecolor": "white",
            "ticks": ""
           },
           "baxis": {
            "gridcolor": "white",
            "linecolor": "white",
            "ticks": ""
           },
           "caxis": {
            "gridcolor": "white",
            "linecolor": "white",
            "ticks": ""
           }
          },
          "coloraxis": {
           "colorbar": {
            "outlinewidth": 0,
            "ticks": ""
           }
          },
          "colorscale": {
           "sequential": [
            [
             0.0,
             "#0d0887"
            ],
            [
             0.1111111111111111,
             "#46039f"
            ],
            [
             0.2222222222222222,
             "#7201a8"
            ],
            [
             0.3333333333333333,
             "#9c179e"
            ],
            [
             0.4444444444444444,
             "#bd3786"
            ],
            [
             0.5555555555555556,
             "#d8576b"
            ],
            [
             0.6666666666666666,
             "#ed7953"
            ],
            [
             0.7777777777777778,
             "#fb9f3a"
            ],
            [
             0.8888888888888888,
             "#fdca26"
            ],
            [
             1.0,
             "#f0f921"
            ]
           ],
           "sequentialminus": [
            [
             0.0,
             "#0d0887"
            ],
            [
             0.1111111111111111,
             "#46039f"
            ],
            [
             0.2222222222222222,
             "#7201a8"
            ],
            [
             0.3333333333333333,
             "#9c179e"
            ],
            [
             0.4444444444444444,
             "#bd3786"
            ],
            [
             0.5555555555555556,
             "#d8576b"
            ],
            [
             0.6666666666666666,
             "#ed7953"
            ],
            [
             0.7777777777777778,
             "#fb9f3a"
            ],
            [
             0.8888888888888888,
             "#fdca26"
            ],
            [
             1.0,
             "#f0f921"
            ]
           ],
           "diverging": [
            [
             0,
             "#8e0152"
            ],
            [
             0.1,
             "#c51b7d"
            ],
            [
             0.2,
             "#de77ae"
            ],
            [
             0.3,
             "#f1b6da"
            ],
            [
             0.4,
             "#fde0ef"
            ],
            [
             0.5,
             "#f7f7f7"
            ],
            [
             0.6,
             "#e6f5d0"
            ],
            [
             0.7,
             "#b8e186"
            ],
            [
             0.8,
             "#7fbc41"
            ],
            [
             0.9,
             "#4d9221"
            ],
            [
             1,
             "#276419"
            ]
           ]
          },
          "xaxis": {
           "gridcolor": "white",
           "linecolor": "white",
           "ticks": "",
           "title": {
            "standoff": 15
           },
           "zerolinecolor": "white",
           "automargin": true,
           "zerolinewidth": 2
          },
          "yaxis": {
           "gridcolor": "white",
           "linecolor": "white",
           "ticks": "",
           "title": {
            "standoff": 15
           },
           "zerolinecolor": "white",
           "automargin": true,
           "zerolinewidth": 2
          },
          "scene": {
           "xaxis": {
            "backgroundcolor": "#E5ECF6",
            "gridcolor": "white",
            "linecolor": "white",
            "showbackground": true,
            "ticks": "",
            "zerolinecolor": "white",
            "gridwidth": 2
           },
           "yaxis": {
            "backgroundcolor": "#E5ECF6",
            "gridcolor": "white",
            "linecolor": "white",
            "showbackground": true,
            "ticks": "",
            "zerolinecolor": "white",
            "gridwidth": 2
           },
           "zaxis": {
            "backgroundcolor": "#E5ECF6",
            "gridcolor": "white",
            "linecolor": "white",
            "showbackground": true,
            "ticks": "",
            "zerolinecolor": "white",
            "gridwidth": 2
           }
          },
          "shapedefaults": {
           "line": {
            "color": "#2a3f5f"
           }
          },
          "annotationdefaults": {
           "arrowcolor": "#2a3f5f",
           "arrowhead": 0,
           "arrowwidth": 1
          },
          "geo": {
           "bgcolor": "white",
           "landcolor": "#E5ECF6",
           "subunitcolor": "white",
           "showland": true,
           "showlakes": true,
           "lakecolor": "white"
          },
          "title": {
           "x": 0.05
          },
          "mapbox": {
           "style": "light"
          }
         }
        },
        "xaxis": {
         "anchor": "y",
         "domain": [
          0.0,
          1.0
         ],
         "title": {
          "text": "volatile acidity"
         }
        },
        "yaxis": {
         "anchor": "x",
         "domain": [
          0.0,
          1.0
         ],
         "title": {
          "text": "count"
         }
        },
        "legend": {
         "title": {
          "text": "quality label"
         },
         "tracegroupgap": 0
        },
        "margin": {
         "t": 60
        },
        "barmode": "overlay"
       },
       "config": {
        "plotlyServerURL": "https://plot.ly"
       }
      }
     },
     "metadata": {},
     "output_type": "display_data",
     "jetTransient": {
      "display_id": null
     }
    }
   ],
   "execution_count": 14
  },
  {
   "metadata": {
    "ExecuteTime": {
     "end_time": "2025-09-18T10:36:17.784623Z",
     "start_time": "2025-09-18T10:36:17.751923Z"
    }
   },
   "cell_type": "code",
   "source": "df.plot(kind='hist', x='volatile acidity', color='quality label', barmode='overlay', histnorm='percent')",
   "id": "37f2b77803e0c64a",
   "outputs": [
    {
     "data": {
      "application/vnd.plotly.v1+json": {
       "data": [
        {
         "bingroup": "x",
         "histnorm": "percent",
         "hovertemplate": "quality label=normal<br>volatile acidity=%{x}<br>percent=%{y}<extra></extra>",
         "legendgroup": "normal",
         "marker": {
          "color": "#636efa",
          "opacity": 0.5,
          "pattern": {
           "shape": ""
          }
         },
         "name": "normal",
         "orientation": "v",
         "showlegend": true,
         "x": {
          "dtype": "f8",
          "bdata": "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"
         },
         "xaxis": "x",
         "yaxis": "y",
         "type": "histogram"
        },
        {
         "bingroup": "x",
         "histnorm": "percent",
         "hovertemplate": "quality label=excellent<br>volatile acidity=%{x}<br>percent=%{y}<extra></extra>",
         "legendgroup": "excellent",
         "marker": {
          "color": "#EF553B",
          "opacity": 0.5,
          "pattern": {
           "shape": ""
          }
         },
         "name": "excellent",
         "orientation": "v",
         "showlegend": true,
         "x": {
          "dtype": "f8",
          "bdata": "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"
         },
         "xaxis": "x",
         "yaxis": "y",
         "type": "histogram"
        },
        {
         "bingroup": "x",
         "histnorm": "percent",
         "hovertemplate": "quality label=poor<br>volatile acidity=%{x}<br>percent=%{y}<extra></extra>",
         "legendgroup": "poor",
         "marker": {
          "color": "#00cc96",
          "opacity": 0.5,
          "pattern": {
           "shape": ""
          }
         },
         "name": "poor",
         "orientation": "v",
         "showlegend": true,
         "x": {
          "dtype": "f8",
          "bdata": "zczMzMzM3D8K16NwPQrXPwrXo3A9Ct8/CtejcD0K4z+4HoXrUbjeP3sUrkfhetQ/cT0K16Nw5T/sUbgehevRP+xRuB6F69E/KVyPwvUo3D97FK5H4XrkP+F6FK5H4co/pHA9Ctej0D+4HoXrUbjOPwrXo3A9Ctc/exSuR+F61D8pXI/C9SjcP+F6FK5H4eI/mpmZmZmZ4T97FK5H4XrUP5qZmZmZmdk/mpmZmZmZ2T/Xo3A9CtfTP9ejcD0K19M/7FG4HoXr4T/sUbgehevRPx+F61G4HtU/j8L1KFyP0j89CtejcD3iP3E9CtejcOU/mpmZmZmZyT9SuB6F61HYP/YoXI/C9dg/SOF6FK5H2T/D9Shcj8LFP8P1KFyPwsU/UrgehetRyD9I4XoUrkfRP3E9CtejcM0/exSuR+F61D+PwvUoXI/mP6RwPQrXo9A/uB6F61G4zj+amZmZmZnhPzMzMzMzM+M/exSuR+F65D/D9Shcj8LlP1yPwvUoXN8/j8L1KFyP0j8zMzMzMzPTPylcj8L1KMw/pHA9Ctej4D8zMzMzMzPjP3sUrkfhesQ/H4XrUbge1T8fhetRuB7VPx+F61G4HuU/9ihcj8L12D89CtejcD3aP2ZmZmZmZtY/exSuR+F61D/2KFyPwvXYP5qZmZmZmeE/7FG4HoXr0T8AAAAAAADQP/YoXI/C9dg/AAAAAAAA0D8AAAAAAADQP3sUrkfhetQ/9ihcj8L14D+F61G4HoXbP2ZmZmZmZtY/w/UoXI/CxT97FK5H4XrkP9ejcD0K19M/pHA9Ctej0D+PwvUoXI/SP+xRuB6F69E/AAAAAAAA0D+F61G4HoXbP0jhehSuR9E/hetRuB6F4z+amZmZmZnJP4/C9Shcj9I/exSuR+F61D8AAAAAAADgPx+F61G4Hu0/pHA9Ctej0D9cj8L1KFzfPxSuR+F6FPA/hetRuB6F2z9xPQrXo3DNP83MzMzMzNw/mpmZmZmZyT97FK5H4XrEP8P1KFyPwu0/7FG4HoXr0T+4HoXrUbjOP3E9CtejcM0/w/UoXI/C1T/D9Shcj8LVP4/C9Shcj9I/pHA9Ctej0D/sUbgehevRP+xRuB6F69E/H4XrUbge1T+4HoXrUbjeP0jhehSuR9E/SOF6FK5H0T8zMzMzMzPTPzMzMzMzM9M/4XoUrkfhyj9SuB6F61HIP3sUrkfhesQ/4XoUrkfhyj9SuB6F61HYP+F6FK5H4co/UrgehetR2D9mZmZmZmbWP9ejcD0K19M/16NwPQrX0z/D9Shcj8LVP8P1KFyPwtU/SOF6FK5H4T9I4XoUrkfhP65H4XoUruM/cT0K16NwzT8pXI/C9Si8Pylcj8L1KMw/7FG4HoXr0T9I4XoUrkfRP0jhehSuR9E/UrgehetR0D/sUbgehevRP5qZmZmZmck/MzMzMzMz0z+amZmZmZnJPzMzMzMzM9M/j8L1KFyP0j+F61G4HoXLP7gehetRuN4/uB6F61G4zj9xPQrXo3DNP3sUrkfheuQ/AAAAAAAA6D/D9Shcj8LVP/YoXI/C9eQ/KVyPwvUozD9SuB6F61HIPzMzMzMzM+M/CtejcD0Kxz97FK5H4XrUP0jhehSuR9E/pHA9Ctej0D8K16NwPQrXP1yPwvUoXOc/zczMzMzM5D/Xo3A9CtfTP1K4HoXrUdg/SOF6FK5H0T9I4XoUrkfRP65H4XoUrtc/mpmZmZmZ8T9mZmZmZmbWP9ejcD0K19M/UrgehetR2D9SuB6F61HYP1K4HoXrUdg/hetRuB6F2z8UrkfhehTePwrXo3A9Csc/7FG4HoXr0T/sUbgehevRP6RwPQrXo9A/rkfhehSu4z8pXI/C9SjkPylcj8L1KOQ/pHA9Ctej0D+4HoXrUbjOP+F6FK5H4eI/ZmZmZmZm1j/sUbgehevZP/YoXI/C9eA/"
         },
         "xaxis": "x",
         "yaxis": "y",
         "type": "histogram"
        }
       ],
       "layout": {
        "template": {
         "data": {
          "histogram2dcontour": [
           {
            "type": "histogram2dcontour",
            "colorbar": {
             "outlinewidth": 0,
             "ticks": ""
            },
            "colorscale": [
             [
              0.0,
              "#0d0887"
             ],
             [
              0.1111111111111111,
              "#46039f"
             ],
             [
              0.2222222222222222,
              "#7201a8"
             ],
             [
              0.3333333333333333,
              "#9c179e"
             ],
             [
              0.4444444444444444,
              "#bd3786"
             ],
             [
              0.5555555555555556,
              "#d8576b"
             ],
             [
              0.6666666666666666,
              "#ed7953"
             ],
             [
              0.7777777777777778,
              "#fb9f3a"
             ],
             [
              0.8888888888888888,
              "#fdca26"
             ],
             [
              1.0,
              "#f0f921"
             ]
            ]
           }
          ],
          "choropleth": [
           {
            "type": "choropleth",
            "colorbar": {
             "outlinewidth": 0,
             "ticks": ""
            }
           }
          ],
          "histogram2d": [
           {
            "type": "histogram2d",
            "colorbar": {
             "outlinewidth": 0,
             "ticks": ""
            },
            "colorscale": [
             [
              0.0,
              "#0d0887"
             ],
             [
              0.1111111111111111,
              "#46039f"
             ],
             [
              0.2222222222222222,
              "#7201a8"
             ],
             [
              0.3333333333333333,
              "#9c179e"
             ],
             [
              0.4444444444444444,
              "#bd3786"
             ],
             [
              0.5555555555555556,
              "#d8576b"
             ],
             [
              0.6666666666666666,
              "#ed7953"
             ],
             [
              0.7777777777777778,
              "#fb9f3a"
             ],
             [
              0.8888888888888888,
              "#fdca26"
             ],
             [
              1.0,
              "#f0f921"
             ]
            ]
           }
          ],
          "heatmap": [
           {
            "type": "heatmap",
            "colorbar": {
             "outlinewidth": 0,
             "ticks": ""
            },
            "colorscale": [
             [
              0.0,
              "#0d0887"
             ],
             [
              0.1111111111111111,
              "#46039f"
             ],
             [
              0.2222222222222222,
              "#7201a8"
             ],
             [
              0.3333333333333333,
              "#9c179e"
             ],
             [
              0.4444444444444444,
              "#bd3786"
             ],
             [
              0.5555555555555556,
              "#d8576b"
             ],
             [
              0.6666666666666666,
              "#ed7953"
             ],
             [
              0.7777777777777778,
              "#fb9f3a"
             ],
             [
              0.8888888888888888,
              "#fdca26"
             ],
             [
              1.0,
              "#f0f921"
             ]
            ]
           }
          ],
          "contourcarpet": [
           {
            "type": "contourcarpet",
            "colorbar": {
             "outlinewidth": 0,
             "ticks": ""
            }
           }
          ],
          "contour": [
           {
            "type": "contour",
            "colorbar": {
             "outlinewidth": 0,
             "ticks": ""
            },
            "colorscale": [
             [
              0.0,
              "#0d0887"
             ],
             [
              0.1111111111111111,
              "#46039f"
             ],
             [
              0.2222222222222222,
              "#7201a8"
             ],
             [
              0.3333333333333333,
              "#9c179e"
             ],
             [
              0.4444444444444444,
              "#bd3786"
             ],
             [
              0.5555555555555556,
              "#d8576b"
             ],
             [
              0.6666666666666666,
              "#ed7953"
             ],
             [
              0.7777777777777778,
              "#fb9f3a"
             ],
             [
              0.8888888888888888,
              "#fdca26"
             ],
             [
              1.0,
              "#f0f921"
             ]
            ]
           }
          ],
          "surface": [
           {
            "type": "surface",
            "colorbar": {
             "outlinewidth": 0,
             "ticks": ""
            },
            "colorscale": [
             [
              0.0,
              "#0d0887"
             ],
             [
              0.1111111111111111,
              "#46039f"
             ],
             [
              0.2222222222222222,
              "#7201a8"
             ],
             [
              0.3333333333333333,
              "#9c179e"
             ],
             [
              0.4444444444444444,
              "#bd3786"
             ],
             [
              0.5555555555555556,
              "#d8576b"
             ],
             [
              0.6666666666666666,
              "#ed7953"
             ],
             [
              0.7777777777777778,
              "#fb9f3a"
             ],
             [
              0.8888888888888888,
              "#fdca26"
             ],
             [
              1.0,
              "#f0f921"
             ]
            ]
           }
          ],
          "mesh3d": [
           {
            "type": "mesh3d",
            "colorbar": {
             "outlinewidth": 0,
             "ticks": ""
            }
           }
          ],
          "scatter": [
           {
            "fillpattern": {
             "fillmode": "overlay",
             "size": 10,
             "solidity": 0.2
            },
            "type": "scatter"
           }
          ],
          "parcoords": [
           {
            "type": "parcoords",
            "line": {
             "colorbar": {
              "outlinewidth": 0,
              "ticks": ""
             }
            }
           }
          ],
          "scatterpolargl": [
           {
            "type": "scatterpolargl",
            "marker": {
             "colorbar": {
              "outlinewidth": 0,
              "ticks": ""
             }
            }
           }
          ],
          "bar": [
           {
            "error_x": {
             "color": "#2a3f5f"
            },
            "error_y": {
             "color": "#2a3f5f"
            },
            "marker": {
             "line": {
              "color": "#E5ECF6",
              "width": 0.5
             },
             "pattern": {
              "fillmode": "overlay",
              "size": 10,
              "solidity": 0.2
             }
            },
            "type": "bar"
           }
          ],
          "scattergeo": [
           {
            "type": "scattergeo",
            "marker": {
             "colorbar": {
              "outlinewidth": 0,
              "ticks": ""
             }
            }
           }
          ],
          "scatterpolar": [
           {
            "type": "scatterpolar",
            "marker": {
             "colorbar": {
              "outlinewidth": 0,
              "ticks": ""
             }
            }
           }
          ],
          "histogram": [
           {
            "marker": {
             "pattern": {
              "fillmode": "overlay",
              "size": 10,
              "solidity": 0.2
             }
            },
            "type": "histogram"
           }
          ],
          "scattergl": [
           {
            "type": "scattergl",
            "marker": {
             "colorbar": {
              "outlinewidth": 0,
              "ticks": ""
             }
            }
           }
          ],
          "scatter3d": [
           {
            "type": "scatter3d",
            "line": {
             "colorbar": {
              "outlinewidth": 0,
              "ticks": ""
             }
            },
            "marker": {
             "colorbar": {
              "outlinewidth": 0,
              "ticks": ""
             }
            }
           }
          ],
          "scattermap": [
           {
            "type": "scattermap",
            "marker": {
             "colorbar": {
              "outlinewidth": 0,
              "ticks": ""
             }
            }
           }
          ],
          "scattermapbox": [
           {
            "type": "scattermapbox",
            "marker": {
             "colorbar": {
              "outlinewidth": 0,
              "ticks": ""
             }
            }
           }
          ],
          "scatterternary": [
           {
            "type": "scatterternary",
            "marker": {
             "colorbar": {
              "outlinewidth": 0,
              "ticks": ""
             }
            }
           }
          ],
          "scattercarpet": [
           {
            "type": "scattercarpet",
            "marker": {
             "colorbar": {
              "outlinewidth": 0,
              "ticks": ""
             }
            }
           }
          ],
          "carpet": [
           {
            "aaxis": {
             "endlinecolor": "#2a3f5f",
             "gridcolor": "white",
             "linecolor": "white",
             "minorgridcolor": "white",
             "startlinecolor": "#2a3f5f"
            },
            "baxis": {
             "endlinecolor": "#2a3f5f",
             "gridcolor": "white",
             "linecolor": "white",
             "minorgridcolor": "white",
             "startlinecolor": "#2a3f5f"
            },
            "type": "carpet"
           }
          ],
          "table": [
           {
            "cells": {
             "fill": {
              "color": "#EBF0F8"
             },
             "line": {
              "color": "white"
             }
            },
            "header": {
             "fill": {
              "color": "#C8D4E3"
             },
             "line": {
              "color": "white"
             }
            },
            "type": "table"
           }
          ],
          "barpolar": [
           {
            "marker": {
             "line": {
              "color": "#E5ECF6",
              "width": 0.5
             },
             "pattern": {
              "fillmode": "overlay",
              "size": 10,
              "solidity": 0.2
             }
            },
            "type": "barpolar"
           }
          ],
          "pie": [
           {
            "automargin": true,
            "type": "pie"
           }
          ]
         },
         "layout": {
          "autotypenumbers": "strict",
          "colorway": [
           "#636efa",
           "#EF553B",
           "#00cc96",
           "#ab63fa",
           "#FFA15A",
           "#19d3f3",
           "#FF6692",
           "#B6E880",
           "#FF97FF",
           "#FECB52"
          ],
          "font": {
           "color": "#2a3f5f"
          },
          "hovermode": "closest",
          "hoverlabel": {
           "align": "left"
          },
          "paper_bgcolor": "white",
          "plot_bgcolor": "#E5ECF6",
          "polar": {
           "bgcolor": "#E5ECF6",
           "angularaxis": {
            "gridcolor": "white",
            "linecolor": "white",
            "ticks": ""
           },
           "radialaxis": {
            "gridcolor": "white",
            "linecolor": "white",
            "ticks": ""
           }
          },
          "ternary": {
           "bgcolor": "#E5ECF6",
           "aaxis": {
            "gridcolor": "white",
            "linecolor": "white",
            "ticks": ""
           },
           "baxis": {
            "gridcolor": "white",
            "linecolor": "white",
            "ticks": ""
           },
           "caxis": {
            "gridcolor": "white",
            "linecolor": "white",
            "ticks": ""
           }
          },
          "coloraxis": {
           "colorbar": {
            "outlinewidth": 0,
            "ticks": ""
           }
          },
          "colorscale": {
           "sequential": [
            [
             0.0,
             "#0d0887"
            ],
            [
             0.1111111111111111,
             "#46039f"
            ],
            [
             0.2222222222222222,
             "#7201a8"
            ],
            [
             0.3333333333333333,
             "#9c179e"
            ],
            [
             0.4444444444444444,
             "#bd3786"
            ],
            [
             0.5555555555555556,
             "#d8576b"
            ],
            [
             0.6666666666666666,
             "#ed7953"
            ],
            [
             0.7777777777777778,
             "#fb9f3a"
            ],
            [
             0.8888888888888888,
             "#fdca26"
            ],
            [
             1.0,
             "#f0f921"
            ]
           ],
           "sequentialminus": [
            [
             0.0,
             "#0d0887"
            ],
            [
             0.1111111111111111,
             "#46039f"
            ],
            [
             0.2222222222222222,
             "#7201a8"
            ],
            [
             0.3333333333333333,
             "#9c179e"
            ],
            [
             0.4444444444444444,
             "#bd3786"
            ],
            [
             0.5555555555555556,
             "#d8576b"
            ],
            [
             0.6666666666666666,
             "#ed7953"
            ],
            [
             0.7777777777777778,
             "#fb9f3a"
            ],
            [
             0.8888888888888888,
             "#fdca26"
            ],
            [
             1.0,
             "#f0f921"
            ]
           ],
           "diverging": [
            [
             0,
             "#8e0152"
            ],
            [
             0.1,
             "#c51b7d"
            ],
            [
             0.2,
             "#de77ae"
            ],
            [
             0.3,
             "#f1b6da"
            ],
            [
             0.4,
             "#fde0ef"
            ],
            [
             0.5,
             "#f7f7f7"
            ],
            [
             0.6,
             "#e6f5d0"
            ],
            [
             0.7,
             "#b8e186"
            ],
            [
             0.8,
             "#7fbc41"
            ],
            [
             0.9,
             "#4d9221"
            ],
            [
             1,
             "#276419"
            ]
           ]
          },
          "xaxis": {
           "gridcolor": "white",
           "linecolor": "white",
           "ticks": "",
           "title": {
            "standoff": 15
           },
           "zerolinecolor": "white",
           "automargin": true,
           "zerolinewidth": 2
          },
          "yaxis": {
           "gridcolor": "white",
           "linecolor": "white",
           "ticks": "",
           "title": {
            "standoff": 15
           },
           "zerolinecolor": "white",
           "automargin": true,
           "zerolinewidth": 2
          },
          "scene": {
           "xaxis": {
            "backgroundcolor": "#E5ECF6",
            "gridcolor": "white",
            "linecolor": "white",
            "showbackground": true,
            "ticks": "",
            "zerolinecolor": "white",
            "gridwidth": 2
           },
           "yaxis": {
            "backgroundcolor": "#E5ECF6",
            "gridcolor": "white",
            "linecolor": "white",
            "showbackground": true,
            "ticks": "",
            "zerolinecolor": "white",
            "gridwidth": 2
           },
           "zaxis": {
            "backgroundcolor": "#E5ECF6",
            "gridcolor": "white",
            "linecolor": "white",
            "showbackground": true,
            "ticks": "",
            "zerolinecolor": "white",
            "gridwidth": 2
           }
          },
          "shapedefaults": {
           "line": {
            "color": "#2a3f5f"
           }
          },
          "annotationdefaults": {
           "arrowcolor": "#2a3f5f",
           "arrowhead": 0,
           "arrowwidth": 1
          },
          "geo": {
           "bgcolor": "white",
           "landcolor": "#E5ECF6",
           "subunitcolor": "white",
           "showland": true,
           "showlakes": true,
           "lakecolor": "white"
          },
          "title": {
           "x": 0.05
          },
          "mapbox": {
           "style": "light"
          }
         }
        },
        "xaxis": {
         "anchor": "y",
         "domain": [
          0.0,
          1.0
         ],
         "title": {
          "text": "volatile acidity"
         }
        },
        "yaxis": {
         "anchor": "x",
         "domain": [
          0.0,
          1.0
         ],
         "title": {
          "text": "percent"
         }
        },
        "legend": {
         "title": {
          "text": "quality label"
         },
         "tracegroupgap": 0
        },
        "margin": {
         "t": 60
        },
        "barmode": "overlay"
       },
       "config": {
        "plotlyServerURL": "https://plot.ly"
       }
      }
     },
     "metadata": {},
     "output_type": "display_data",
     "jetTransient": {
      "display_id": null
     }
    }
   ],
   "execution_count": 15
  },
  {
   "metadata": {
    "ExecuteTime": {
     "end_time": "2025-09-18T10:41:11.187326Z",
     "start_time": "2025-09-18T10:41:11.155569Z"
    }
   },
   "cell_type": "code",
   "source": "df.plot(kind='hist', x='citric acid', color='quality label', barmode='overlay', histnorm='percent')",
   "id": "5f3493f9784fa4af",
   "outputs": [
    {
     "data": {
      "application/vnd.plotly.v1+json": {
       "data": [
        {
         "bingroup": "x",
         "histnorm": "percent",
         "hovertemplate": "quality label=normal<br>citric acid=%{x}<br>percent=%{y}<extra></extra>",
         "legendgroup": "normal",
         "marker": {
          "color": "#636efa",
          "opacity": 0.5,
          "pattern": {
           "shape": ""
          }
         },
         "name": "normal",
         "orientation": "v",
         "showlegend": true,
         "x": {
          "dtype": "f8",
          "bdata": "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"
         },
         "xaxis": "x",
         "yaxis": "y",
         "type": "histogram"
        },
        {
         "bingroup": "x",
         "histnorm": "percent",
         "hovertemplate": "quality label=excellent<br>citric acid=%{x}<br>percent=%{y}<extra></extra>",
         "legendgroup": "excellent",
         "marker": {
          "color": "#EF553B",
          "opacity": 0.5,
          "pattern": {
           "shape": ""
          }
         },
         "name": "excellent",
         "orientation": "v",
         "showlegend": true,
         "x": {
          "dtype": "f8",
          "bdata": "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"
         },
         "xaxis": "x",
         "yaxis": "y",
         "type": "histogram"
        },
        {
         "bingroup": "x",
         "histnorm": "percent",
         "hovertemplate": "quality label=poor<br>citric acid=%{x}<br>percent=%{y}<extra></extra>",
         "legendgroup": "poor",
         "marker": {
          "color": "#00cc96",
          "opacity": 0.5,
          "pattern": {
           "shape": ""
          }
         },
         "name": "poor",
         "orientation": "v",
         "showlegend": true,
         "x": {
          "dtype": "f8",
          "bdata": "pHA9Ctej0D9xPQrXo3DdPwAAAAAAAAAA7FG4HoXrwT+uR+F6FK7XPxSuR+F6FN4/7FG4HoXrsT/sUbgehevRP2ZmZmZmZtY/KVyPwvUo7D97FK5H4Xq0P+xRuB6F69E/4XoUrkfhyj8pXI/C9SjcP1K4HoXrUdg/w/UoXI/C1T+uR+F6FK7XP1K4HoXrUdg/CtejcD0Ktz97FK5H4XrUP9ejcD0K1+M/16NwPQrX4z9xPQrXo3DdP9ejcD0K19M/uB6F61G4vj8AAAAAAADQPwrXo3A9Cuc/exSuR+F6xD+amZmZmZm5PzMzMzMzM9M/w/UoXI/C1T8K16NwPQrHP5qZmZmZmdk/AAAAAAAAAACamZmZmZnZPxSuR+F6FN4/4XoUrkfh2j/NzMzMzMzcP65H4XoUrtc/pHA9Ctej0D8AAAAAAADQPylcj8L1KNw/CtejcD0Kxz/D9Shcj8LFPylcj8L1KNw/cT0K16Nw3T8zMzMzMzPTP3sUrkfhetQ/mpmZmZmZ4T+amZmZmZnJP5qZmZmZmdk/w/UoXI/CxT8AAAAAAAAAADMzMzMzM9M/CtejcD0K1z/hehSuR+HaPwrXo3A9Cuc/KVyPwvUozD8pXI/C9SjMP/YoXI/C9dg/exSuR+F6xD+4HoXrUbjOP2ZmZmZmZtY/XI/C9Shc3z+uR+F6FK7nP7gehetRuM4/uB6F61G4zj+4HoXrUbjOP7gehetRuM4/uB6F61G4zj9cj8L1KFzfP1yPwvUoXN8/XI/C9Shc3z9cj8L1KFzfP1yPwvUoXN8/XI/C9Shc3z9cj8L1KFzfP3E9CtejcN0/pHA9Ctej0D8zMzMzMzPTP1K4HoXrUcg/pHA9Ctej0D8fhetRuB7VP4/C9Shcj9I/rkfhehSu1z8AAAAAAAAAAOF6FK5H4do/CtejcD0K1z8pXI/C9SjMP3E9CtejcN0/SOF6FK5H0T9SuB6F61HYP3sUrkfhetQ/SOF6FK5H0T8K16NwPQrXP83MzMzMzNw/exSuR+F61D+uR+F6FK7XP6RwPQrXo9A/mpmZmZmZyT+amZmZmZnJP6RwPQrXo9A/4XoUrkfh4j9mZmZmZmbWPylcj8L1KOQ/CtejcD0Kxz+uR+F6FK7XP1K4HoXrUcg/UrgehetRyD+PwvUoXI/SPzMzMzMzM9M/ZmZmZmZm1j/hehSuR+HaP1yPwvUoXN8/7FG4HoXr0T/D9Shcj8LFP+xRuB6F69E/CtejcD0Kxz9mZmZmZmbWP3E9CtejcM0/cT0K16NwzT8K16NwPQrXPwrXo3A9Ctc/SOF6FK5H0T9I4XoUrkfRP5qZmZmZmbk/uB6F61G4zj8UrkfhehTeP8P1KFyPwtU/mpmZmZmZ2T/sUbgehevRP4/C9Shcj9I/uB6F61G4zj/hehSuR+HaP8P1KFyPwtU/CtejcD0K1z+amZmZmZnZP+F6FK5H4eI/AAAAAAAA0D9xPQrXo3DNP3sUrkfhepQ/j8L1KFyP0j9mZmZmZmbWPzMzMzMzM9M/pHA9CtejwD+4HoXrUbjOPwAAAAAAAAAAKVyPwvUozD8zMzMzMzPjP7gehetRuL4/MzMzMzMz0z+4HoXrUbjeP9ejcD0K19M/w/UoXI/C1T9I4XoUrkfhP5qZmZmZmck/uB6F61G4vj/hehSuR+HKP3E9CtejcM0/UrgehetR4D9SuB6F61HgP7gehetRuL4/exSuR+F6xD9SuB6F61HIP65H4XoUrtc/9ihcj8L14D/sUbgehevBP+xRuB6F68E/KVyPwvUovD+amZmZmZm5P4/C9Shcj9I/KVyPwvUozD8K16NwPQrHPzMzMzMzM9M/exSuR+F6pD97FK5H4XqkP3sUrkfheqQ/AAAAAAAA0D/D9Shcj8LVPwAAAAAAAAAAcT0K16Nw3T8zMzMzMzPDP3sUrkfhepQ/"
         },
         "xaxis": "x",
         "yaxis": "y",
         "type": "histogram"
        }
       ],
       "layout": {
        "template": {
         "data": {
          "histogram2dcontour": [
           {
            "type": "histogram2dcontour",
            "colorbar": {
             "outlinewidth": 0,
             "ticks": ""
            },
            "colorscale": [
             [
              0.0,
              "#0d0887"
             ],
             [
              0.1111111111111111,
              "#46039f"
             ],
             [
              0.2222222222222222,
              "#7201a8"
             ],
             [
              0.3333333333333333,
              "#9c179e"
             ],
             [
              0.4444444444444444,
              "#bd3786"
             ],
             [
              0.5555555555555556,
              "#d8576b"
             ],
             [
              0.6666666666666666,
              "#ed7953"
             ],
             [
              0.7777777777777778,
              "#fb9f3a"
             ],
             [
              0.8888888888888888,
              "#fdca26"
             ],
             [
              1.0,
              "#f0f921"
             ]
            ]
           }
          ],
          "choropleth": [
           {
            "type": "choropleth",
            "colorbar": {
             "outlinewidth": 0,
             "ticks": ""
            }
           }
          ],
          "histogram2d": [
           {
            "type": "histogram2d",
            "colorbar": {
             "outlinewidth": 0,
             "ticks": ""
            },
            "colorscale": [
             [
              0.0,
              "#0d0887"
             ],
             [
              0.1111111111111111,
              "#46039f"
             ],
             [
              0.2222222222222222,
              "#7201a8"
             ],
             [
              0.3333333333333333,
              "#9c179e"
             ],
             [
              0.4444444444444444,
              "#bd3786"
             ],
             [
              0.5555555555555556,
              "#d8576b"
             ],
             [
              0.6666666666666666,
              "#ed7953"
             ],
             [
              0.7777777777777778,
              "#fb9f3a"
             ],
             [
              0.8888888888888888,
              "#fdca26"
             ],
             [
              1.0,
              "#f0f921"
             ]
            ]
           }
          ],
          "heatmap": [
           {
            "type": "heatmap",
            "colorbar": {
             "outlinewidth": 0,
             "ticks": ""
            },
            "colorscale": [
             [
              0.0,
              "#0d0887"
             ],
             [
              0.1111111111111111,
              "#46039f"
             ],
             [
              0.2222222222222222,
              "#7201a8"
             ],
             [
              0.3333333333333333,
              "#9c179e"
             ],
             [
              0.4444444444444444,
              "#bd3786"
             ],
             [
              0.5555555555555556,
              "#d8576b"
             ],
             [
              0.6666666666666666,
              "#ed7953"
             ],
             [
              0.7777777777777778,
              "#fb9f3a"
             ],
             [
              0.8888888888888888,
              "#fdca26"
             ],
             [
              1.0,
              "#f0f921"
             ]
            ]
           }
          ],
          "contourcarpet": [
           {
            "type": "contourcarpet",
            "colorbar": {
             "outlinewidth": 0,
             "ticks": ""
            }
           }
          ],
          "contour": [
           {
            "type": "contour",
            "colorbar": {
             "outlinewidth": 0,
             "ticks": ""
            },
            "colorscale": [
             [
              0.0,
              "#0d0887"
             ],
             [
              0.1111111111111111,
              "#46039f"
             ],
             [
              0.2222222222222222,
              "#7201a8"
             ],
             [
              0.3333333333333333,
              "#9c179e"
             ],
             [
              0.4444444444444444,
              "#bd3786"
             ],
             [
              0.5555555555555556,
              "#d8576b"
             ],
             [
              0.6666666666666666,
              "#ed7953"
             ],
             [
              0.7777777777777778,
              "#fb9f3a"
             ],
             [
              0.8888888888888888,
              "#fdca26"
             ],
             [
              1.0,
              "#f0f921"
             ]
            ]
           }
          ],
          "surface": [
           {
            "type": "surface",
            "colorbar": {
             "outlinewidth": 0,
             "ticks": ""
            },
            "colorscale": [
             [
              0.0,
              "#0d0887"
             ],
             [
              0.1111111111111111,
              "#46039f"
             ],
             [
              0.2222222222222222,
              "#7201a8"
             ],
             [
              0.3333333333333333,
              "#9c179e"
             ],
             [
              0.4444444444444444,
              "#bd3786"
             ],
             [
              0.5555555555555556,
              "#d8576b"
             ],
             [
              0.6666666666666666,
              "#ed7953"
             ],
             [
              0.7777777777777778,
              "#fb9f3a"
             ],
             [
              0.8888888888888888,
              "#fdca26"
             ],
             [
              1.0,
              "#f0f921"
             ]
            ]
           }
          ],
          "mesh3d": [
           {
            "type": "mesh3d",
            "colorbar": {
             "outlinewidth": 0,
             "ticks": ""
            }
           }
          ],
          "scatter": [
           {
            "fillpattern": {
             "fillmode": "overlay",
             "size": 10,
             "solidity": 0.2
            },
            "type": "scatter"
           }
          ],
          "parcoords": [
           {
            "type": "parcoords",
            "line": {
             "colorbar": {
              "outlinewidth": 0,
              "ticks": ""
             }
            }
           }
          ],
          "scatterpolargl": [
           {
            "type": "scatterpolargl",
            "marker": {
             "colorbar": {
              "outlinewidth": 0,
              "ticks": ""
             }
            }
           }
          ],
          "bar": [
           {
            "error_x": {
             "color": "#2a3f5f"
            },
            "error_y": {
             "color": "#2a3f5f"
            },
            "marker": {
             "line": {
              "color": "#E5ECF6",
              "width": 0.5
             },
             "pattern": {
              "fillmode": "overlay",
              "size": 10,
              "solidity": 0.2
             }
            },
            "type": "bar"
           }
          ],
          "scattergeo": [
           {
            "type": "scattergeo",
            "marker": {
             "colorbar": {
              "outlinewidth": 0,
              "ticks": ""
             }
            }
           }
          ],
          "scatterpolar": [
           {
            "type": "scatterpolar",
            "marker": {
             "colorbar": {
              "outlinewidth": 0,
              "ticks": ""
             }
            }
           }
          ],
          "histogram": [
           {
            "marker": {
             "pattern": {
              "fillmode": "overlay",
              "size": 10,
              "solidity": 0.2
             }
            },
            "type": "histogram"
           }
          ],
          "scattergl": [
           {
            "type": "scattergl",
            "marker": {
             "colorbar": {
              "outlinewidth": 0,
              "ticks": ""
             }
            }
           }
          ],
          "scatter3d": [
           {
            "type": "scatter3d",
            "line": {
             "colorbar": {
              "outlinewidth": 0,
              "ticks": ""
             }
            },
            "marker": {
             "colorbar": {
              "outlinewidth": 0,
              "ticks": ""
             }
            }
           }
          ],
          "scattermap": [
           {
            "type": "scattermap",
            "marker": {
             "colorbar": {
              "outlinewidth": 0,
              "ticks": ""
             }
            }
           }
          ],
          "scattermapbox": [
           {
            "type": "scattermapbox",
            "marker": {
             "colorbar": {
              "outlinewidth": 0,
              "ticks": ""
             }
            }
           }
          ],
          "scatterternary": [
           {
            "type": "scatterternary",
            "marker": {
             "colorbar": {
              "outlinewidth": 0,
              "ticks": ""
             }
            }
           }
          ],
          "scattercarpet": [
           {
            "type": "scattercarpet",
            "marker": {
             "colorbar": {
              "outlinewidth": 0,
              "ticks": ""
             }
            }
           }
          ],
          "carpet": [
           {
            "aaxis": {
             "endlinecolor": "#2a3f5f",
             "gridcolor": "white",
             "linecolor": "white",
             "minorgridcolor": "white",
             "startlinecolor": "#2a3f5f"
            },
            "baxis": {
             "endlinecolor": "#2a3f5f",
             "gridcolor": "white",
             "linecolor": "white",
             "minorgridcolor": "white",
             "startlinecolor": "#2a3f5f"
            },
            "type": "carpet"
           }
          ],
          "table": [
           {
            "cells": {
             "fill": {
              "color": "#EBF0F8"
             },
             "line": {
              "color": "white"
             }
            },
            "header": {
             "fill": {
              "color": "#C8D4E3"
             },
             "line": {
              "color": "white"
             }
            },
            "type": "table"
           }
          ],
          "barpolar": [
           {
            "marker": {
             "line": {
              "color": "#E5ECF6",
              "width": 0.5
             },
             "pattern": {
              "fillmode": "overlay",
              "size": 10,
              "solidity": 0.2
             }
            },
            "type": "barpolar"
           }
          ],
          "pie": [
           {
            "automargin": true,
            "type": "pie"
           }
          ]
         },
         "layout": {
          "autotypenumbers": "strict",
          "colorway": [
           "#636efa",
           "#EF553B",
           "#00cc96",
           "#ab63fa",
           "#FFA15A",
           "#19d3f3",
           "#FF6692",
           "#B6E880",
           "#FF97FF",
           "#FECB52"
          ],
          "font": {
           "color": "#2a3f5f"
          },
          "hovermode": "closest",
          "hoverlabel": {
           "align": "left"
          },
          "paper_bgcolor": "white",
          "plot_bgcolor": "#E5ECF6",
          "polar": {
           "bgcolor": "#E5ECF6",
           "angularaxis": {
            "gridcolor": "white",
            "linecolor": "white",
            "ticks": ""
           },
           "radialaxis": {
            "gridcolor": "white",
            "linecolor": "white",
            "ticks": ""
           }
          },
          "ternary": {
           "bgcolor": "#E5ECF6",
           "aaxis": {
            "gridcolor": "white",
            "linecolor": "white",
            "ticks": ""
           },
           "baxis": {
            "gridcolor": "white",
            "linecolor": "white",
            "ticks": ""
           },
           "caxis": {
            "gridcolor": "white",
            "linecolor": "white",
            "ticks": ""
           }
          },
          "coloraxis": {
           "colorbar": {
            "outlinewidth": 0,
            "ticks": ""
           }
          },
          "colorscale": {
           "sequential": [
            [
             0.0,
             "#0d0887"
            ],
            [
             0.1111111111111111,
             "#46039f"
            ],
            [
             0.2222222222222222,
             "#7201a8"
            ],
            [
             0.3333333333333333,
             "#9c179e"
            ],
            [
             0.4444444444444444,
             "#bd3786"
            ],
            [
             0.5555555555555556,
             "#d8576b"
            ],
            [
             0.6666666666666666,
             "#ed7953"
            ],
            [
             0.7777777777777778,
             "#fb9f3a"
            ],
            [
             0.8888888888888888,
             "#fdca26"
            ],
            [
             1.0,
             "#f0f921"
            ]
           ],
           "sequentialminus": [
            [
             0.0,
             "#0d0887"
            ],
            [
             0.1111111111111111,
             "#46039f"
            ],
            [
             0.2222222222222222,
             "#7201a8"
            ],
            [
             0.3333333333333333,
             "#9c179e"
            ],
            [
             0.4444444444444444,
             "#bd3786"
            ],
            [
             0.5555555555555556,
             "#d8576b"
            ],
            [
             0.6666666666666666,
             "#ed7953"
            ],
            [
             0.7777777777777778,
             "#fb9f3a"
            ],
            [
             0.8888888888888888,
             "#fdca26"
            ],
            [
             1.0,
             "#f0f921"
            ]
           ],
           "diverging": [
            [
             0,
             "#8e0152"
            ],
            [
             0.1,
             "#c51b7d"
            ],
            [
             0.2,
             "#de77ae"
            ],
            [
             0.3,
             "#f1b6da"
            ],
            [
             0.4,
             "#fde0ef"
            ],
            [
             0.5,
             "#f7f7f7"
            ],
            [
             0.6,
             "#e6f5d0"
            ],
            [
             0.7,
             "#b8e186"
            ],
            [
             0.8,
             "#7fbc41"
            ],
            [
             0.9,
             "#4d9221"
            ],
            [
             1,
             "#276419"
            ]
           ]
          },
          "xaxis": {
           "gridcolor": "white",
           "linecolor": "white",
           "ticks": "",
           "title": {
            "standoff": 15
           },
           "zerolinecolor": "white",
           "automargin": true,
           "zerolinewidth": 2
          },
          "yaxis": {
           "gridcolor": "white",
           "linecolor": "white",
           "ticks": "",
           "title": {
            "standoff": 15
           },
           "zerolinecolor": "white",
           "automargin": true,
           "zerolinewidth": 2
          },
          "scene": {
           "xaxis": {
            "backgroundcolor": "#E5ECF6",
            "gridcolor": "white",
            "linecolor": "white",
            "showbackground": true,
            "ticks": "",
            "zerolinecolor": "white",
            "gridwidth": 2
           },
           "yaxis": {
            "backgroundcolor": "#E5ECF6",
            "gridcolor": "white",
            "linecolor": "white",
            "showbackground": true,
            "ticks": "",
            "zerolinecolor": "white",
            "gridwidth": 2
           },
           "zaxis": {
            "backgroundcolor": "#E5ECF6",
            "gridcolor": "white",
            "linecolor": "white",
            "showbackground": true,
            "ticks": "",
            "zerolinecolor": "white",
            "gridwidth": 2
           }
          },
          "shapedefaults": {
           "line": {
            "color": "#2a3f5f"
           }
          },
          "annotationdefaults": {
           "arrowcolor": "#2a3f5f",
           "arrowhead": 0,
           "arrowwidth": 1
          },
          "geo": {
           "bgcolor": "white",
           "landcolor": "#E5ECF6",
           "subunitcolor": "white",
           "showland": true,
           "showlakes": true,
           "lakecolor": "white"
          },
          "title": {
           "x": 0.05
          },
          "mapbox": {
           "style": "light"
          }
         }
        },
        "xaxis": {
         "anchor": "y",
         "domain": [
          0.0,
          1.0
         ],
         "title": {
          "text": "citric acid"
         }
        },
        "yaxis": {
         "anchor": "x",
         "domain": [
          0.0,
          1.0
         ],
         "title": {
          "text": "percent"
         }
        },
        "legend": {
         "title": {
          "text": "quality label"
         },
         "tracegroupgap": 0
        },
        "margin": {
         "t": 60
        },
        "barmode": "overlay"
       },
       "config": {
        "plotlyServerURL": "https://plot.ly"
       }
      }
     },
     "metadata": {},
     "output_type": "display_data",
     "jetTransient": {
      "display_id": null
     }
    }
   ],
   "execution_count": 26
  },
  {
   "metadata": {
    "ExecuteTime": {
     "end_time": "2025-09-18T10:41:34.551047Z",
     "start_time": "2025-09-18T10:41:34.519289Z"
    }
   },
   "cell_type": "code",
   "source": "df.plot(kind='scatter', x='volatile acidity', y='citric acid', color='quality label')",
   "id": "db4ee52e723c0b26",
   "outputs": [
    {
     "data": {
      "application/vnd.plotly.v1+json": {
       "data": [
        {
         "hovertemplate": "quality label=normal<br>volatile acidity=%{x}<br>citric acid=%{y}<extra></extra>",
         "legendgroup": "normal",
         "marker": {
          "color": "#636efa",
          "symbol": "circle"
         },
         "mode": "markers",
         "name": "normal",
         "showlegend": true,
         "x": {
          "dtype": "f8",
          "bdata": "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"
         },
         "xaxis": "x",
         "y": {
          "dtype": "f8",
          "bdata": "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"
         },
         "yaxis": "y",
         "type": "scattergl"
        },
        {
         "hovertemplate": "quality label=excellent<br>volatile acidity=%{x}<br>citric acid=%{y}<extra></extra>",
         "legendgroup": "excellent",
         "marker": {
          "color": "#EF553B",
          "symbol": "circle"
         },
         "mode": "markers",
         "name": "excellent",
         "showlegend": true,
         "x": {
          "dtype": "f8",
          "bdata": "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"
         },
         "xaxis": "x",
         "y": {
          "dtype": "f8",
          "bdata": "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"
         },
         "yaxis": "y",
         "type": "scattergl"
        },
        {
         "hovertemplate": "quality label=poor<br>volatile acidity=%{x}<br>citric acid=%{y}<extra></extra>",
         "legendgroup": "poor",
         "marker": {
          "color": "#00cc96",
          "symbol": "circle"
         },
         "mode": "markers",
         "name": "poor",
         "showlegend": true,
         "x": {
          "dtype": "f8",
          "bdata": "zczMzMzM3D8K16NwPQrXPwrXo3A9Ct8/CtejcD0K4z+4HoXrUbjeP3sUrkfhetQ/cT0K16Nw5T/sUbgehevRP+xRuB6F69E/KVyPwvUo3D97FK5H4XrkP+F6FK5H4co/pHA9Ctej0D+4HoXrUbjOPwrXo3A9Ctc/exSuR+F61D8pXI/C9SjcP+F6FK5H4eI/mpmZmZmZ4T97FK5H4XrUP5qZmZmZmdk/mpmZmZmZ2T/Xo3A9CtfTP9ejcD0K19M/7FG4HoXr4T/sUbgehevRPx+F61G4HtU/j8L1KFyP0j89CtejcD3iP3E9CtejcOU/mpmZmZmZyT9SuB6F61HYP/YoXI/C9dg/SOF6FK5H2T/D9Shcj8LFP8P1KFyPwsU/UrgehetRyD9I4XoUrkfRP3E9CtejcM0/exSuR+F61D+PwvUoXI/mP6RwPQrXo9A/uB6F61G4zj+amZmZmZnhPzMzMzMzM+M/exSuR+F65D/D9Shcj8LlP1yPwvUoXN8/j8L1KFyP0j8zMzMzMzPTPylcj8L1KMw/pHA9Ctej4D8zMzMzMzPjP3sUrkfhesQ/H4XrUbge1T8fhetRuB7VPx+F61G4HuU/9ihcj8L12D89CtejcD3aP2ZmZmZmZtY/exSuR+F61D/2KFyPwvXYP5qZmZmZmeE/7FG4HoXr0T8AAAAAAADQP/YoXI/C9dg/AAAAAAAA0D8AAAAAAADQP3sUrkfhetQ/9ihcj8L14D+F61G4HoXbP2ZmZmZmZtY/w/UoXI/CxT97FK5H4XrkP9ejcD0K19M/pHA9Ctej0D+PwvUoXI/SP+xRuB6F69E/AAAAAAAA0D+F61G4HoXbP0jhehSuR9E/hetRuB6F4z+amZmZmZnJP4/C9Shcj9I/exSuR+F61D8AAAAAAADgPx+F61G4Hu0/pHA9Ctej0D9cj8L1KFzfPxSuR+F6FPA/hetRuB6F2z9xPQrXo3DNP83MzMzMzNw/mpmZmZmZyT97FK5H4XrEP8P1KFyPwu0/7FG4HoXr0T+4HoXrUbjOP3E9CtejcM0/w/UoXI/C1T/D9Shcj8LVP4/C9Shcj9I/pHA9Ctej0D/sUbgehevRP+xRuB6F69E/H4XrUbge1T+4HoXrUbjeP0jhehSuR9E/SOF6FK5H0T8zMzMzMzPTPzMzMzMzM9M/4XoUrkfhyj9SuB6F61HIP3sUrkfhesQ/4XoUrkfhyj9SuB6F61HYP+F6FK5H4co/UrgehetR2D9mZmZmZmbWP9ejcD0K19M/16NwPQrX0z/D9Shcj8LVP8P1KFyPwtU/SOF6FK5H4T9I4XoUrkfhP65H4XoUruM/cT0K16NwzT8pXI/C9Si8Pylcj8L1KMw/7FG4HoXr0T9I4XoUrkfRP0jhehSuR9E/UrgehetR0D/sUbgehevRP5qZmZmZmck/MzMzMzMz0z+amZmZmZnJPzMzMzMzM9M/j8L1KFyP0j+F61G4HoXLP7gehetRuN4/uB6F61G4zj9xPQrXo3DNP3sUrkfheuQ/AAAAAAAA6D/D9Shcj8LVP/YoXI/C9eQ/KVyPwvUozD9SuB6F61HIPzMzMzMzM+M/CtejcD0Kxz97FK5H4XrUP0jhehSuR9E/pHA9Ctej0D8K16NwPQrXP1yPwvUoXOc/zczMzMzM5D/Xo3A9CtfTP1K4HoXrUdg/SOF6FK5H0T9I4XoUrkfRP65H4XoUrtc/mpmZmZmZ8T9mZmZmZmbWP9ejcD0K19M/UrgehetR2D9SuB6F61HYP1K4HoXrUdg/hetRuB6F2z8UrkfhehTePwrXo3A9Csc/7FG4HoXr0T/sUbgehevRP6RwPQrXo9A/rkfhehSu4z8pXI/C9SjkPylcj8L1KOQ/pHA9Ctej0D+4HoXrUbjOP+F6FK5H4eI/ZmZmZmZm1j/sUbgehevZP/YoXI/C9eA/"
         },
         "xaxis": "x",
         "y": {
          "dtype": "f8",
          "bdata": "pHA9Ctej0D9xPQrXo3DdPwAAAAAAAAAA7FG4HoXrwT+uR+F6FK7XPxSuR+F6FN4/7FG4HoXrsT/sUbgehevRP2ZmZmZmZtY/KVyPwvUo7D97FK5H4Xq0P+xRuB6F69E/4XoUrkfhyj8pXI/C9SjcP1K4HoXrUdg/w/UoXI/C1T+uR+F6FK7XP1K4HoXrUdg/CtejcD0Ktz97FK5H4XrUP9ejcD0K1+M/16NwPQrX4z9xPQrXo3DdP9ejcD0K19M/uB6F61G4vj8AAAAAAADQPwrXo3A9Cuc/exSuR+F6xD+amZmZmZm5PzMzMzMzM9M/w/UoXI/C1T8K16NwPQrHP5qZmZmZmdk/AAAAAAAAAACamZmZmZnZPxSuR+F6FN4/4XoUrkfh2j/NzMzMzMzcP65H4XoUrtc/pHA9Ctej0D8AAAAAAADQPylcj8L1KNw/CtejcD0Kxz/D9Shcj8LFPylcj8L1KNw/cT0K16Nw3T8zMzMzMzPTP3sUrkfhetQ/mpmZmZmZ4T+amZmZmZnJP5qZmZmZmdk/w/UoXI/CxT8AAAAAAAAAADMzMzMzM9M/CtejcD0K1z/hehSuR+HaPwrXo3A9Cuc/KVyPwvUozD8pXI/C9SjMP/YoXI/C9dg/exSuR+F6xD+4HoXrUbjOP2ZmZmZmZtY/XI/C9Shc3z+uR+F6FK7nP7gehetRuM4/uB6F61G4zj+4HoXrUbjOP7gehetRuM4/uB6F61G4zj9cj8L1KFzfP1yPwvUoXN8/XI/C9Shc3z9cj8L1KFzfP1yPwvUoXN8/XI/C9Shc3z9cj8L1KFzfP3E9CtejcN0/pHA9Ctej0D8zMzMzMzPTP1K4HoXrUcg/pHA9Ctej0D8fhetRuB7VP4/C9Shcj9I/rkfhehSu1z8AAAAAAAAAAOF6FK5H4do/CtejcD0K1z8pXI/C9SjMP3E9CtejcN0/SOF6FK5H0T9SuB6F61HYP3sUrkfhetQ/SOF6FK5H0T8K16NwPQrXP83MzMzMzNw/exSuR+F61D+uR+F6FK7XP6RwPQrXo9A/mpmZmZmZyT+amZmZmZnJP6RwPQrXo9A/4XoUrkfh4j9mZmZmZmbWPylcj8L1KOQ/CtejcD0Kxz+uR+F6FK7XP1K4HoXrUcg/UrgehetRyD+PwvUoXI/SPzMzMzMzM9M/ZmZmZmZm1j/hehSuR+HaP1yPwvUoXN8/7FG4HoXr0T/D9Shcj8LFP+xRuB6F69E/CtejcD0Kxz9mZmZmZmbWP3E9CtejcM0/cT0K16NwzT8K16NwPQrXPwrXo3A9Ctc/SOF6FK5H0T9I4XoUrkfRP5qZmZmZmbk/uB6F61G4zj8UrkfhehTeP8P1KFyPwtU/mpmZmZmZ2T/sUbgehevRP4/C9Shcj9I/uB6F61G4zj/hehSuR+HaP8P1KFyPwtU/CtejcD0K1z+amZmZmZnZP+F6FK5H4eI/AAAAAAAA0D9xPQrXo3DNP3sUrkfhepQ/j8L1KFyP0j9mZmZmZmbWPzMzMzMzM9M/pHA9CtejwD+4HoXrUbjOPwAAAAAAAAAAKVyPwvUozD8zMzMzMzPjP7gehetRuL4/MzMzMzMz0z+4HoXrUbjeP9ejcD0K19M/w/UoXI/C1T9I4XoUrkfhP5qZmZmZmck/uB6F61G4vj/hehSuR+HKP3E9CtejcM0/UrgehetR4D9SuB6F61HgP7gehetRuL4/exSuR+F6xD9SuB6F61HIP65H4XoUrtc/9ihcj8L14D/sUbgehevBP+xRuB6F68E/KVyPwvUovD+amZmZmZm5P4/C9Shcj9I/KVyPwvUozD8K16NwPQrHPzMzMzMzM9M/exSuR+F6pD97FK5H4XqkP3sUrkfheqQ/AAAAAAAA0D/D9Shcj8LVPwAAAAAAAAAAcT0K16Nw3T8zMzMzMzPDP3sUrkfhepQ/"
         },
         "yaxis": "y",
         "type": "scattergl"
        }
       ],
       "layout": {
        "template": {
         "data": {
          "histogram2dcontour": [
           {
            "type": "histogram2dcontour",
            "colorbar": {
             "outlinewidth": 0,
             "ticks": ""
            },
            "colorscale": [
             [
              0.0,
              "#0d0887"
             ],
             [
              0.1111111111111111,
              "#46039f"
             ],
             [
              0.2222222222222222,
              "#7201a8"
             ],
             [
              0.3333333333333333,
              "#9c179e"
             ],
             [
              0.4444444444444444,
              "#bd3786"
             ],
             [
              0.5555555555555556,
              "#d8576b"
             ],
             [
              0.6666666666666666,
              "#ed7953"
             ],
             [
              0.7777777777777778,
              "#fb9f3a"
             ],
             [
              0.8888888888888888,
              "#fdca26"
             ],
             [
              1.0,
              "#f0f921"
             ]
            ]
           }
          ],
          "choropleth": [
           {
            "type": "choropleth",
            "colorbar": {
             "outlinewidth": 0,
             "ticks": ""
            }
           }
          ],
          "histogram2d": [
           {
            "type": "histogram2d",
            "colorbar": {
             "outlinewidth": 0,
             "ticks": ""
            },
            "colorscale": [
             [
              0.0,
              "#0d0887"
             ],
             [
              0.1111111111111111,
              "#46039f"
             ],
             [
              0.2222222222222222,
              "#7201a8"
             ],
             [
              0.3333333333333333,
              "#9c179e"
             ],
             [
              0.4444444444444444,
              "#bd3786"
             ],
             [
              0.5555555555555556,
              "#d8576b"
             ],
             [
              0.6666666666666666,
              "#ed7953"
             ],
             [
              0.7777777777777778,
              "#fb9f3a"
             ],
             [
              0.8888888888888888,
              "#fdca26"
             ],
             [
              1.0,
              "#f0f921"
             ]
            ]
           }
          ],
          "heatmap": [
           {
            "type": "heatmap",
            "colorbar": {
             "outlinewidth": 0,
             "ticks": ""
            },
            "colorscale": [
             [
              0.0,
              "#0d0887"
             ],
             [
              0.1111111111111111,
              "#46039f"
             ],
             [
              0.2222222222222222,
              "#7201a8"
             ],
             [
              0.3333333333333333,
              "#9c179e"
             ],
             [
              0.4444444444444444,
              "#bd3786"
             ],
             [
              0.5555555555555556,
              "#d8576b"
             ],
             [
              0.6666666666666666,
              "#ed7953"
             ],
             [
              0.7777777777777778,
              "#fb9f3a"
             ],
             [
              0.8888888888888888,
              "#fdca26"
             ],
             [
              1.0,
              "#f0f921"
             ]
            ]
           }
          ],
          "contourcarpet": [
           {
            "type": "contourcarpet",
            "colorbar": {
             "outlinewidth": 0,
             "ticks": ""
            }
           }
          ],
          "contour": [
           {
            "type": "contour",
            "colorbar": {
             "outlinewidth": 0,
             "ticks": ""
            },
            "colorscale": [
             [
              0.0,
              "#0d0887"
             ],
             [
              0.1111111111111111,
              "#46039f"
             ],
             [
              0.2222222222222222,
              "#7201a8"
             ],
             [
              0.3333333333333333,
              "#9c179e"
             ],
             [
              0.4444444444444444,
              "#bd3786"
             ],
             [
              0.5555555555555556,
              "#d8576b"
             ],
             [
              0.6666666666666666,
              "#ed7953"
             ],
             [
              0.7777777777777778,
              "#fb9f3a"
             ],
             [
              0.8888888888888888,
              "#fdca26"
             ],
             [
              1.0,
              "#f0f921"
             ]
            ]
           }
          ],
          "surface": [
           {
            "type": "surface",
            "colorbar": {
             "outlinewidth": 0,
             "ticks": ""
            },
            "colorscale": [
             [
              0.0,
              "#0d0887"
             ],
             [
              0.1111111111111111,
              "#46039f"
             ],
             [
              0.2222222222222222,
              "#7201a8"
             ],
             [
              0.3333333333333333,
              "#9c179e"
             ],
             [
              0.4444444444444444,
              "#bd3786"
             ],
             [
              0.5555555555555556,
              "#d8576b"
             ],
             [
              0.6666666666666666,
              "#ed7953"
             ],
             [
              0.7777777777777778,
              "#fb9f3a"
             ],
             [
              0.8888888888888888,
              "#fdca26"
             ],
             [
              1.0,
              "#f0f921"
             ]
            ]
           }
          ],
          "mesh3d": [
           {
            "type": "mesh3d",
            "colorbar": {
             "outlinewidth": 0,
             "ticks": ""
            }
           }
          ],
          "scatter": [
           {
            "fillpattern": {
             "fillmode": "overlay",
             "size": 10,
             "solidity": 0.2
            },
            "type": "scatter"
           }
          ],
          "parcoords": [
           {
            "type": "parcoords",
            "line": {
             "colorbar": {
              "outlinewidth": 0,
              "ticks": ""
             }
            }
           }
          ],
          "scatterpolargl": [
           {
            "type": "scatterpolargl",
            "marker": {
             "colorbar": {
              "outlinewidth": 0,
              "ticks": ""
             }
            }
           }
          ],
          "bar": [
           {
            "error_x": {
             "color": "#2a3f5f"
            },
            "error_y": {
             "color": "#2a3f5f"
            },
            "marker": {
             "line": {
              "color": "#E5ECF6",
              "width": 0.5
             },
             "pattern": {
              "fillmode": "overlay",
              "size": 10,
              "solidity": 0.2
             }
            },
            "type": "bar"
           }
          ],
          "scattergeo": [
           {
            "type": "scattergeo",
            "marker": {
             "colorbar": {
              "outlinewidth": 0,
              "ticks": ""
             }
            }
           }
          ],
          "scatterpolar": [
           {
            "type": "scatterpolar",
            "marker": {
             "colorbar": {
              "outlinewidth": 0,
              "ticks": ""
             }
            }
           }
          ],
          "histogram": [
           {
            "marker": {
             "pattern": {
              "fillmode": "overlay",
              "size": 10,
              "solidity": 0.2
             }
            },
            "type": "histogram"
           }
          ],
          "scattergl": [
           {
            "type": "scattergl",
            "marker": {
             "colorbar": {
              "outlinewidth": 0,
              "ticks": ""
             }
            }
           }
          ],
          "scatter3d": [
           {
            "type": "scatter3d",
            "line": {
             "colorbar": {
              "outlinewidth": 0,
              "ticks": ""
             }
            },
            "marker": {
             "colorbar": {
              "outlinewidth": 0,
              "ticks": ""
             }
            }
           }
          ],
          "scattermap": [
           {
            "type": "scattermap",
            "marker": {
             "colorbar": {
              "outlinewidth": 0,
              "ticks": ""
             }
            }
           }
          ],
          "scattermapbox": [
           {
            "type": "scattermapbox",
            "marker": {
             "colorbar": {
              "outlinewidth": 0,
              "ticks": ""
             }
            }
           }
          ],
          "scatterternary": [
           {
            "type": "scatterternary",
            "marker": {
             "colorbar": {
              "outlinewidth": 0,
              "ticks": ""
             }
            }
           }
          ],
          "scattercarpet": [
           {
            "type": "scattercarpet",
            "marker": {
             "colorbar": {
              "outlinewidth": 0,
              "ticks": ""
             }
            }
           }
          ],
          "carpet": [
           {
            "aaxis": {
             "endlinecolor": "#2a3f5f",
             "gridcolor": "white",
             "linecolor": "white",
             "minorgridcolor": "white",
             "startlinecolor": "#2a3f5f"
            },
            "baxis": {
             "endlinecolor": "#2a3f5f",
             "gridcolor": "white",
             "linecolor": "white",
             "minorgridcolor": "white",
             "startlinecolor": "#2a3f5f"
            },
            "type": "carpet"
           }
          ],
          "table": [
           {
            "cells": {
             "fill": {
              "color": "#EBF0F8"
             },
             "line": {
              "color": "white"
             }
            },
            "header": {
             "fill": {
              "color": "#C8D4E3"
             },
             "line": {
              "color": "white"
             }
            },
            "type": "table"
           }
          ],
          "barpolar": [
           {
            "marker": {
             "line": {
              "color": "#E5ECF6",
              "width": 0.5
             },
             "pattern": {
              "fillmode": "overlay",
              "size": 10,
              "solidity": 0.2
             }
            },
            "type": "barpolar"
           }
          ],
          "pie": [
           {
            "automargin": true,
            "type": "pie"
           }
          ]
         },
         "layout": {
          "autotypenumbers": "strict",
          "colorway": [
           "#636efa",
           "#EF553B",
           "#00cc96",
           "#ab63fa",
           "#FFA15A",
           "#19d3f3",
           "#FF6692",
           "#B6E880",
           "#FF97FF",
           "#FECB52"
          ],
          "font": {
           "color": "#2a3f5f"
          },
          "hovermode": "closest",
          "hoverlabel": {
           "align": "left"
          },
          "paper_bgcolor": "white",
          "plot_bgcolor": "#E5ECF6",
          "polar": {
           "bgcolor": "#E5ECF6",
           "angularaxis": {
            "gridcolor": "white",
            "linecolor": "white",
            "ticks": ""
           },
           "radialaxis": {
            "gridcolor": "white",
            "linecolor": "white",
            "ticks": ""
           }
          },
          "ternary": {
           "bgcolor": "#E5ECF6",
           "aaxis": {
            "gridcolor": "white",
            "linecolor": "white",
            "ticks": ""
           },
           "baxis": {
            "gridcolor": "white",
            "linecolor": "white",
            "ticks": ""
           },
           "caxis": {
            "gridcolor": "white",
            "linecolor": "white",
            "ticks": ""
           }
          },
          "coloraxis": {
           "colorbar": {
            "outlinewidth": 0,
            "ticks": ""
           }
          },
          "colorscale": {
           "sequential": [
            [
             0.0,
             "#0d0887"
            ],
            [
             0.1111111111111111,
             "#46039f"
            ],
            [
             0.2222222222222222,
             "#7201a8"
            ],
            [
             0.3333333333333333,
             "#9c179e"
            ],
            [
             0.4444444444444444,
             "#bd3786"
            ],
            [
             0.5555555555555556,
             "#d8576b"
            ],
            [
             0.6666666666666666,
             "#ed7953"
            ],
            [
             0.7777777777777778,
             "#fb9f3a"
            ],
            [
             0.8888888888888888,
             "#fdca26"
            ],
            [
             1.0,
             "#f0f921"
            ]
           ],
           "sequentialminus": [
            [
             0.0,
             "#0d0887"
            ],
            [
             0.1111111111111111,
             "#46039f"
            ],
            [
             0.2222222222222222,
             "#7201a8"
            ],
            [
             0.3333333333333333,
             "#9c179e"
            ],
            [
             0.4444444444444444,
             "#bd3786"
            ],
            [
             0.5555555555555556,
             "#d8576b"
            ],
            [
             0.6666666666666666,
             "#ed7953"
            ],
            [
             0.7777777777777778,
             "#fb9f3a"
            ],
            [
             0.8888888888888888,
             "#fdca26"
            ],
            [
             1.0,
             "#f0f921"
            ]
           ],
           "diverging": [
            [
             0,
             "#8e0152"
            ],
            [
             0.1,
             "#c51b7d"
            ],
            [
             0.2,
             "#de77ae"
            ],
            [
             0.3,
             "#f1b6da"
            ],
            [
             0.4,
             "#fde0ef"
            ],
            [
             0.5,
             "#f7f7f7"
            ],
            [
             0.6,
             "#e6f5d0"
            ],
            [
             0.7,
             "#b8e186"
            ],
            [
             0.8,
             "#7fbc41"
            ],
            [
             0.9,
             "#4d9221"
            ],
            [
             1,
             "#276419"
            ]
           ]
          },
          "xaxis": {
           "gridcolor": "white",
           "linecolor": "white",
           "ticks": "",
           "title": {
            "standoff": 15
           },
           "zerolinecolor": "white",
           "automargin": true,
           "zerolinewidth": 2
          },
          "yaxis": {
           "gridcolor": "white",
           "linecolor": "white",
           "ticks": "",
           "title": {
            "standoff": 15
           },
           "zerolinecolor": "white",
           "automargin": true,
           "zerolinewidth": 2
          },
          "scene": {
           "xaxis": {
            "backgroundcolor": "#E5ECF6",
            "gridcolor": "white",
            "linecolor": "white",
            "showbackground": true,
            "ticks": "",
            "zerolinecolor": "white",
            "gridwidth": 2
           },
           "yaxis": {
            "backgroundcolor": "#E5ECF6",
            "gridcolor": "white",
            "linecolor": "white",
            "showbackground": true,
            "ticks": "",
            "zerolinecolor": "white",
            "gridwidth": 2
           },
           "zaxis": {
            "backgroundcolor": "#E5ECF6",
            "gridcolor": "white",
            "linecolor": "white",
            "showbackground": true,
            "ticks": "",
            "zerolinecolor": "white",
            "gridwidth": 2
           }
          },
          "shapedefaults": {
           "line": {
            "color": "#2a3f5f"
           }
          },
          "annotationdefaults": {
           "arrowcolor": "#2a3f5f",
           "arrowhead": 0,
           "arrowwidth": 1
          },
          "geo": {
           "bgcolor": "white",
           "landcolor": "#E5ECF6",
           "subunitcolor": "white",
           "showland": true,
           "showlakes": true,
           "lakecolor": "white"
          },
          "title": {
           "x": 0.05
          },
          "mapbox": {
           "style": "light"
          }
         }
        },
        "xaxis": {
         "anchor": "y",
         "domain": [
          0.0,
          1.0
         ],
         "title": {
          "text": "volatile acidity"
         }
        },
        "yaxis": {
         "anchor": "x",
         "domain": [
          0.0,
          1.0
         ],
         "title": {
          "text": "citric acid"
         }
        },
        "legend": {
         "title": {
          "text": "quality label"
         },
         "tracegroupgap": 0
        },
        "margin": {
         "t": 60
        }
       },
       "config": {
        "plotlyServerURL": "https://plot.ly"
       }
      }
     },
     "metadata": {},
     "output_type": "display_data",
     "jetTransient": {
      "display_id": null
     }
    }
   ],
   "execution_count": 29
  },
  {
   "metadata": {
    "ExecuteTime": {
     "end_time": "2025-09-18T10:41:55.060659Z",
     "start_time": "2025-09-18T10:41:55.057618Z"
    }
   },
   "cell_type": "code",
   "source": [
    "X = df.drop(columns=['quality label'])\n",
    "y = df['quality label']"
   ],
   "id": "9266f86acbd0342c",
   "outputs": [],
   "execution_count": 30
  },
  {
   "metadata": {
    "ExecuteTime": {
     "end_time": "2025-09-18T10:42:57.466863Z",
     "start_time": "2025-09-18T10:42:52.070689Z"
    }
   },
   "cell_type": "code",
   "source": [
    "from sklearn.model_selection import train_test_split\n",
    "\n",
    "X_train, X_test, y_train, y_test = train_test_split(X, y, test_size=0.2, random_state=12345, stratify=y) # stratification"
   ],
   "id": "9eb2746fc56819b6",
   "outputs": [],
   "execution_count": 31
  },
  {
   "metadata": {
    "ExecuteTime": {
     "end_time": "2025-09-18T10:43:11.151566Z",
     "start_time": "2025-09-18T10:43:11.146522Z"
    }
   },
   "cell_type": "code",
   "source": "y.value_counts(normalize=True), y_train.value_counts(normalize=True), y_test.value_counts(normalize=True)",
   "id": "a9f9f7da0ea117be",
   "outputs": [
    {
     "data": {
      "text/plain": [
       "(quality label\n",
       " normal       0.746223\n",
       " excellent    0.216415\n",
       " poor         0.037362\n",
       " Name: proportion, dtype: float64,\n",
       " quality label\n",
       " normal       0.746299\n",
       " excellent    0.216437\n",
       " poor         0.037264\n",
       " Name: proportion, dtype: float64,\n",
       " quality label\n",
       " normal       0.745918\n",
       " excellent    0.216327\n",
       " poor         0.037755\n",
       " Name: proportion, dtype: float64)"
      ]
     },
     "execution_count": 32,
     "metadata": {},
     "output_type": "execute_result"
    }
   ],
   "execution_count": 32
  },
  {
   "metadata": {
    "ExecuteTime": {
     "end_time": "2025-09-18T10:44:36.805856Z",
     "start_time": "2025-09-18T10:44:36.771394Z"
    }
   },
   "cell_type": "code",
   "source": [
    "# Fusion de X_train et y_train\n",
    "df_train = X_train.copy()\n",
    "df_train['quality label'] = y_train\n",
    "\n",
    "# Préparation de X_test avec '?' pour \"malevolent\"\n",
    "df_test = X_test.copy()\n",
    "df_test['quality label'] = '?'\n",
    "\n",
    "# Concaténation finale\n",
    "pd.concat([df_train, df_test], ignore_index=True).plot(kind='scatter', x='volatile acidity', y='citric acid', color='quality label')"
   ],
   "id": "b6f03ed2ffea349f",
   "outputs": [
    {
     "data": {
      "application/vnd.plotly.v1+json": {
       "data": [
        {
         "hovertemplate": "quality label=normal<br>volatile acidity=%{x}<br>citric acid=%{y}<extra></extra>",
         "legendgroup": "normal",
         "marker": {
          "color": "#636efa",
          "symbol": "circle"
         },
         "mode": "markers",
         "name": "normal",
         "showlegend": true,
         "x": {
          "dtype": "f8",
          "bdata": "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"
         },
         "xaxis": "x",
         "y": {
          "dtype": "f8",
          "bdata": "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"
         },
         "yaxis": "y",
         "type": "scattergl"
        },
        {
         "hovertemplate": "quality label=excellent<br>volatile acidity=%{x}<br>citric acid=%{y}<extra></extra>",
         "legendgroup": "excellent",
         "marker": {
          "color": "#EF553B",
          "symbol": "circle"
         },
         "mode": "markers",
         "name": "excellent",
         "showlegend": true,
         "x": {
          "dtype": "f8",
          "bdata": "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"
         },
         "xaxis": "x",
         "y": {
          "dtype": "f8",
          "bdata": "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"
         },
         "yaxis": "y",
         "type": "scattergl"
        },
        {
         "hovertemplate": "quality label=poor<br>volatile acidity=%{x}<br>citric acid=%{y}<extra></extra>",
         "legendgroup": "poor",
         "marker": {
          "color": "#00cc96",
          "symbol": "circle"
         },
         "mode": "markers",
         "name": "poor",
         "showlegend": true,
         "x": {
          "dtype": "f8",
          "bdata": "rkfhehSu4z8K16NwPQrfP5qZmZmZmdk/SOF6FK5H0T89CtejcD3aP+xRuB6F69E/j8L1KFyP0j/sUbgehevRP9ejcD0K19M/mpmZmZmZ4T/hehSuR+HKP5qZmZmZmck/MzMzMzMz4z/D9Shcj8LFP2ZmZmZmZtY/SOF6FK5H4T/sUbgehevRP9ejcD0K19M/9ihcj8L12D97FK5H4XrUP1K4HoXrUcg/exSuR+F61D+4HoXrUbjePxSuR+F6FPA/exSuR+F65D/hehSuR+HKPxSuR+F6FN4/KVyPwvUo5D8AAAAAAADQP83MzMzMzNw/cT0K16NwzT8K16NwPQrXP6RwPQrXo9A/ZmZmZmZm1j8K16NwPQrXP7gehetRuM4/7FG4HoXr0T/sUbgehevhP4XrUbgehcs/KVyPwvUozD+kcD0K16PQP7gehetRuM4/exSuR+F6xD97FK5H4XrkPylcj8L1KLw/cT0K16Nw5T/sUbgehevRPx+F61G4HtU/AAAAAAAA6D/D9Shcj8LVP5qZmZmZmeE/AAAAAAAA0D/sUbgehevRP4XrUbgehds/hetRuB6F4z9I4XoUrkfRP3sUrkfhetQ/hetRuB6F2z8fhetRuB7VP4/C9Shcj9I/cT0K16Nw5T/sUbgehevRP0jhehSuR9E/PQrXo3A94j+4HoXrUbjePzMzMzMzM9M/exSuR+F61D/D9Shcj8LVP7gehetRuN4/hetRuB6F2z9SuB6F61HYP5qZmZmZmck/exSuR+F65D9SuB6F61HYP0jhehSuR9k/SOF6FK5H0T/D9Shcj8LtP/YoXI/C9dg/hetRuB6F2z/Xo3A9CtfTP2ZmZmZmZtY/MzMzMzMz0z/D9Shcj8LVPwrXo3A9Csc/H4XrUbge1T9I4XoUrkfRP6RwPQrXo9A/9ihcj8L12D8pXI/C9SjMPx+F61G4HtU/MzMzMzMz0z9I4XoUrkfRP1yPwvUoXOc/exSuR+F61D9SuB6F61HIP4/C9Shcj+Y/SOF6FK5H0T+kcD0K16PQP+xRuB6F69E/9ihcj8L12D8fhetRuB7tPwAAAAAAAOA/uB6F61G4zj+amZmZmZnxP+xRuB6F69E/w/UoXI/C1T/2KFyPwvXgP/YoXI/C9eQ/exSuR+F61D+amZmZmZnZP8P1KFyPwsU/pHA9Ctej0D9cj8L1KFzfP+xRuB6F69E/mpmZmZmZyT8K16NwPQrjPwrXo3A9Csc/KVyPwvUozD8K16NwPQrXP1K4HoXrUdg/rkfhehSu4z9SuB6F61HQP7gehetRuM4/UrgehetR2D9SuB6F61HIP6RwPQrXo+A/j8L1KFyP0j9xPQrXo3DNP9ejcD0K19M/exSuR+F61D+PwvUoXI/SPx+F61G4HuU/cT0K16NwzT8pXI/C9SjkP+F6FK5H4eI/ZmZmZmZm1j97FK5H4XrUP7gehetRuM4/UrgehetR2D9SuB6F61HYPzMzMzMzM+M/AAAAAAAA0D8pXI/C9SjcP3E9CtejcM0/cT0K16NwzT9SuB6F61HYPw=="
         },
         "xaxis": "x",
         "y": {
          "dtype": "f8",
          "bdata": "mpmZmZmZuT8AAAAAAAAAANejcD0K1+M/UrgehetRyD8pXI/C9SjMPylcj8L1KOQ/mpmZmZmZ4T/hehSuR+HaP1yPwvUoXN8/CtejcD0Ktz/sUbgehevRP5qZmZmZmdk/AAAAAAAAAABcj8L1KFzfP/YoXI/C9dg/SOF6FK5H0T97FK5H4XrUP3E9CtejcM0/KVyPwvUozD+uR+F6FK7XP+F6FK5H4do/exSuR+F6xD+uR+F6FK7XP3E9CtejcN0/MzMzMzMz0z9mZmZmZmbWP5qZmZmZmbk/exSuR+F6pD+uR+F6FK7nP6RwPQrXo9A/pHA9Ctej0D9SuB6F61HYPwrXo3A9Ctc/UrgehetRyD9xPQrXo3DdP65H4XoUrtc/CtejcD0Kxz+4HoXrUbi+P3E9CtejcM0/KVyPwvUozD8pXI/C9SjcPwrXo3A9Csc/MzMzMzMz0z9cj8L1KFzfPxSuR+F6FN4/MzMzMzMz0z8AAAAAAADQPwrXo3A9Ctc/pHA9CtejwD+amZmZmZnJP8P1KFyPwsU/pHA9Ctej0D9cj8L1KFzfP1yPwvUoXN8/pHA9Ctej0D/NzMzMzMzcP7gehetRuM4/MzMzMzMz0z8K16NwPQrHP6RwPQrXo9A/7FG4HoXrsT8pXI/C9SjMP9ejcD0K19M/mpmZmZmZuT+uR+F6FK7XP+F6FK5H4eI/uB6F61G43j+amZmZmZnJP3sUrkfhepQ/KVyPwvUovD/sUbgehevBP8P1KFyPwtU/cT0K16Nw3T/D9Shcj8LFPwAAAAAAAAAAj8L1KFyP0j/NzMzMzMzcP5qZmZmZmdk/SOF6FK5H0T9xPQrXo3DdP3E9CtejcN0/MzMzMzMz0z8K16NwPQrXP4/C9Shcj9I/4XoUrkfh2j9SuB6F61HgP1yPwvUoXN8/uB6F61G4zj+amZmZmZnZPwrXo3A9Cuc/mpmZmZmZyT9SuB6F61HIP5qZmZmZmck/exSuR+F61D/hehSuR+HaPwAAAAAAANA/7FG4HoXr0T8AAAAAAADQP2ZmZmZmZtY/uB6F61G4zj/hehSuR+HaPwAAAAAAAAAAKVyPwvUo3D97FK5H4XrEP+xRuB6F69E/CtejcD0K1z+4HoXrUbjOPwAAAAAAAAAAw/UoXI/C1T/Xo3A9CtfjPxSuR+F6FN4/w/UoXI/C1T97FK5H4XrUP2ZmZmZmZtY/w/UoXI/C1T/sUbgehevBPzMzMzMzM9M/w/UoXI/C1T9I4XoUrkfhP/YoXI/C9eA/exSuR+F6pD+4HoXrUbjOP4/C9Shcj9I/7FG4HoXrwT8zMzMzMzPjP8P1KFyPwsU/exSuR+F6xD+4HoXrUbjOP3E9CtejcM0/FK5H4XoU3j8AAAAAAADQPwrXo3A9Cuc/UrgehetR2D97FK5H4XqkPwAAAAAAAAAAXI/C9Shc3z+kcD0K16PQP8P1KFyPwtU/CtejcD0Kxz8K16NwPQrHPylcj8L1KNw/uB6F61G4zj+uR+F6FK7XP2ZmZmZmZtY/rkfhehSu1z9xPQrXo3DNPw=="
         },
         "yaxis": "y",
         "type": "scattergl"
        },
        {
         "hovertemplate": "quality label=?<br>volatile acidity=%{x}<br>citric acid=%{y}<extra></extra>",
         "legendgroup": "?",
         "marker": {
          "color": "#ab63fa",
          "symbol": "circle"
         },
         "mode": "markers",
         "name": "?",
         "showlegend": true,
         "x": {
          "dtype": "f8",
          "bdata": "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"
         },
         "xaxis": "x",
         "y": {
          "dtype": "f8",
          "bdata": "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"
         },
         "yaxis": "y",
         "type": "scattergl"
        }
       ],
       "layout": {
        "template": {
         "data": {
          "histogram2dcontour": [
           {
            "type": "histogram2dcontour",
            "colorbar": {
             "outlinewidth": 0,
             "ticks": ""
            },
            "colorscale": [
             [
              0.0,
              "#0d0887"
             ],
             [
              0.1111111111111111,
              "#46039f"
             ],
             [
              0.2222222222222222,
              "#7201a8"
             ],
             [
              0.3333333333333333,
              "#9c179e"
             ],
             [
              0.4444444444444444,
              "#bd3786"
             ],
             [
              0.5555555555555556,
              "#d8576b"
             ],
             [
              0.6666666666666666,
              "#ed7953"
             ],
             [
              0.7777777777777778,
              "#fb9f3a"
             ],
             [
              0.8888888888888888,
              "#fdca26"
             ],
             [
              1.0,
              "#f0f921"
             ]
            ]
           }
          ],
          "choropleth": [
           {
            "type": "choropleth",
            "colorbar": {
             "outlinewidth": 0,
             "ticks": ""
            }
           }
          ],
          "histogram2d": [
           {
            "type": "histogram2d",
            "colorbar": {
             "outlinewidth": 0,
             "ticks": ""
            },
            "colorscale": [
             [
              0.0,
              "#0d0887"
             ],
             [
              0.1111111111111111,
              "#46039f"
             ],
             [
              0.2222222222222222,
              "#7201a8"
             ],
             [
              0.3333333333333333,
              "#9c179e"
             ],
             [
              0.4444444444444444,
              "#bd3786"
             ],
             [
              0.5555555555555556,
              "#d8576b"
             ],
             [
              0.6666666666666666,
              "#ed7953"
             ],
             [
              0.7777777777777778,
              "#fb9f3a"
             ],
             [
              0.8888888888888888,
              "#fdca26"
             ],
             [
              1.0,
              "#f0f921"
             ]
            ]
           }
          ],
          "heatmap": [
           {
            "type": "heatmap",
            "colorbar": {
             "outlinewidth": 0,
             "ticks": ""
            },
            "colorscale": [
             [
              0.0,
              "#0d0887"
             ],
             [
              0.1111111111111111,
              "#46039f"
             ],
             [
              0.2222222222222222,
              "#7201a8"
             ],
             [
              0.3333333333333333,
              "#9c179e"
             ],
             [
              0.4444444444444444,
              "#bd3786"
             ],
             [
              0.5555555555555556,
              "#d8576b"
             ],
             [
              0.6666666666666666,
              "#ed7953"
             ],
             [
              0.7777777777777778,
              "#fb9f3a"
             ],
             [
              0.8888888888888888,
              "#fdca26"
             ],
             [
              1.0,
              "#f0f921"
             ]
            ]
           }
          ],
          "contourcarpet": [
           {
            "type": "contourcarpet",
            "colorbar": {
             "outlinewidth": 0,
             "ticks": ""
            }
           }
          ],
          "contour": [
           {
            "type": "contour",
            "colorbar": {
             "outlinewidth": 0,
             "ticks": ""
            },
            "colorscale": [
             [
              0.0,
              "#0d0887"
             ],
             [
              0.1111111111111111,
              "#46039f"
             ],
             [
              0.2222222222222222,
              "#7201a8"
             ],
             [
              0.3333333333333333,
              "#9c179e"
             ],
             [
              0.4444444444444444,
              "#bd3786"
             ],
             [
              0.5555555555555556,
              "#d8576b"
             ],
             [
              0.6666666666666666,
              "#ed7953"
             ],
             [
              0.7777777777777778,
              "#fb9f3a"
             ],
             [
              0.8888888888888888,
              "#fdca26"
             ],
             [
              1.0,
              "#f0f921"
             ]
            ]
           }
          ],
          "surface": [
           {
            "type": "surface",
            "colorbar": {
             "outlinewidth": 0,
             "ticks": ""
            },
            "colorscale": [
             [
              0.0,
              "#0d0887"
             ],
             [
              0.1111111111111111,
              "#46039f"
             ],
             [
              0.2222222222222222,
              "#7201a8"
             ],
             [
              0.3333333333333333,
              "#9c179e"
             ],
             [
              0.4444444444444444,
              "#bd3786"
             ],
             [
              0.5555555555555556,
              "#d8576b"
             ],
             [
              0.6666666666666666,
              "#ed7953"
             ],
             [
              0.7777777777777778,
              "#fb9f3a"
             ],
             [
              0.8888888888888888,
              "#fdca26"
             ],
             [
              1.0,
              "#f0f921"
             ]
            ]
           }
          ],
          "mesh3d": [
           {
            "type": "mesh3d",
            "colorbar": {
             "outlinewidth": 0,
             "ticks": ""
            }
           }
          ],
          "scatter": [
           {
            "fillpattern": {
             "fillmode": "overlay",
             "size": 10,
             "solidity": 0.2
            },
            "type": "scatter"
           }
          ],
          "parcoords": [
           {
            "type": "parcoords",
            "line": {
             "colorbar": {
              "outlinewidth": 0,
              "ticks": ""
             }
            }
           }
          ],
          "scatterpolargl": [
           {
            "type": "scatterpolargl",
            "marker": {
             "colorbar": {
              "outlinewidth": 0,
              "ticks": ""
             }
            }
           }
          ],
          "bar": [
           {
            "error_x": {
             "color": "#2a3f5f"
            },
            "error_y": {
             "color": "#2a3f5f"
            },
            "marker": {
             "line": {
              "color": "#E5ECF6",
              "width": 0.5
             },
             "pattern": {
              "fillmode": "overlay",
              "size": 10,
              "solidity": 0.2
             }
            },
            "type": "bar"
           }
          ],
          "scattergeo": [
           {
            "type": "scattergeo",
            "marker": {
             "colorbar": {
              "outlinewidth": 0,
              "ticks": ""
             }
            }
           }
          ],
          "scatterpolar": [
           {
            "type": "scatterpolar",
            "marker": {
             "colorbar": {
              "outlinewidth": 0,
              "ticks": ""
             }
            }
           }
          ],
          "histogram": [
           {
            "marker": {
             "pattern": {
              "fillmode": "overlay",
              "size": 10,
              "solidity": 0.2
             }
            },
            "type": "histogram"
           }
          ],
          "scattergl": [
           {
            "type": "scattergl",
            "marker": {
             "colorbar": {
              "outlinewidth": 0,
              "ticks": ""
             }
            }
           }
          ],
          "scatter3d": [
           {
            "type": "scatter3d",
            "line": {
             "colorbar": {
              "outlinewidth": 0,
              "ticks": ""
             }
            },
            "marker": {
             "colorbar": {
              "outlinewidth": 0,
              "ticks": ""
             }
            }
           }
          ],
          "scattermap": [
           {
            "type": "scattermap",
            "marker": {
             "colorbar": {
              "outlinewidth": 0,
              "ticks": ""
             }
            }
           }
          ],
          "scattermapbox": [
           {
            "type": "scattermapbox",
            "marker": {
             "colorbar": {
              "outlinewidth": 0,
              "ticks": ""
             }
            }
           }
          ],
          "scatterternary": [
           {
            "type": "scatterternary",
            "marker": {
             "colorbar": {
              "outlinewidth": 0,
              "ticks": ""
             }
            }
           }
          ],
          "scattercarpet": [
           {
            "type": "scattercarpet",
            "marker": {
             "colorbar": {
              "outlinewidth": 0,
              "ticks": ""
             }
            }
           }
          ],
          "carpet": [
           {
            "aaxis": {
             "endlinecolor": "#2a3f5f",
             "gridcolor": "white",
             "linecolor": "white",
             "minorgridcolor": "white",
             "startlinecolor": "#2a3f5f"
            },
            "baxis": {
             "endlinecolor": "#2a3f5f",
             "gridcolor": "white",
             "linecolor": "white",
             "minorgridcolor": "white",
             "startlinecolor": "#2a3f5f"
            },
            "type": "carpet"
           }
          ],
          "table": [
           {
            "cells": {
             "fill": {
              "color": "#EBF0F8"
             },
             "line": {
              "color": "white"
             }
            },
            "header": {
             "fill": {
              "color": "#C8D4E3"
             },
             "line": {
              "color": "white"
             }
            },
            "type": "table"
           }
          ],
          "barpolar": [
           {
            "marker": {
             "line": {
              "color": "#E5ECF6",
              "width": 0.5
             },
             "pattern": {
              "fillmode": "overlay",
              "size": 10,
              "solidity": 0.2
             }
            },
            "type": "barpolar"
           }
          ],
          "pie": [
           {
            "automargin": true,
            "type": "pie"
           }
          ]
         },
         "layout": {
          "autotypenumbers": "strict",
          "colorway": [
           "#636efa",
           "#EF553B",
           "#00cc96",
           "#ab63fa",
           "#FFA15A",
           "#19d3f3",
           "#FF6692",
           "#B6E880",
           "#FF97FF",
           "#FECB52"
          ],
          "font": {
           "color": "#2a3f5f"
          },
          "hovermode": "closest",
          "hoverlabel": {
           "align": "left"
          },
          "paper_bgcolor": "white",
          "plot_bgcolor": "#E5ECF6",
          "polar": {
           "bgcolor": "#E5ECF6",
           "angularaxis": {
            "gridcolor": "white",
            "linecolor": "white",
            "ticks": ""
           },
           "radialaxis": {
            "gridcolor": "white",
            "linecolor": "white",
            "ticks": ""
           }
          },
          "ternary": {
           "bgcolor": "#E5ECF6",
           "aaxis": {
            "gridcolor": "white",
            "linecolor": "white",
            "ticks": ""
           },
           "baxis": {
            "gridcolor": "white",
            "linecolor": "white",
            "ticks": ""
           },
           "caxis": {
            "gridcolor": "white",
            "linecolor": "white",
            "ticks": ""
           }
          },
          "coloraxis": {
           "colorbar": {
            "outlinewidth": 0,
            "ticks": ""
           }
          },
          "colorscale": {
           "sequential": [
            [
             0.0,
             "#0d0887"
            ],
            [
             0.1111111111111111,
             "#46039f"
            ],
            [
             0.2222222222222222,
             "#7201a8"
            ],
            [
             0.3333333333333333,
             "#9c179e"
            ],
            [
             0.4444444444444444,
             "#bd3786"
            ],
            [
             0.5555555555555556,
             "#d8576b"
            ],
            [
             0.6666666666666666,
             "#ed7953"
            ],
            [
             0.7777777777777778,
             "#fb9f3a"
            ],
            [
             0.8888888888888888,
             "#fdca26"
            ],
            [
             1.0,
             "#f0f921"
            ]
           ],
           "sequentialminus": [
            [
             0.0,
             "#0d0887"
            ],
            [
             0.1111111111111111,
             "#46039f"
            ],
            [
             0.2222222222222222,
             "#7201a8"
            ],
            [
             0.3333333333333333,
             "#9c179e"
            ],
            [
             0.4444444444444444,
             "#bd3786"
            ],
            [
             0.5555555555555556,
             "#d8576b"
            ],
            [
             0.6666666666666666,
             "#ed7953"
            ],
            [
             0.7777777777777778,
             "#fb9f3a"
            ],
            [
             0.8888888888888888,
             "#fdca26"
            ],
            [
             1.0,
             "#f0f921"
            ]
           ],
           "diverging": [
            [
             0,
             "#8e0152"
            ],
            [
             0.1,
             "#c51b7d"
            ],
            [
             0.2,
             "#de77ae"
            ],
            [
             0.3,
             "#f1b6da"
            ],
            [
             0.4,
             "#fde0ef"
            ],
            [
             0.5,
             "#f7f7f7"
            ],
            [
             0.6,
             "#e6f5d0"
            ],
            [
             0.7,
             "#b8e186"
            ],
            [
             0.8,
             "#7fbc41"
            ],
            [
             0.9,
             "#4d9221"
            ],
            [
             1,
             "#276419"
            ]
           ]
          },
          "xaxis": {
           "gridcolor": "white",
           "linecolor": "white",
           "ticks": "",
           "title": {
            "standoff": 15
           },
           "zerolinecolor": "white",
           "automargin": true,
           "zerolinewidth": 2
          },
          "yaxis": {
           "gridcolor": "white",
           "linecolor": "white",
           "ticks": "",
           "title": {
            "standoff": 15
           },
           "zerolinecolor": "white",
           "automargin": true,
           "zerolinewidth": 2
          },
          "scene": {
           "xaxis": {
            "backgroundcolor": "#E5ECF6",
            "gridcolor": "white",
            "linecolor": "white",
            "showbackground": true,
            "ticks": "",
            "zerolinecolor": "white",
            "gridwidth": 2
           },
           "yaxis": {
            "backgroundcolor": "#E5ECF6",
            "gridcolor": "white",
            "linecolor": "white",
            "showbackground": true,
            "ticks": "",
            "zerolinecolor": "white",
            "gridwidth": 2
           },
           "zaxis": {
            "backgroundcolor": "#E5ECF6",
            "gridcolor": "white",
            "linecolor": "white",
            "showbackground": true,
            "ticks": "",
            "zerolinecolor": "white",
            "gridwidth": 2
           }
          },
          "shapedefaults": {
           "line": {
            "color": "#2a3f5f"
           }
          },
          "annotationdefaults": {
           "arrowcolor": "#2a3f5f",
           "arrowhead": 0,
           "arrowwidth": 1
          },
          "geo": {
           "bgcolor": "white",
           "landcolor": "#E5ECF6",
           "subunitcolor": "white",
           "showland": true,
           "showlakes": true,
           "lakecolor": "white"
          },
          "title": {
           "x": 0.05
          },
          "mapbox": {
           "style": "light"
          }
         }
        },
        "xaxis": {
         "anchor": "y",
         "domain": [
          0.0,
          1.0
         ],
         "title": {
          "text": "volatile acidity"
         }
        },
        "yaxis": {
         "anchor": "x",
         "domain": [
          0.0,
          1.0
         ],
         "title": {
          "text": "citric acid"
         }
        },
        "legend": {
         "title": {
          "text": "quality label"
         },
         "tracegroupgap": 0
        },
        "margin": {
         "t": 60
        }
       },
       "config": {
        "plotlyServerURL": "https://plot.ly"
       }
      }
     },
     "metadata": {},
     "output_type": "display_data",
     "jetTransient": {
      "display_id": null
     }
    }
   ],
   "execution_count": 37
  },
  {
   "metadata": {},
   "cell_type": "code",
   "outputs": [],
   "execution_count": null,
   "source": "",
   "id": "1b15e9fcb610293c"
  }
 ],
 "metadata": {
  "kernelspec": {
   "display_name": "Python 3",
   "language": "python",
   "name": "python3"
  },
  "language_info": {
   "codemirror_mode": {
    "name": "ipython",
    "version": 2
   },
   "file_extension": ".py",
   "mimetype": "text/x-python",
   "name": "python",
   "nbconvert_exporter": "python",
   "pygments_lexer": "ipython2",
   "version": "2.7.6"
  }
 },
 "nbformat": 4,
 "nbformat_minor": 5
}
